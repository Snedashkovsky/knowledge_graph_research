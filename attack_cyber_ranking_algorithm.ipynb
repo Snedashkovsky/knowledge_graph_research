{
 "cells": [
  {
   "cell_type": "markdown",
   "source": [
    "# Attack Cyber Ranking Algorithm"
   ],
   "metadata": {
    "collapsed": false
   }
  },
  {
   "cell_type": "code",
   "execution_count": 1,
   "outputs": [],
   "source": [
    "import numpy as np\n",
    "import itertools\n",
    "from tqdm.notebook import tqdm\n",
    "from IPython.display import HTML, display\n",
    "\n",
    "from src.utils_graphql import get_relevance, get_relevance_score\n",
    "from src.utils_cyber import create_cls\n",
    "from config import ipfs_client\n",
    "\n",
    "GET_IPFS_HASHES = False"
   ],
   "metadata": {
    "collapsed": false
   }
  },
  {
   "cell_type": "markdown",
   "metadata": {
    "collapsed": true
   },
   "source": [
    "## Get Top Vertices by Rank"
   ]
  },
  {
   "cell_type": "code",
   "execution_count": 2,
   "outputs": [
    {
     "name": "stdout",
     "output_type": "stream",
     "text": [
      "Number of TOP Vertices 999\n"
     ]
    },
    {
     "data": {
      "text/plain": "<IPython.core.display.HTML object>",
      "text/html": "<table border=\"1\" class=\"dataframe\">\n  <thead>\n    <tr style=\"text-align: right;\">\n      <th>object</th>\n      <th>rank</th>\n      <th>id</th>\n      <th>height</th>\n    </tr>\n  </thead>\n  <tbody>\n    <tr>\n      <td>QmPwqzcYp9E5pC92Yr5V32QaHM1GvYc1nYXXRt7ruadfaj</td>\n      <td>0.000013</td>\n      <td>21333646</td>\n      <td>6100000</td>\n    </tr>\n    <tr>\n      <td>QmUJGctjs5Taw7TZqGSAp1b9ZcY2Nn9kh8mapnJdAxeq8M</td>\n      <td>0.000012</td>\n      <td>21333647</td>\n      <td>6100000</td>\n    </tr>\n    <tr>\n      <td>QmRj3uo8EZ5wASov9JY8aaczSBc8ELUV4VFNpPz8CRS3dv</td>\n      <td>0.000012</td>\n      <td>21333648</td>\n      <td>6100000</td>\n    </tr>\n    <tr>\n      <td>QmcDdJE5FsEESMdmWJc8jeoSdN3pXtNrttjjq2NZwfHQvV</td>\n      <td>0.000006</td>\n      <td>21333649</td>\n      <td>6100000</td>\n    </tr>\n    <tr>\n      <td>QmcWjKqQ1buBX1Jn79wiHDARvBTwuNGxvEnMiWLVkhe3gm</td>\n      <td>0.000005</td>\n      <td>21333650</td>\n      <td>6100000</td>\n    </tr>\n    <tr>\n      <td>QmSQ8XoaYmD7u8sYzmzMPFxqUTLB1Y1E52JnuBJ93W2RwE</td>\n      <td>0.000005</td>\n      <td>21333651</td>\n      <td>6100000</td>\n    </tr>\n    <tr>\n      <td>QmbSxUfAuCCYiRqXG6Q6HiPEzrGeaaVZgLLiepAVL6MTLi</td>\n      <td>0.000005</td>\n      <td>21333652</td>\n      <td>6100000</td>\n    </tr>\n    <tr>\n      <td>QmP1eXa6vHDrqaXU5ZBa87VVWu7YtFf9bLWvCYP7WMQ4pq</td>\n      <td>0.000005</td>\n      <td>21333653</td>\n      <td>6100000</td>\n    </tr>\n    <tr>\n      <td>QmX6RBsiE4iDMrMxmEPsWZ8bdeMn9X2qD3npSJnWqD78yF</td>\n      <td>0.000005</td>\n      <td>21333654</td>\n      <td>6100000</td>\n    </tr>\n    <tr>\n      <td>QmPw4e5rHR8e34xmLpEGuhw6ZDywTZf2RASisMdwQgxM1e</td>\n      <td>0.000005</td>\n      <td>21333655</td>\n      <td>6100000</td>\n    </tr>\n  </tbody>\n</table>"
     },
     "metadata": {},
     "output_type": "display_data"
    }
   ],
   "source": [
    "top_vertices = await get_relevance(height=6_100_000)\n",
    "print(f'Number of TOP Vertices {len(top_vertices)}')\n",
    "display(HTML(top_vertices.head(10).to_html(index=False)))"
   ],
   "metadata": {
    "collapsed": false
   }
  },
  {
   "cell_type": "markdown",
   "source": [
    "## Get IPFS Addresses for Attacking Vertices"
   ],
   "metadata": {
    "collapsed": false
   }
  },
  {
   "cell_type": "code",
   "execution_count": 3,
   "outputs": [],
   "source": [
    "if GET_IPFS_HASHES:\n",
    "    number_attacking_hashes = 10\n",
    "    ipfs_attacking_hashes = list()\n",
    "    for i in range(1, number_attacking_hashes + 1):\n",
    "        ipfs_attacking_hash = \\\n",
    "            ipfs_client.add_str(\n",
    "                f'The Vertex №{i} to testing attack the cyber algorithm, '\n",
    "                f'code here https://github.com/Snedashkovsky/knowledge_graph_research',\n",
    "                print_message=False)\n",
    "        if ipfs_attacking_hash:\n",
    "            ipfs_attacking_hashes.append(ipfs_attacking_hash)\n",
    "    print(ipfs_attacking_hashes)\n",
    "else:\n",
    "    ipfs_attacking_hashes = \\\n",
    "        ['QmXKoKZn2JrTViLVzjnqifSxJCSNpzSGDXBrimWPGVP7PX',\n",
    "         'QmeYopqqehSeq6nYLryo1guNCVhGkvKYgGgkuBmGT9BtoH',\n",
    "         'QmXMWatMQqwdcjimYCTiw7qgufGdBnsvktcnSoC2KjhVxG',\n",
    "         'Qme2HAPo5NQkCZsLQoaWMkq627yVNUgxjEgQtj1VXTKjkp',\n",
    "         'QmX6RBsiE4iDMrMxmEPsWZ8bdeMn9X2qD3npSJnWqD78yF',\n",
    "         'QmbSxUfAuCCYiRqXG6Q6HiPEzrGeaaVZgLLiepAVL6MTLi',\n",
    "         'QmPw4e5rHR8e34xmLpEGuhw6ZDywTZf2RASisMdwQgxM1e',\n",
    "         'QmP1eXa6vHDrqaXU5ZBa87VVWu7YtFf9bLWvCYP7WMQ4pq',\n",
    "         'QmWY8GkQPUzx9dkBH1YqohpHwdby1wc6Ne3EdhpCwP5A7d',\n",
    "         'QmWjqiLk91aYv4Q7QLdi7X3MhVW1xk5nha3FjG5K24ZKPe']"
   ],
   "metadata": {
    "collapsed": false
   }
  },
  {
   "cell_type": "markdown",
   "source": [
    "## Create Links between Attacking Vertices"
   ],
   "metadata": {
    "collapsed": false
   }
  },
  {
   "cell_type": "code",
   "execution_count": null,
   "outputs": [],
   "source": [
    "attacking_link_candidates = list(itertools.combinations(np.sort(ipfs_attacking_hashes), 2))\n",
    "attacking_link_candidates.extend([list(reversed(item)) for item in attacking_link_candidates])\n",
    "create_cls(link_candidates=attacking_link_candidates, account_name='groovybear', print_message=False)"
   ],
   "metadata": {
    "collapsed": false
   }
  },
  {
   "cell_type": "markdown",
   "source": [
    "## Create Links from Top Vertices to Attacking Vertices"
   ],
   "metadata": {
    "collapsed": false
   }
  },
  {
   "cell_type": "code",
   "execution_count": null,
   "outputs": [],
   "source": [
    "ADD_REVERSE_LINKS = False\n",
    "\n",
    "for i in tqdm(range(100)):\n",
    "    start_vertex = i * 10\n",
    "    end_vertex = (i + 1) * 10\n",
    "    attacking_link_candidates = \\\n",
    "        list(\n",
    "            itertools.product(\n",
    "                top_vertices[~top_vertices.object.isin(ipfs_attacking_hashes)].object[start_vertex:end_vertex].values,\n",
    "                ipfs_attacking_hashes))\n",
    "    if ADD_REVERSE_LINKS:\n",
    "        attacking_link_candidates.extend([list(reversed(item)) for item in attacking_link_candidates])\n",
    "    print(f' From {start_vertex} to {end_vertex} Top Vertices, will be generated {len(attacking_link_candidates)} cyberLinks')\n",
    "    create_cls(link_candidates=attacking_link_candidates, account_name='groovybear', print_message=False)"
   ],
   "metadata": {
    "collapsed": false
   }
  },
  {
   "cell_type": "markdown",
   "source": [
    "## Result calculation"
   ],
   "metadata": {
    "collapsed": false
   },
   "outputs": [],
   "execution_count": 1
  },
  {
   "cell_type": "code",
   "execution_count": 4,
   "outputs": [
    {
     "name": "stdout",
     "output_type": "stream",
     "text": [
      "Researcher Score 0.0756\n",
      "\n",
      "Top Vertices\n"
     ]
    },
    {
     "data": {
      "text/plain": "<IPython.core.display.HTML object>",
      "text/html": "<table border=\"1\" class=\"dataframe\">\n  <thead>\n    <tr style=\"text-align: right;\">\n      <th></th>\n      <th>object</th>\n      <th>rank</th>\n      <th>id</th>\n      <th>height</th>\n    </tr>\n  </thead>\n  <tbody>\n    <tr>\n      <th>0</th>\n      <td>QmRcXFdS8JXNg9P8nYKLSmiFksCghtbZKZHyyzoDFeNTde</td>\n      <td>0.000060</td>\n      <td>31282687</td>\n      <td>6200000</td>\n    </tr>\n    <tr>\n      <th>1</th>\n      <td>QmPwqzcYp9E5pC92Yr5V32QaHM1GvYc1nYXXRt7ruadfaj</td>\n      <td>0.000013</td>\n      <td>31282688</td>\n      <td>6200000</td>\n    </tr>\n    <tr>\n      <th>2</th>\n      <td>QmUJGctjs5Taw7TZqGSAp1b9ZcY2Nn9kh8mapnJdAxeq8M</td>\n      <td>0.000013</td>\n      <td>31282689</td>\n      <td>6200000</td>\n    </tr>\n    <tr>\n      <th>3</th>\n      <td>QmRj3uo8EZ5wASov9JY8aaczSBc8ELUV4VFNpPz8CRS3dv</td>\n      <td>0.000013</td>\n      <td>31282690</td>\n      <td>6200000</td>\n    </tr>\n    <tr>\n      <th>4</th>\n      <td>QmWmhJWwfnwW4H4njSBeDSYSc7ntrxsJp3ZmorkCpQd783</td>\n      <td>0.000012</td>\n      <td>31282691</td>\n      <td>6200000</td>\n    </tr>\n    <tr>\n      <th>5</th>\n      <td>QmP1eXa6vHDrqaXU5ZBa87VVWu7YtFf9bLWvCYP7WMQ4pq</td>\n      <td>0.000010</td>\n      <td>31282692</td>\n      <td>6200000</td>\n    </tr>\n    <tr>\n      <th>6</th>\n      <td>QmbSxUfAuCCYiRqXG6Q6HiPEzrGeaaVZgLLiepAVL6MTLi</td>\n      <td>0.000010</td>\n      <td>31282693</td>\n      <td>6200000</td>\n    </tr>\n    <tr>\n      <th>7</th>\n      <td>QmeYopqqehSeq6nYLryo1guNCVhGkvKYgGgkuBmGT9BtoH</td>\n      <td>0.000010</td>\n      <td>31282694</td>\n      <td>6200000</td>\n    </tr>\n    <tr>\n      <th>8</th>\n      <td>QmXMWatMQqwdcjimYCTiw7qgufGdBnsvktcnSoC2KjhVxG</td>\n      <td>0.000010</td>\n      <td>31282695</td>\n      <td>6200000</td>\n    </tr>\n    <tr>\n      <th>9</th>\n      <td>QmWY8GkQPUzx9dkBH1YqohpHwdby1wc6Ne3EdhpCwP5A7d</td>\n      <td>0.000010</td>\n      <td>31282696</td>\n      <td>6200000</td>\n    </tr>\n  </tbody>\n</table>"
     },
     "metadata": {},
     "output_type": "display_data"
    },
    {
     "name": "stdout",
     "output_type": "stream",
     "text": [
      "\n",
      "Attacking Vertices in Top\n"
     ]
    },
    {
     "data": {
      "text/plain": "<IPython.core.display.HTML object>",
      "text/html": "<table border=\"1\" class=\"dataframe\">\n  <thead>\n    <tr style=\"text-align: right;\">\n      <th></th>\n      <th>object</th>\n      <th>rank</th>\n      <th>id</th>\n      <th>height</th>\n    </tr>\n  </thead>\n  <tbody>\n    <tr>\n      <th>5</th>\n      <td>QmP1eXa6vHDrqaXU5ZBa87VVWu7YtFf9bLWvCYP7WMQ4pq</td>\n      <td>0.000010</td>\n      <td>31282692</td>\n      <td>6200000</td>\n    </tr>\n    <tr>\n      <th>6</th>\n      <td>QmbSxUfAuCCYiRqXG6Q6HiPEzrGeaaVZgLLiepAVL6MTLi</td>\n      <td>0.000010</td>\n      <td>31282693</td>\n      <td>6200000</td>\n    </tr>\n    <tr>\n      <th>7</th>\n      <td>QmeYopqqehSeq6nYLryo1guNCVhGkvKYgGgkuBmGT9BtoH</td>\n      <td>0.000010</td>\n      <td>31282694</td>\n      <td>6200000</td>\n    </tr>\n    <tr>\n      <th>8</th>\n      <td>QmXMWatMQqwdcjimYCTiw7qgufGdBnsvktcnSoC2KjhVxG</td>\n      <td>0.000010</td>\n      <td>31282695</td>\n      <td>6200000</td>\n    </tr>\n    <tr>\n      <th>9</th>\n      <td>QmWY8GkQPUzx9dkBH1YqohpHwdby1wc6Ne3EdhpCwP5A7d</td>\n      <td>0.000010</td>\n      <td>31282696</td>\n      <td>6200000</td>\n    </tr>\n    <tr>\n      <th>11</th>\n      <td>QmX6RBsiE4iDMrMxmEPsWZ8bdeMn9X2qD3npSJnWqD78yF</td>\n      <td>0.000010</td>\n      <td>31282698</td>\n      <td>6200000</td>\n    </tr>\n    <tr>\n      <th>12</th>\n      <td>QmWjqiLk91aYv4Q7QLdi7X3MhVW1xk5nha3FjG5K24ZKPe</td>\n      <td>0.000010</td>\n      <td>31282699</td>\n      <td>6200000</td>\n    </tr>\n    <tr>\n      <th>13</th>\n      <td>QmXKoKZn2JrTViLVzjnqifSxJCSNpzSGDXBrimWPGVP7PX</td>\n      <td>0.000010</td>\n      <td>31282700</td>\n      <td>6200000</td>\n    </tr>\n    <tr>\n      <th>14</th>\n      <td>Qme2HAPo5NQkCZsLQoaWMkq627yVNUgxjEgQtj1VXTKjkp</td>\n      <td>0.000009</td>\n      <td>31282701</td>\n      <td>6200000</td>\n    </tr>\n    <tr>\n      <th>15</th>\n      <td>QmPw4e5rHR8e34xmLpEGuhw6ZDywTZf2RASisMdwQgxM1e</td>\n      <td>0.000009</td>\n      <td>31282702</td>\n      <td>6200000</td>\n    </tr>\n  </tbody>\n</table>"
     },
     "metadata": {},
     "output_type": "display_data"
    }
   ],
   "source": [
    "print(f'Researcher Score {await get_relevance_score():>,.4f}\\n\\nTop Vertices')\n",
    "top_vertices_result_df = await get_relevance(6200000)\n",
    "display(HTML(top_vertices_result_df.head(10).to_html()))\n",
    "print(f'\\nAttacking Vertices in Top')\n",
    "display(HTML(top_vertices_result_df[top_vertices_result_df.object.isin(ipfs_attacking_hashes)].to_html()))\n",
    "\n"
   ],
   "metadata": {
    "collapsed": false
   }
  },
  {
   "cell_type": "code",
   "execution_count": null,
   "outputs": [],
   "source": [],
   "metadata": {
    "collapsed": false
   }
  }
 ],
 "metadata": {
  "kernelspec": {
   "display_name": "Python 3",
   "language": "python",
   "name": "python3"
  },
  "language_info": {
   "codemirror_mode": {
    "name": "ipython",
    "version": 2
   },
   "file_extension": ".py",
   "mimetype": "text/x-python",
   "name": "python",
   "nbconvert_exporter": "python",
   "pygments_lexer": "ipython2",
   "version": "2.7.6"
  }
 },
 "nbformat": 4,
 "nbformat_minor": 0
}
