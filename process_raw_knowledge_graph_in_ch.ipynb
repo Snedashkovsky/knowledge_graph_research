{
 "cells": [
  {
   "cell_type": "markdown",
   "metadata": {
    "collapsed": true,
    "pycharm": {
     "name": "#%%\nmd\n"
    }
   },
   "source": [
    "# Process Raw Knowledge Graphs in Clickhouse"
   ]
  },
  {
   "cell_type": "code",
   "execution_count": 7,
   "outputs": [],
   "source": [
    "from clickhouse_driver import Client\n",
    "from pandas import DataFrame\n",
    "from IPython.display import HTML"
   ],
   "metadata": {
    "collapsed": false,
    "pycharm": {
     "name": "#%%\n"
    }
   }
  },
  {
   "cell_type": "code",
   "execution_count": 2,
   "outputs": [],
   "source": [
    "CLICKHOUSE_HOST = 'localhost'\n",
    "COMPRESSION = 'lz4'\n",
    "DROP_TABLE = True\n",
    "CREATE_TABLE = True\n",
    "INSERT_INTO_TABLES = True\n",
    "client = Client(host=CLICKHOUSE_HOST)\n",
    "execute = client.execute"
   ],
   "metadata": {
    "collapsed": false,
    "pycharm": {
     "name": "#%%\n"
    }
   }
  },
  {
   "cell_type": "markdown",
   "source": [
    "## Drop and Create the knowledge_graph_raw table"
   ],
   "metadata": {
    "collapsed": false
   }
  },
  {
   "cell_type": "code",
   "execution_count": 3,
   "outputs": [],
   "source": [
    "def load_from_ch_to_df(sql_query, columns=None):\n",
    "    return DataFrame(execute(sql_query), columns=columns)\n",
    "\n",
    "if DROP_TABLE:\n",
    "    execute('DROP TABLE IF EXISTS knowledge_graph_processed')\n",
    "    execute('DROP TABLE IF EXISTS subject_processed_agg')\n",
    "    execute('DROP TABLE IF EXISTS filtered_processed_nodes')\n",
    "    execute('DROP TABLE IF EXISTS knowledge_graph_processed_filtered')\n",
    "\n",
    "if CREATE_TABLE:\n",
    "    execute('''\n",
    "            CREATE TABLE IF NOT EXISTS knowledge_graph_processed(\n",
    "                source String,\n",
    "                subject String,\n",
    "                predicate String,\n",
    "                object String)\n",
    "            ENGINE = ReplacingMergeTree()\n",
    "            ORDER BY (source, subject, predicate, object);\n",
    "            ''')\n",
    "    execute('''\n",
    "            CREATE TABLE IF NOT EXISTS subject_processed_agg(\n",
    "                subject String,\n",
    "                number Int64)\n",
    "            ENGINE = ReplacingMergeTree()\n",
    "            ORDER BY (subject);\n",
    "            ''')\n",
    "    execute('''\n",
    "            CREATE TABLE IF NOT EXISTS filtered_processed_nodes(\n",
    "                node String)\n",
    "            ENGINE = ReplacingMergeTree()\n",
    "            ORDER BY (node);\n",
    "            ''')\n",
    "    execute('''\n",
    "            CREATE TABLE IF NOT EXISTS knowledge_graph_processed_filtered(\n",
    "                source String,\n",
    "                subject String,\n",
    "                predicate String,\n",
    "                object String)\n",
    "            ENGINE = ReplacingMergeTree()\n",
    "            ORDER BY (source, subject, predicate, object);\n",
    "            ''')"
   ],
   "metadata": {
    "collapsed": false,
    "pycharm": {
     "name": "#%%\n"
    }
   }
  },
  {
   "cell_type": "markdown",
   "source": [
    "## Process Knowledge Graph"
   ],
   "metadata": {
    "collapsed": false,
    "pycharm": {
     "name": "#%%\nmd\n"
    }
   }
  },
  {
   "cell_type": "code",
   "execution_count": 4,
   "outputs": [],
   "source": [
    "if INSERT_INTO_TABLES:\n",
    "    execute('''\n",
    "            INSERT INTO knowledge_graph_processed\n",
    "            SELECT\n",
    "                source,\n",
    "                startsWith(subject, '<')? splitByChar('=', splitByChar('#', splitByChar('/', replace(subject, '>', ''))[-1])[-1])[-1]: replace(subject, '\"', '') AS subject,\n",
    "                startsWith(predicate, '<')? splitByChar('=', splitByChar('#', splitByChar('/', replace(predicate, '>', ''))[-1])[-1])[-1]: replace(predicate, '\"', '') AS predicate,\n",
    "                startsWith(object, '<')? splitByChar('=', splitByChar('#', splitByChar('/', replace(object, '>', ''))[-1])[-1])[-1]: replace(object, '\"', '') AS object\n",
    "            FROM knowledge_graph_raw;\n",
    "            ''')\n",
    "    execute('''\n",
    "            INSERT INTO subject_processed_agg\n",
    "            SELECT\n",
    "                subject,\n",
    "                count() AS number\n",
    "            FROM knowledge_graph_processed\n",
    "            GROUP BY subject;\n",
    "            ''')\n",
    "    execute('''\n",
    "            INSERT INTO filtered_processed_nodes\n",
    "            SELECT t1.node AS node\n",
    "            FROM (\n",
    "                SELECT\n",
    "                    subject AS node\n",
    "                FROM subject_processed_agg) t1\n",
    "            ALL INNER JOIN (\n",
    "                SELECT\n",
    "                    DISTINCT object AS node\n",
    "                FROM knowledge_graph_processed\n",
    "                PREWHERE subject != object) t2\n",
    "            USING node;\n",
    "            ''')\n",
    "    execute('''\n",
    "            INSERT INTO knowledge_graph_processed_filtered\n",
    "            SELECT *\n",
    "            FROM knowledge_graph_processed\n",
    "            PREWHERE subject IN (SELECT node FROM filtered_processed_nodes)\n",
    "                 AND object IN (SELECT node FROM filtered_processed_nodes)\n",
    "                 AND subject != object;\n",
    "            ''')"
   ],
   "metadata": {
    "collapsed": false,
    "pycharm": {
     "name": "#%%\n"
    }
   }
  },
  {
   "cell_type": "markdown",
   "source": [
    "## Knowledge Graph Parameters"
   ],
   "metadata": {
    "collapsed": false,
    "pycharm": {
     "name": "#%%\nmd\n"
    }
   }
  },
  {
   "cell_type": "code",
   "execution_count": 11,
   "outputs": [],
   "source": [
    "def base_graph_parameters(knowledge_graph_table_name):\n",
    "    return load_from_ch_to_df('''\n",
    "                SELECT\n",
    "                    count(),\n",
    "                    'Links'\n",
    "                FROM {0}\n",
    "                UNION ALL\n",
    "                SELECT\n",
    "                    count(DISTINCT subject),\n",
    "                    'Subjects'\n",
    "                FROM {0}\n",
    "                UNION ALL\n",
    "                SELECT\n",
    "                    count(DISTINCT predicate),\n",
    "                    'Predicates'\n",
    "                FROM {0}\n",
    "                UNION ALL\n",
    "                SELECT\n",
    "                    count(DISTINCT object),\n",
    "                    'Objects'\n",
    "                FROM {0};\n",
    "               '''.format(knowledge_graph_table_name),\n",
    "               columns=['Number of unique items', 'Item types'])\n",
    "\n",
    "def number_of_links_by_type_items(item_type, knowledge_graph_table_name, limit=10):\n",
    "    return load_from_ch_to_df('''\n",
    "                SELECT\n",
    "                    {0},\n",
    "                    count() AS number_of_links\n",
    "                FROM {1}\n",
    "                GROUP BY {0}\n",
    "                ORDER BY number_of_links DESC\n",
    "                LIMIT {2};\n",
    "                '''.format(item_type, knowledge_graph_table_name, limit),\n",
    "                columns=[item_type.capitalize()+' item', 'Number of Links'])\n",
    "\n",
    "def print_graph_parameters(knowledge_graph_table_name):\n",
    "    display(HTML('Base Graph Parameters'))\n",
    "    display(HTML(base_graph_parameters(knowledge_graph_table_name).to_html(index=False)))\n",
    "    for item_type in ['subject', 'predicate', 'object']:\n",
    "        display(HTML(f'Top {item_type.capitalize()}s in the Graph'))\n",
    "        display(HTML(number_of_links_by_type_items(item_type, knowledge_graph_table_name).to_html(index=False)))"
   ],
   "metadata": {
    "collapsed": false,
    "pycharm": {
     "name": "#%%\n"
    }
   }
  },
  {
   "cell_type": "markdown",
   "source": [
    "### Raw Graph"
   ],
   "metadata": {
    "collapsed": false,
    "pycharm": {
     "name": "#%%\nmd\n"
    }
   }
  },
  {
   "cell_type": "code",
   "execution_count": 12,
   "outputs": [
    {
     "data": {
      "text/plain": "<IPython.core.display.HTML object>",
      "text/html": "Base Graph Parameters"
     },
     "metadata": {},
     "output_type": "display_data"
    },
    {
     "data": {
      "text/plain": "<IPython.core.display.HTML object>",
      "text/html": "<table border=\"1\" class=\"dataframe\">\n  <thead>\n    <tr style=\"text-align: right;\">\n      <th>Number of unique items</th>\n      <th>Item types</th>\n    </tr>\n  </thead>\n  <tbody>\n    <tr>\n      <td>12072467</td>\n      <td>Subjects</td>\n    </tr>\n    <tr>\n      <td>554</td>\n      <td>Predicates</td>\n    </tr>\n    <tr>\n      <td>125638829</td>\n      <td>Links</td>\n    </tr>\n    <tr>\n      <td>15728434</td>\n      <td>Objects</td>\n    </tr>\n  </tbody>\n</table>"
     },
     "metadata": {},
     "output_type": "display_data"
    },
    {
     "data": {
      "text/plain": "<IPython.core.display.HTML object>",
      "text/html": "Top Subjects in the Graph"
     },
     "metadata": {},
     "output_type": "display_data"
    },
    {
     "data": {
      "text/plain": "<IPython.core.display.HTML object>",
      "text/html": "<table border=\"1\" class=\"dataframe\">\n  <thead>\n    <tr style=\"text-align: right;\">\n      <th>Subject item</th>\n      <th>Number of Links</th>\n    </tr>\n  </thead>\n  <tbody>\n    <tr>\n      <td>&lt;http://caligraph.org/ontology/Person&gt;</td>\n      <td>1151</td>\n    </tr>\n    <tr>\n      <td>&lt;http://caligraph.org/ontology/Person_associated_with_places&gt;</td>\n      <td>615</td>\n    </tr>\n    <tr>\n      <td>&lt;http://caligraph.org/resource/Peregrine_falcon&gt;</td>\n      <td>610</td>\n    </tr>\n    <tr>\n      <td>&lt;http://caligraph.org/resource/Osprey&gt;</td>\n      <td>597</td>\n    </tr>\n    <tr>\n      <td>&lt;http://caligraph.org/resource/Barn_swallow&gt;</td>\n      <td>595</td>\n    </tr>\n    <tr>\n      <td>&lt;http://caligraph.org/resource/Forced_Labour_Convention&gt;</td>\n      <td>590</td>\n    </tr>\n    <tr>\n      <td>&lt;http://caligraph.org/resource/Ruddy_turnstone&gt;</td>\n      <td>576</td>\n    </tr>\n    <tr>\n      <td>&lt;http://caligraph.org/resource/Cattle_egret&gt;</td>\n      <td>574</td>\n    </tr>\n    <tr>\n      <td>&lt;http://caligraph.org/resource/Sanderling&gt;</td>\n      <td>570</td>\n    </tr>\n    <tr>\n      <td>&lt;http://caligraph.org/resource/Single_Convention_on_Narcotic_Drugs&gt;</td>\n      <td>559</td>\n    </tr>\n  </tbody>\n</table>"
     },
     "metadata": {},
     "output_type": "display_data"
    },
    {
     "data": {
      "text/plain": "<IPython.core.display.HTML object>",
      "text/html": "Top Predicates in the Graph"
     },
     "metadata": {},
     "output_type": "display_data"
    },
    {
     "data": {
      "text/plain": "<IPython.core.display.HTML object>",
      "text/html": "<table border=\"1\" class=\"dataframe\">\n  <thead>\n    <tr style=\"text-align: right;\">\n      <th>Predicate item</th>\n      <th>Number of Links</th>\n    </tr>\n  </thead>\n  <tbody>\n    <tr>\n      <td>&lt;http://www.w3.org/1999/02/22-rdf-syntax-ns#type&gt;</td>\n      <td>74980761</td>\n    </tr>\n    <tr>\n      <td>&lt;http://www.w3.org/ns/prov#wasDerivedFrom&gt;</td>\n      <td>21442564</td>\n    </tr>\n    <tr>\n      <td>&lt;http://www.w3.org/2000/01/rdf-schema#label&gt;</td>\n      <td>9213457</td>\n    </tr>\n    <tr>\n      <td>&lt;http://www.w3.org/2002/07/owl#sameAs&gt;</td>\n      <td>6306410</td>\n    </tr>\n    <tr>\n      <td>&lt;http://caligraph.org/ontology/birthPlace&gt;</td>\n      <td>1616471</td>\n    </tr>\n    <tr>\n      <td>&lt;http://dbpedia.org/ontology/birthPlace&gt;</td>\n      <td>1150300</td>\n    </tr>\n    <tr>\n      <td>&lt;http://www.w3.org/2000/01/rdf-schema#subClassOf&gt;</td>\n      <td>1146629</td>\n    </tr>\n    <tr>\n      <td>&lt;http://caligraph.org/ontology/country&gt;</td>\n      <td>775437</td>\n    </tr>\n    <tr>\n      <td>&lt;http://caligraph.org/ontology/isPartOf&gt;</td>\n      <td>651285</td>\n    </tr>\n    <tr>\n      <td>&lt;http://caligraph.org/ontology/location&gt;</td>\n      <td>607541</td>\n    </tr>\n  </tbody>\n</table>"
     },
     "metadata": {},
     "output_type": "display_data"
    },
    {
     "data": {
      "text/plain": "<IPython.core.display.HTML object>",
      "text/html": "Top Objects in the Graph"
     },
     "metadata": {},
     "output_type": "display_data"
    },
    {
     "data": {
      "text/plain": "<IPython.core.display.HTML object>",
      "text/html": "<table border=\"1\" class=\"dataframe\">\n  <thead>\n    <tr style=\"text-align: right;\">\n      <th>Object item</th>\n      <th>Number of Links</th>\n    </tr>\n  </thead>\n  <tbody>\n    <tr>\n      <td>&lt;http://www.w3.org/2002/07/owl#NamedIndividual&gt;</td>\n      <td>8346439</td>\n    </tr>\n    <tr>\n      <td>&lt;http://caligraph.org/ontology/Agent&gt;</td>\n      <td>2511127</td>\n    </tr>\n    <tr>\n      <td>&lt;http://caligraph.org/ontology/Person&gt;</td>\n      <td>1855754</td>\n    </tr>\n    <tr>\n      <td>&lt;http://caligraph.org/ontology/Place&gt;</td>\n      <td>1383518</td>\n    </tr>\n    <tr>\n      <td>&lt;http://caligraph.org/ontology/Time_period&gt;</td>\n      <td>1140006</td>\n    </tr>\n    <tr>\n      <td>&lt;http://dbpedia.org/ontology/Agent&gt;</td>\n      <td>982789</td>\n    </tr>\n    <tr>\n      <td>&lt;http://caligraph.org/ontology/Career_station&gt;</td>\n      <td>977005</td>\n    </tr>\n    <tr>\n      <td>&lt;http://en.wikipedia.org/wiki/Category:Living_people&gt;</td>\n      <td>794362</td>\n    </tr>\n    <tr>\n      <td>&lt;http://caligraph.org/ontology/Living_person&gt;</td>\n      <td>793669</td>\n    </tr>\n    <tr>\n      <td>&lt;http://www.w3.org/2002/07/owl#Class&gt;</td>\n      <td>756236</td>\n    </tr>\n  </tbody>\n</table>"
     },
     "metadata": {},
     "output_type": "display_data"
    }
   ],
   "source": [
    "print_graph_parameters('knowledge_graph_raw')"
   ],
   "metadata": {
    "collapsed": false,
    "pycharm": {
     "name": "#%%\n"
    }
   }
  },
  {
   "cell_type": "markdown",
   "source": [
    "### Processed Graph"
   ],
   "metadata": {
    "collapsed": false,
    "pycharm": {
     "name": "#%%\nmd\n"
    }
   }
  },
  {
   "cell_type": "code",
   "execution_count": 13,
   "outputs": [
    {
     "data": {
      "text/plain": "<IPython.core.display.HTML object>",
      "text/html": "Base Graph Parameters"
     },
     "metadata": {},
     "output_type": "display_data"
    },
    {
     "data": {
      "text/plain": "<IPython.core.display.HTML object>",
      "text/html": "<table border=\"1\" class=\"dataframe\">\n  <thead>\n    <tr style=\"text-align: right;\">\n      <th>Number of unique items</th>\n      <th>Item types</th>\n    </tr>\n  </thead>\n  <tbody>\n    <tr>\n      <td>8175366</td>\n      <td>Subjects</td>\n    </tr>\n    <tr>\n      <td>283</td>\n      <td>Predicates</td>\n    </tr>\n    <tr>\n      <td>125617154</td>\n      <td>Links</td>\n    </tr>\n    <tr>\n      <td>15079945</td>\n      <td>Objects</td>\n    </tr>\n  </tbody>\n</table>"
     },
     "metadata": {},
     "output_type": "display_data"
    },
    {
     "data": {
      "text/plain": "<IPython.core.display.HTML object>",
      "text/html": "Top Subjects in the Graph"
     },
     "metadata": {},
     "output_type": "display_data"
    },
    {
     "data": {
      "text/plain": "<IPython.core.display.HTML object>",
      "text/html": "<table border=\"1\" class=\"dataframe\">\n  <thead>\n    <tr style=\"text-align: right;\">\n      <th>Subject item</th>\n      <th>Number of Links</th>\n    </tr>\n  </thead>\n  <tbody>\n    <tr>\n      <td>Person</td>\n      <td>1163</td>\n    </tr>\n    <tr>\n      <td>Peregrine_falcon</td>\n      <td>619</td>\n    </tr>\n    <tr>\n      <td>Person_associated_with_places</td>\n      <td>615</td>\n    </tr>\n    <tr>\n      <td>Senior_High_School</td>\n      <td>615</td>\n    </tr>\n    <tr>\n      <td>Barn_swallow</td>\n      <td>601</td>\n    </tr>\n    <tr>\n      <td>Osprey</td>\n      <td>598</td>\n    </tr>\n    <tr>\n      <td>Forced_Labour_Convention</td>\n      <td>593</td>\n    </tr>\n    <tr>\n      <td>Ruddy_turnstone</td>\n      <td>577</td>\n    </tr>\n    <tr>\n      <td>Cattle_egret</td>\n      <td>575</td>\n    </tr>\n    <tr>\n      <td>Sanderling</td>\n      <td>570</td>\n    </tr>\n  </tbody>\n</table>"
     },
     "metadata": {},
     "output_type": "display_data"
    },
    {
     "data": {
      "text/plain": "<IPython.core.display.HTML object>",
      "text/html": "Top Predicates in the Graph"
     },
     "metadata": {},
     "output_type": "display_data"
    },
    {
     "data": {
      "text/plain": "<IPython.core.display.HTML object>",
      "text/html": "<table border=\"1\" class=\"dataframe\">\n  <thead>\n    <tr style=\"text-align: right;\">\n      <th>Predicate item</th>\n      <th>Number of Links</th>\n    </tr>\n  </thead>\n  <tbody>\n    <tr>\n      <td>type</td>\n      <td>75356545</td>\n    </tr>\n    <tr>\n      <td>wasDerivedFrom</td>\n      <td>21440327</td>\n    </tr>\n    <tr>\n      <td>label</td>\n      <td>9213407</td>\n    </tr>\n    <tr>\n      <td>sameAs</td>\n      <td>6303533</td>\n    </tr>\n    <tr>\n      <td>birthPlace</td>\n      <td>2766752</td>\n    </tr>\n    <tr>\n      <td>subClassOf</td>\n      <td>1146576</td>\n    </tr>\n    <tr>\n      <td>country</td>\n      <td>1111207</td>\n    </tr>\n    <tr>\n      <td>location</td>\n      <td>1077068</td>\n    </tr>\n    <tr>\n      <td>isPartOf</td>\n      <td>808021</td>\n    </tr>\n    <tr>\n      <td>team</td>\n      <td>648365</td>\n    </tr>\n  </tbody>\n</table>"
     },
     "metadata": {},
     "output_type": "display_data"
    },
    {
     "data": {
      "text/plain": "<IPython.core.display.HTML object>",
      "text/html": "Top Objects in the Graph"
     },
     "metadata": {},
     "output_type": "display_data"
    },
    {
     "data": {
      "text/plain": "<IPython.core.display.HTML object>",
      "text/html": "<table border=\"1\" class=\"dataframe\">\n  <thead>\n    <tr style=\"text-align: right;\">\n      <th>Object item</th>\n      <th>Number of Links</th>\n    </tr>\n  </thead>\n  <tbody>\n    <tr>\n      <td>NamedIndividual</td>\n      <td>8343164</td>\n    </tr>\n    <tr>\n      <td>Agent</td>\n      <td>3493308</td>\n    </tr>\n    <tr>\n      <td>Person</td>\n      <td>2574203</td>\n    </tr>\n    <tr>\n      <td>Place</td>\n      <td>1929903</td>\n    </tr>\n    <tr>\n      <td>Time_period</td>\n      <td>1140006</td>\n    </tr>\n    <tr>\n      <td>Career_station</td>\n      <td>977005</td>\n    </tr>\n    <tr>\n      <td>Work</td>\n      <td>866197</td>\n    </tr>\n    <tr>\n      <td>Species</td>\n      <td>795959</td>\n    </tr>\n    <tr>\n      <td>Category:Living_people</td>\n      <td>794342</td>\n    </tr>\n    <tr>\n      <td>Living_person</td>\n      <td>793649</td>\n    </tr>\n  </tbody>\n</table>"
     },
     "metadata": {},
     "output_type": "display_data"
    }
   ],
   "source": [
    "print_graph_parameters('knowledge_graph_processed')"
   ],
   "metadata": {
    "collapsed": false,
    "pycharm": {
     "name": "#%%\n"
    }
   }
  },
  {
   "cell_type": "markdown",
   "source": [
    "### Processed Filtered Graph"
   ],
   "metadata": {
    "collapsed": false
   }
  },
  {
   "cell_type": "code",
   "execution_count": 14,
   "outputs": [
    {
     "data": {
      "text/plain": "<IPython.core.display.HTML object>",
      "text/html": "Base Graph Parameters"
     },
     "metadata": {},
     "output_type": "display_data"
    },
    {
     "data": {
      "text/plain": "<IPython.core.display.HTML object>",
      "text/html": "<table border=\"1\" class=\"dataframe\">\n  <thead>\n    <tr style=\"text-align: right;\">\n      <th>Number of unique items</th>\n      <th>Item types</th>\n    </tr>\n  </thead>\n  <tbody>\n    <tr>\n      <td>861781</td>\n      <td>Subjects</td>\n    </tr>\n    <tr>\n      <td>206</td>\n      <td>Predicates</td>\n    </tr>\n    <tr>\n      <td>3284474</td>\n      <td>Links</td>\n    </tr>\n    <tr>\n      <td>360328</td>\n      <td>Objects</td>\n    </tr>\n  </tbody>\n</table>"
     },
     "metadata": {},
     "output_type": "display_data"
    },
    {
     "data": {
      "text/plain": "<IPython.core.display.HTML object>",
      "text/html": "Top Subjects in the Graph"
     },
     "metadata": {},
     "output_type": "display_data"
    },
    {
     "data": {
      "text/plain": "<IPython.core.display.HTML object>",
      "text/html": "<table border=\"1\" class=\"dataframe\">\n  <thead>\n    <tr style=\"text-align: right;\">\n      <th>Subject item</th>\n      <th>Number of Links</th>\n    </tr>\n  </thead>\n  <tbody>\n    <tr>\n      <td>S</td>\n      <td>328</td>\n    </tr>\n    <tr>\n      <td>Osprey</td>\n      <td>314</td>\n    </tr>\n    <tr>\n      <td>Madonna_(entertainer)</td>\n      <td>290</td>\n    </tr>\n    <tr>\n      <td>2</td>\n      <td>288</td>\n    </tr>\n    <tr>\n      <td>Winston_Churchill</td>\n      <td>273</td>\n    </tr>\n    <tr>\n      <td>World_Health_Organization</td>\n      <td>270</td>\n    </tr>\n    <tr>\n      <td>Mallard</td>\n      <td>265</td>\n    </tr>\n    <tr>\n      <td>Ruff</td>\n      <td>260</td>\n    </tr>\n    <tr>\n      <td>World_Heritage_Site</td>\n      <td>252</td>\n    </tr>\n    <tr>\n      <td>Michael_Jackson</td>\n      <td>236</td>\n    </tr>\n  </tbody>\n</table>"
     },
     "metadata": {},
     "output_type": "display_data"
    },
    {
     "data": {
      "text/plain": "<IPython.core.display.HTML object>",
      "text/html": "Top Predicates in the Graph"
     },
     "metadata": {},
     "output_type": "display_data"
    },
    {
     "data": {
      "text/plain": "<IPython.core.display.HTML object>",
      "text/html": "<table border=\"1\" class=\"dataframe\">\n  <thead>\n    <tr style=\"text-align: right;\">\n      <th>Predicate item</th>\n      <th>Number of Links</th>\n    </tr>\n  </thead>\n  <tbody>\n    <tr>\n      <td>type</td>\n      <td>1653581</td>\n    </tr>\n    <tr>\n      <td>subClassOf</td>\n      <td>1025896</td>\n    </tr>\n    <tr>\n      <td>onProperty</td>\n      <td>110457</td>\n    </tr>\n    <tr>\n      <td>hasValue</td>\n      <td>110179</td>\n    </tr>\n    <tr>\n      <td>birthPlace</td>\n      <td>76072</td>\n    </tr>\n    <tr>\n      <td>country</td>\n      <td>43819</td>\n    </tr>\n    <tr>\n      <td>genre</td>\n      <td>43109</td>\n    </tr>\n    <tr>\n      <td>occupation</td>\n      <td>41464</td>\n    </tr>\n    <tr>\n      <td>isPartOf</td>\n      <td>31106</td>\n    </tr>\n    <tr>\n      <td>hometown</td>\n      <td>30841</td>\n    </tr>\n  </tbody>\n</table>"
     },
     "metadata": {},
     "output_type": "display_data"
    },
    {
     "data": {
      "text/plain": "<IPython.core.display.HTML object>",
      "text/html": "Top Objects in the Graph"
     },
     "metadata": {},
     "output_type": "display_data"
    },
    {
     "data": {
      "text/plain": "<IPython.core.display.HTML object>",
      "text/html": "<table border=\"1\" class=\"dataframe\">\n  <thead>\n    <tr style=\"text-align: right;\">\n      <th>Object item</th>\n      <th>Number of Links</th>\n    </tr>\n  </thead>\n  <tbody>\n    <tr>\n      <td>Person</td>\n      <td>102624</td>\n    </tr>\n    <tr>\n      <td>Agent</td>\n      <td>68335</td>\n    </tr>\n    <tr>\n      <td>Place</td>\n      <td>49606</td>\n    </tr>\n    <tr>\n      <td>Populated_place</td>\n      <td>41292</td>\n    </tr>\n    <tr>\n      <td>United_States</td>\n      <td>39524</td>\n    </tr>\n    <tr>\n      <td>Organisation</td>\n      <td>31093</td>\n    </tr>\n    <tr>\n      <td>Settlement</td>\n      <td>25113</td>\n    </tr>\n    <tr>\n      <td>Social_group</td>\n      <td>23027</td>\n    </tr>\n    <tr>\n      <td>birthPlace</td>\n      <td>21662</td>\n    </tr>\n    <tr>\n      <td>Organization</td>\n      <td>21034</td>\n    </tr>\n  </tbody>\n</table>"
     },
     "metadata": {},
     "output_type": "display_data"
    }
   ],
   "source": [
    "print_graph_parameters('knowledge_graph_processed_filtered')"
   ],
   "metadata": {
    "collapsed": false,
    "pycharm": {
     "name": "#%%\n"
    }
   }
  },
  {
   "cell_type": "code",
   "execution_count": null,
   "outputs": [],
   "source": [],
   "metadata": {
    "collapsed": false,
    "pycharm": {
     "name": "#%%\n"
    }
   }
  }
 ],
 "metadata": {
  "kernelspec": {
   "display_name": "Python 3",
   "language": "python",
   "name": "python3"
  },
  "language_info": {
   "codemirror_mode": {
    "name": "ipython",
    "version": 2
   },
   "file_extension": ".py",
   "mimetype": "text/x-python",
   "name": "python",
   "nbconvert_exporter": "python",
   "pygments_lexer": "ipython2",
   "version": "2.7.6"
  }
 },
 "nbformat": 4,
 "nbformat_minor": 0
}