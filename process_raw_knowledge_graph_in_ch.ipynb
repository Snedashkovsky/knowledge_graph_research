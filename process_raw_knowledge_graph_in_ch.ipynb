{
 "cells": [
  {
   "cell_type": "markdown",
   "metadata": {
    "collapsed": true,
    "pycharm": {
     "name": "#%%\nmd\n"
    }
   },
   "source": [
    "# Precess Raw Knowledge Graphs in Clickhouse"
   ]
  },
  {
   "cell_type": "code",
   "execution_count": 1,
   "outputs": [],
   "source": [
    "from clickhouse_driver import Client\n",
    "from pandas import DataFrame"
   ],
   "metadata": {
    "collapsed": false,
    "pycharm": {
     "name": "#%%\n"
    }
   }
  },
  {
   "cell_type": "code",
   "execution_count": 2,
   "outputs": [],
   "source": [
    "CLICKHOUSE_HOST = 'localhost'\n",
    "COMPRESSION = 'lz4'\n",
    "DROP_TABLE = True\n",
    "CREATE_TABLE = True\n",
    "INSERT_INTO_TABLES = True\n",
    "client = Client(host=CLICKHOUSE_HOST)\n",
    "execute = client.execute\n",
    "DIR_URL = 'CaLiGraph/'"
   ],
   "metadata": {
    "collapsed": false,
    "pycharm": {
     "name": "#%%\n"
    }
   }
  },
  {
   "cell_type": "markdown",
   "source": [
    "## Drop and Create the knowledge_graph_raw table"
   ],
   "metadata": {
    "collapsed": false
   }
  },
  {
   "cell_type": "code",
   "execution_count": 3,
   "outputs": [],
   "source": [
    "def load_from_ch_to_df(sql_query, columns=None):\n",
    "    return DataFrame(execute(sql_query), columns=columns)\n",
    "\n",
    "if DROP_TABLE:\n",
    "    execute('DROP TABLE IF EXISTS knowledge_graph_processed')\n",
    "    execute('DROP TABLE IF EXISTS subject_processed_agg')\n",
    "    execute('DROP TABLE IF EXISTS filtered_processed_nodes')\n",
    "    execute('DROP TABLE IF EXISTS knowledge_graph_processed_filtered')\n",
    "\n",
    "if CREATE_TABLE:\n",
    "    execute('''\n",
    "            CREATE TABLE IF NOT EXISTS knowledge_graph_processed(\n",
    "                source String,\n",
    "                subject String,\n",
    "                predicate String,\n",
    "                object String)\n",
    "            ENGINE = ReplacingMergeTree()\n",
    "            ORDER BY (source, subject, predicate, object);\n",
    "            ''')\n",
    "    execute('''\n",
    "            CREATE TABLE IF NOT EXISTS subject_processed_agg(\n",
    "                subject String,\n",
    "                number Int64)\n",
    "            ENGINE = ReplacingMergeTree()\n",
    "            ORDER BY (subject);\n",
    "            ''')\n",
    "    execute('''\n",
    "            CREATE TABLE IF NOT EXISTS filtered_processed_nodes(\n",
    "                node String)\n",
    "            ENGINE = ReplacingMergeTree()\n",
    "            ORDER BY (node);\n",
    "            ''')\n",
    "    execute('''\n",
    "            CREATE TABLE IF NOT EXISTS knowledge_graph_processed_filtered(\n",
    "                source String,\n",
    "                subject String,\n",
    "                predicate String,\n",
    "                object String)\n",
    "            ENGINE = ReplacingMergeTree()\n",
    "            ORDER BY (source, subject, predicate, object);\n",
    "            ''')"
   ],
   "metadata": {
    "collapsed": false,
    "pycharm": {
     "name": "#%%\n"
    }
   }
  },
  {
   "cell_type": "markdown",
   "source": [
    "## Process Knowledge Graph"
   ],
   "metadata": {
    "collapsed": false,
    "pycharm": {
     "name": "#%%\nmd\n"
    }
   }
  },
  {
   "cell_type": "code",
   "execution_count": 4,
   "outputs": [],
   "source": [
    "if INSERT_INTO_TABLES:\n",
    "    execute('''\n",
    "            INSERT INTO knowledge_graph_processed\n",
    "            SELECT\n",
    "                source,\n",
    "                startsWith(subject, '<')? splitByChar('=', splitByChar('#', splitByChar('/', replace(subject, '>', ''))[-1])[-1])[-1]: replace(subject, '\"', '') AS subject,\n",
    "                startsWith(predicate, '<')? splitByChar('=', splitByChar('#', splitByChar('/', replace(predicate, '>', ''))[-1])[-1])[-1]: replace(predicate, '\"', '') AS predicate,\n",
    "                startsWith(object, '<')? splitByChar('=', splitByChar('#', splitByChar('/', replace(object, '>', ''))[-1])[-1])[-1]: replace(object, '\"', '') AS object\n",
    "            FROM knowledge_graph_raw;\n",
    "            ''')\n",
    "    execute('''\n",
    "            INSERT INTO subject_processed_agg\n",
    "            SELECT\n",
    "                subject,\n",
    "                count() AS number\n",
    "            FROM knowledge_graph_processed\n",
    "            GROUP BY subject;\n",
    "            ''')\n",
    "    execute('''\n",
    "            INSERT INTO filtered_processed_nodes\n",
    "            SELECT t1.node AS node\n",
    "            FROM (\n",
    "                SELECT\n",
    "                    subject AS node\n",
    "                FROM subject_processed_agg) t1\n",
    "            ALL INNER JOIN (\n",
    "                SELECT\n",
    "                    DISTINCT object AS node\n",
    "                FROM knowledge_graph_processed\n",
    "                PREWHERE subject != object) t2\n",
    "            USING node;\n",
    "            ''')\n",
    "    execute('''\n",
    "            INSERT INTO knowledge_graph_processed_filtered\n",
    "            SELECT *\n",
    "            FROM knowledge_graph_processed\n",
    "            PREWHERE subject IN (SELECT node FROM filtered_processed_nodes)\n",
    "                 AND object IN (SELECT node FROM filtered_processed_nodes)\n",
    "                 AND subject != object;\n",
    "            ''')"
   ],
   "metadata": {
    "collapsed": false,
    "pycharm": {
     "name": "#%%\n"
    }
   }
  },
  {
   "cell_type": "markdown",
   "source": [
    "## Base Graph Parameters"
   ],
   "metadata": {
    "collapsed": false,
    "pycharm": {
     "name": "#%%\nmd\n"
    }
   }
  },
  {
   "cell_type": "code",
   "execution_count": 28,
   "outputs": [],
   "source": [
    "def base_graph_parameters(knowledge_graph_table_name):\n",
    "    return load_from_ch_to_df('''\n",
    "                SELECT\n",
    "                    count(),\n",
    "                    'Links'\n",
    "                FROM {0}\n",
    "                UNION ALL\n",
    "                SELECT\n",
    "                    count(DISTINCT subject),\n",
    "                    'Subjects'\n",
    "                FROM {0}\n",
    "                UNION ALL\n",
    "                SELECT\n",
    "                    count(DISTINCT predicate),\n",
    "                    'Predicates'\n",
    "                FROM {0}\n",
    "                UNION ALL\n",
    "                SELECT\n",
    "                    count(DISTINCT object),\n",
    "                    'Objects'\n",
    "                FROM {0};\n",
    "               '''.format(knowledge_graph_table_name),\n",
    "               columns=['Number of unique items', 'Item types'])\n",
    "\n",
    "def number_of_links_by_type_items(item_type, knowledge_graph_table_name, limit=10):\n",
    "    return load_from_ch_to_df('''\n",
    "                SELECT\n",
    "                    {0},\n",
    "                    count() AS number_of_links\n",
    "                FROM {1}\n",
    "                GROUP BY {0}\n",
    "                ORDER BY number_of_links DESC\n",
    "                LIMIT {2};\n",
    "                '''.format(item_type, knowledge_graph_table_name, limit),\n",
    "                columns=[item_type, 'Number of Links'])\n",
    "\n",
    "def print_graph_parameters(knowledge_graph_table_name):\n",
    "    print('\\nBase Graph Parameters\\n', base_graph_parameters(knowledge_graph_table_name).to_markdown())\n",
    "    for item_type in ['subject', 'predicate', 'object']:\n",
    "        print(f'\\nTop {item_type} in the Graph\\n', number_of_links_by_type_items(item_type, knowledge_graph_table_name).to_markdown())"
   ],
   "metadata": {
    "collapsed": false,
    "pycharm": {
     "name": "#%%\n"
    }
   }
  },
  {
   "cell_type": "markdown",
   "source": [
    "### Raw Graph"
   ],
   "metadata": {
    "collapsed": false,
    "pycharm": {
     "name": "#%%\nmd\n"
    }
   }
  },
  {
   "cell_type": "code",
   "execution_count": 30,
   "outputs": [
    {
     "name": "stdout",
     "output_type": "stream",
     "text": [
      "\n",
      "Base Graph Parameters\n",
      " |    |   Number of unique items | Item types   |\n",
      "|---:|-------------------------:|:-------------|\n",
      "|  0 |                 12072467 | Subjects     |\n",
      "|  1 |                      554 | Predicates   |\n",
      "|  2 |                125638829 | Links        |\n",
      "|  3 |                 15728434 | Objects      |\n",
      "\n",
      "Top subject in the Graph\n",
      " |    | subject                                                             |   Number of Links |\n",
      "|---:|:--------------------------------------------------------------------|------------------:|\n",
      "|  0 | <http://caligraph.org/ontology/Person>                              |              1151 |\n",
      "|  1 | <http://caligraph.org/ontology/Person_associated_with_places>       |               615 |\n",
      "|  2 | <http://caligraph.org/resource/Peregrine_falcon>                    |               610 |\n",
      "|  3 | <http://caligraph.org/resource/Osprey>                              |               597 |\n",
      "|  4 | <http://caligraph.org/resource/Barn_swallow>                        |               595 |\n",
      "|  5 | <http://caligraph.org/resource/Forced_Labour_Convention>            |               590 |\n",
      "|  6 | <http://caligraph.org/resource/Ruddy_turnstone>                     |               576 |\n",
      "|  7 | <http://caligraph.org/resource/Cattle_egret>                        |               574 |\n",
      "|  8 | <http://caligraph.org/resource/Sanderling>                          |               570 |\n",
      "|  9 | <http://caligraph.org/resource/Single_Convention_on_Narcotic_Drugs> |               559 |\n",
      "\n",
      "Top predicate in the Graph\n",
      " |    | predicate                                         |   Number of Links |\n",
      "|---:|:--------------------------------------------------|------------------:|\n",
      "|  0 | <http://www.w3.org/1999/02/22-rdf-syntax-ns#type> |          74980761 |\n",
      "|  1 | <http://www.w3.org/ns/prov#wasDerivedFrom>        |          21442564 |\n",
      "|  2 | <http://www.w3.org/2000/01/rdf-schema#label>      |           9213457 |\n",
      "|  3 | <http://www.w3.org/2002/07/owl#sameAs>            |           6306410 |\n",
      "|  4 | <http://caligraph.org/ontology/birthPlace>        |           1616471 |\n",
      "|  5 | <http://dbpedia.org/ontology/birthPlace>          |           1150300 |\n",
      "|  6 | <http://www.w3.org/2000/01/rdf-schema#subClassOf> |           1146629 |\n",
      "|  7 | <http://caligraph.org/ontology/country>           |            775437 |\n",
      "|  8 | <http://caligraph.org/ontology/isPartOf>          |            651285 |\n",
      "|  9 | <http://caligraph.org/ontology/location>          |            607541 |\n",
      "\n",
      "Top object in the Graph\n",
      " |    | object                                                |   Number of Links |\n",
      "|---:|:------------------------------------------------------|------------------:|\n",
      "|  0 | <http://www.w3.org/2002/07/owl#NamedIndividual>       |           8346439 |\n",
      "|  1 | <http://caligraph.org/ontology/Agent>                 |           2511127 |\n",
      "|  2 | <http://caligraph.org/ontology/Person>                |           1855754 |\n",
      "|  3 | <http://caligraph.org/ontology/Place>                 |           1383518 |\n",
      "|  4 | <http://caligraph.org/ontology/Time_period>           |           1140006 |\n",
      "|  5 | <http://dbpedia.org/ontology/Agent>                   |            982789 |\n",
      "|  6 | <http://caligraph.org/ontology/Career_station>        |            977005 |\n",
      "|  7 | <http://en.wikipedia.org/wiki/Category:Living_people> |            794362 |\n",
      "|  8 | <http://caligraph.org/ontology/Living_person>         |            793669 |\n",
      "|  9 | <http://www.w3.org/2002/07/owl#Class>                 |            756236 |\n"
     ]
    }
   ],
   "source": [
    "print_graph_parameters('knowledge_graph_raw')"
   ],
   "metadata": {
    "collapsed": false,
    "pycharm": {
     "name": "#%%\n"
    }
   }
  },
  {
   "cell_type": "markdown",
   "source": [
    "### Processed Graph"
   ],
   "metadata": {
    "collapsed": false,
    "pycharm": {
     "name": "#%%\nmd\n"
    }
   }
  },
  {
   "cell_type": "code",
   "execution_count": 31,
   "outputs": [
    {
     "name": "stdout",
     "output_type": "stream",
     "text": [
      "\n",
      "Base Graph Parameters\n",
      " |    |   Number of unique items | Item types   |\n",
      "|---:|-------------------------:|:-------------|\n",
      "|  0 |                  8175366 | Subjects     |\n",
      "|  1 |                      283 | Predicates   |\n",
      "|  2 |                125617154 | Links        |\n",
      "|  3 |                 15079945 | Objects      |\n",
      "\n",
      "Top subject in the Graph\n",
      " |    | subject                       |   Number of Links |\n",
      "|---:|:------------------------------|------------------:|\n",
      "|  0 | Person                        |              1163 |\n",
      "|  1 | Peregrine_falcon              |               619 |\n",
      "|  2 | Person_associated_with_places |               615 |\n",
      "|  3 | Senior_High_School            |               615 |\n",
      "|  4 | Barn_swallow                  |               601 |\n",
      "|  5 | Osprey                        |               598 |\n",
      "|  6 | Forced_Labour_Convention      |               593 |\n",
      "|  7 | Ruddy_turnstone               |               577 |\n",
      "|  8 | Cattle_egret                  |               575 |\n",
      "|  9 | Sanderling                    |               570 |\n",
      "\n",
      "Top predicate in the Graph\n",
      " |    | predicate      |   Number of Links |\n",
      "|---:|:---------------|------------------:|\n",
      "|  0 | type           |          75356545 |\n",
      "|  1 | wasDerivedFrom |          21440327 |\n",
      "|  2 | label          |           9213407 |\n",
      "|  3 | sameAs         |           6303533 |\n",
      "|  4 | birthPlace     |           2766752 |\n",
      "|  5 | subClassOf     |           1146576 |\n",
      "|  6 | country        |           1111207 |\n",
      "|  7 | location       |           1077068 |\n",
      "|  8 | isPartOf       |            808021 |\n",
      "|  9 | team           |            648365 |\n",
      "\n",
      "Top object in the Graph\n",
      " |    | object                 |   Number of Links |\n",
      "|---:|:-----------------------|------------------:|\n",
      "|  0 | NamedIndividual        |           8343164 |\n",
      "|  1 | Agent                  |           3493308 |\n",
      "|  2 | Person                 |           2574203 |\n",
      "|  3 | Place                  |           1929903 |\n",
      "|  4 | Time_period            |           1140006 |\n",
      "|  5 | Career_station         |            977005 |\n",
      "|  6 | Work                   |            866197 |\n",
      "|  7 | Species                |            795959 |\n",
      "|  8 | Category:Living_people |            794342 |\n",
      "|  9 | Living_person          |            793649 |\n"
     ]
    }
   ],
   "source": [
    "print_graph_parameters('knowledge_graph_processed')"
   ],
   "metadata": {
    "collapsed": false,
    "pycharm": {
     "name": "#%%\n"
    }
   }
  },
  {
   "cell_type": "markdown",
   "source": [
    "### Processed Filtered Graph"
   ],
   "metadata": {
    "collapsed": false
   }
  },
  {
   "cell_type": "code",
   "execution_count": 32,
   "outputs": [
    {
     "name": "stdout",
     "output_type": "stream",
     "text": [
      "\n",
      "Base Graph Parameters\n",
      " |    |   Number of unique items | Item types   |\n",
      "|---:|-------------------------:|:-------------|\n",
      "|  0 |                   861781 | Subjects     |\n",
      "|  1 |                      206 | Predicates   |\n",
      "|  2 |                  3284474 | Links        |\n",
      "|  3 |                   360328 | Objects      |\n",
      "\n",
      "Top subject in the Graph\n",
      " |    | subject                   |   Number of Links |\n",
      "|---:|:--------------------------|------------------:|\n",
      "|  0 | S                         |               328 |\n",
      "|  1 | Osprey                    |               314 |\n",
      "|  2 | Madonna_(entertainer)     |               290 |\n",
      "|  3 | 2                         |               288 |\n",
      "|  4 | Winston_Churchill         |               273 |\n",
      "|  5 | World_Health_Organization |               270 |\n",
      "|  6 | Mallard                   |               265 |\n",
      "|  7 | Ruff                      |               260 |\n",
      "|  8 | World_Heritage_Site       |               252 |\n",
      "|  9 | Michael_Jackson           |               236 |\n",
      "\n",
      "Top predicate in the Graph\n",
      " |    | predicate   |   Number of Links |\n",
      "|---:|:------------|------------------:|\n",
      "|  0 | type        |           1653581 |\n",
      "|  1 | subClassOf  |           1025896 |\n",
      "|  2 | onProperty  |            110457 |\n",
      "|  3 | hasValue    |            110179 |\n",
      "|  4 | birthPlace  |             76072 |\n",
      "|  5 | country     |             43819 |\n",
      "|  6 | genre       |             43109 |\n",
      "|  7 | occupation  |             41464 |\n",
      "|  8 | isPartOf    |             31106 |\n",
      "|  9 | hometown    |             30841 |\n",
      "\n",
      "Top object in the Graph\n",
      " |    | object          |   Number of Links |\n",
      "|---:|:----------------|------------------:|\n",
      "|  0 | Person          |            102624 |\n",
      "|  1 | Agent           |             68335 |\n",
      "|  2 | Place           |             49606 |\n",
      "|  3 | Populated_place |             41292 |\n",
      "|  4 | United_States   |             39524 |\n",
      "|  5 | Organisation    |             31093 |\n",
      "|  6 | Settlement      |             25113 |\n",
      "|  7 | Social_group    |             23027 |\n",
      "|  8 | birthPlace      |             21662 |\n",
      "|  9 | Organization    |             21034 |\n"
     ]
    }
   ],
   "source": [
    "print_graph_parameters('knowledge_graph_processed_filtered')"
   ],
   "metadata": {
    "collapsed": false,
    "pycharm": {
     "name": "#%%\n"
    }
   }
  },
  {
   "cell_type": "code",
   "execution_count": null,
   "outputs": [],
   "source": [],
   "metadata": {
    "collapsed": false,
    "pycharm": {
     "name": "#%%\n"
    }
   }
  }
 ],
 "metadata": {
  "kernelspec": {
   "display_name": "Python 3",
   "language": "python",
   "name": "python3"
  },
  "language_info": {
   "codemirror_mode": {
    "name": "ipython",
    "version": 2
   },
   "file_extension": ".py",
   "mimetype": "text/x-python",
   "name": "python",
   "nbconvert_exporter": "python",
   "pygments_lexer": "ipython2",
   "version": "2.7.6"
  }
 },
 "nbformat": 4,
 "nbformat_minor": 0
}