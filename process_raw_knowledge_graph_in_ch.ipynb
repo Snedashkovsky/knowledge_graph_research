{
 "cells": [
  {
   "cell_type": "markdown",
   "metadata": {
    "collapsed": true
   },
   "source": [
    "# Process Raw Knowledge Graphs in Clickhouse"
   ]
  },
  {
   "cell_type": "code",
   "execution_count": 1,
   "metadata": {},
   "outputs": [],
   "source": [
    "from pandas import DataFrame\n",
    "from IPython.display import HTML, display\n",
    "\n",
    "from config import clickhouse_execute\n",
    "from src.utils_clickhouse import load_from_ch_to_df"
   ]
  },
  {
   "cell_type": "code",
   "execution_count": 6,
   "metadata": {},
   "outputs": [],
   "source": [
    "DROP_TABLE = False\n",
    "CREATE_TABLE = False\n",
    "INSERT_INTO_TABLES = False"
   ]
  },
  {
   "cell_type": "markdown",
   "metadata": {},
   "source": [
    "## Drop and Create the knowledge_graph_raw table"
   ]
  },
  {
   "cell_type": "code",
   "execution_count": 3,
   "metadata": {},
   "outputs": [],
   "source": [
    "if DROP_TABLE:\n",
    "    clickhouse_execute('DROP TABLE IF EXISTS knowledge_graph_processed')\n",
    "    clickhouse_execute('DROP TABLE IF EXISTS subject_processed_agg')\n",
    "    clickhouse_execute('DROP TABLE IF EXISTS filtered_processed_nodes')\n",
    "    clickhouse_execute('DROP TABLE IF EXISTS knowledge_graph_processed_filtered')\n",
    "\n",
    "if CREATE_TABLE:\n",
    "    clickhouse_execute('''\n",
    "            CREATE TABLE IF NOT EXISTS knowledge_graph_processed(\n",
    "                source String,\n",
    "                subject String,\n",
    "                predicate String,\n",
    "                object String)\n",
    "            ENGINE = ReplacingMergeTree()\n",
    "            ORDER BY (source, subject, predicate, object);\n",
    "            ''')\n",
    "    clickhouse_execute('''\n",
    "            CREATE TABLE IF NOT EXISTS subject_processed_agg(\n",
    "                subject String,\n",
    "                number Int64)\n",
    "            ENGINE = ReplacingMergeTree()\n",
    "            ORDER BY (subject);\n",
    "            ''')\n",
    "    clickhouse_execute('''\n",
    "            CREATE TABLE IF NOT EXISTS filtered_processed_nodes(\n",
    "                node String)\n",
    "            ENGINE = ReplacingMergeTree()\n",
    "            ORDER BY (node);\n",
    "            ''')\n",
    "    clickhouse_execute('''\n",
    "            CREATE TABLE IF NOT EXISTS knowledge_graph_processed_filtered(\n",
    "                source String,\n",
    "                subject String,\n",
    "                predicate String,\n",
    "                object String)\n",
    "            ENGINE = ReplacingMergeTree()\n",
    "            ORDER BY (source, subject, predicate, object);\n",
    "            ''')"
   ]
  },
  {
   "cell_type": "markdown",
   "metadata": {},
   "source": [
    "## Process Knowledge Graph"
   ]
  },
  {
   "cell_type": "code",
   "execution_count": 4,
   "metadata": {},
   "outputs": [],
   "source": [
    "if INSERT_INTO_TABLES:\n",
    "    clickhouse_execute('''\n",
    "            INSERT INTO knowledge_graph_processed\n",
    "            SELECT\n",
    "                source,\n",
    "                startsWith(subject, '<')? splitByChar('=', splitByChar('#', splitByChar('/', replace(subject, '>', ''))[-1])[-1])[-1]: replace(subject, '\"', '') AS subject,\n",
    "                startsWith(predicate, '<')? splitByChar('=', splitByChar('#', splitByChar('/', replace(predicate, '>', ''))[-1])[-1])[-1]: replace(predicate, '\"', '') AS predicate,\n",
    "                startsWith(object, '<')? splitByChar('=', splitByChar('#', splitByChar('/', replace(object, '>', ''))[-1])[-1])[-1]: replace(object, '\"', '') AS object\n",
    "            FROM knowledge_graph_raw;\n",
    "            ''')\n",
    "    clickhouse_execute('''\n",
    "            INSERT INTO subject_processed_agg\n",
    "            SELECT\n",
    "                subject,\n",
    "                count() AS number\n",
    "            FROM knowledge_graph_processed\n",
    "            GROUP BY subject;\n",
    "            ''')\n",
    "    clickhouse_execute('''\n",
    "            INSERT INTO filtered_processed_nodes\n",
    "            SELECT t1.node AS node\n",
    "            FROM (\n",
    "                SELECT\n",
    "                    subject AS node\n",
    "                FROM subject_processed_agg) t1\n",
    "            ALL INNER JOIN (\n",
    "                SELECT\n",
    "                    DISTINCT object AS node\n",
    "                FROM knowledge_graph_processed\n",
    "                PREWHERE subject != object) t2\n",
    "            USING node;\n",
    "            ''')\n",
    "    clickhouse_execute('''\n",
    "            INSERT INTO knowledge_graph_processed_filtered\n",
    "            SELECT *\n",
    "            FROM knowledge_graph_processed\n",
    "            PREWHERE subject IN (SELECT node FROM filtered_processed_nodes)\n",
    "                 AND object IN (SELECT node FROM filtered_processed_nodes)\n",
    "                 AND subject != object;\n",
    "            ''')"
   ]
  },
  {
   "cell_type": "markdown",
   "metadata": {},
   "source": [
    "## Knowledge Graph Parameters"
   ]
  },
  {
   "cell_type": "code",
   "execution_count": 5,
   "metadata": {},
   "outputs": [],
   "source": [
    "def base_graph_parameters(knowledge_graph_table_name):\n",
    "    return load_from_ch_to_df('''\n",
    "            SELECT item,\n",
    "                   count_unique_items\n",
    "            FROM (\n",
    "                SELECT\n",
    "                    'Links' AS item,\n",
    "                    count() AS count_unique_items\n",
    "                FROM {0}\n",
    "                UNION ALL\n",
    "                SELECT\n",
    "                    'Subjects' AS item,\n",
    "                    count(DISTINCT subject) AS count_unique_items\n",
    "                FROM {0}\n",
    "                UNION ALL\n",
    "                SELECT\n",
    "                    'Predicates' AS item,\n",
    "                    count(DISTINCT predicate) AS count_unique_items\n",
    "                FROM {0}\n",
    "                UNION ALL\n",
    "                SELECT\n",
    "                    'Objects' AS item,\n",
    "                    count(DISTINCT object) AS count_unique_items\n",
    "                FROM {0})\n",
    "                ORDER BY count_unique_items DESC;\n",
    "               '''.format(knowledge_graph_table_name),\n",
    "               columns=['Item types', 'Number of unique items'])\n",
    "\n",
    "def number_of_links_by_type_items(item_type, knowledge_graph_table_name, limit=10):\n",
    "    return load_from_ch_to_df('''\n",
    "                SELECT\n",
    "                    {0},\n",
    "                    count() AS number_of_links\n",
    "                FROM {1}\n",
    "                GROUP BY {0}\n",
    "                ORDER BY number_of_links DESC\n",
    "                LIMIT {2};\n",
    "                '''.format(item_type, knowledge_graph_table_name, limit),\n",
    "                columns=[item_type.capitalize()+' item', 'Number of Links'])\n",
    "\n",
    "def print_graph_parameters(knowledge_graph_table_name):\n",
    "    display(HTML('Base Graph Parameters'))\n",
    "    display(HTML(base_graph_parameters(knowledge_graph_table_name).to_html(index=False)))\n",
    "    for item_type in ['subject', 'predicate', 'object']:\n",
    "        display(HTML(f'Top {item_type.capitalize()}s in the Graph'))\n",
    "        display(HTML(number_of_links_by_type_items(item_type, knowledge_graph_table_name).to_html(index=False)))"
   ]
  },
  {
   "cell_type": "markdown",
   "metadata": {},
   "source": [
    "### Raw Graph\n",
    "As in graph source"
   ]
  },
  {
   "cell_type": "code",
   "execution_count": 6,
   "metadata": {},
   "outputs": [
    {
     "data": {
      "text/html": [
       "Base Graph Parameters"
      ],
      "text/plain": [
       "<IPython.core.display.HTML object>"
      ]
     },
     "metadata": {},
     "output_type": "display_data"
    },
    {
     "data": {
      "text/html": [
       "<table border=\"1\" class=\"dataframe\">\n",
       "  <thead>\n",
       "    <tr style=\"text-align: right;\">\n",
       "      <th>Item types</th>\n",
       "      <th>Number of unique items</th>\n",
       "    </tr>\n",
       "  </thead>\n",
       "  <tbody>\n",
       "    <tr>\n",
       "      <td>Links</td>\n",
       "      <td>125638794</td>\n",
       "    </tr>\n",
       "    <tr>\n",
       "      <td>Objects</td>\n",
       "      <td>15728434</td>\n",
       "    </tr>\n",
       "    <tr>\n",
       "      <td>Subjects</td>\n",
       "      <td>12072467</td>\n",
       "    </tr>\n",
       "    <tr>\n",
       "      <td>Predicates</td>\n",
       "      <td>554</td>\n",
       "    </tr>\n",
       "  </tbody>\n",
       "</table>"
      ],
      "text/plain": [
       "<IPython.core.display.HTML object>"
      ]
     },
     "metadata": {},
     "output_type": "display_data"
    },
    {
     "data": {
      "text/html": [
       "Top Subjects in the Graph"
      ],
      "text/plain": [
       "<IPython.core.display.HTML object>"
      ]
     },
     "metadata": {},
     "output_type": "display_data"
    },
    {
     "data": {
      "text/html": [
       "<table border=\"1\" class=\"dataframe\">\n",
       "  <thead>\n",
       "    <tr style=\"text-align: right;\">\n",
       "      <th>Subject item</th>\n",
       "      <th>Number of Links</th>\n",
       "    </tr>\n",
       "  </thead>\n",
       "  <tbody>\n",
       "    <tr>\n",
       "      <td>&lt;http://caligraph.org/ontology/Person&gt;</td>\n",
       "      <td>1151</td>\n",
       "    </tr>\n",
       "    <tr>\n",
       "      <td>&lt;http://caligraph.org/ontology/Person_associated_with_places&gt;</td>\n",
       "      <td>615</td>\n",
       "    </tr>\n",
       "    <tr>\n",
       "      <td>&lt;http://caligraph.org/resource/Peregrine_falcon&gt;</td>\n",
       "      <td>610</td>\n",
       "    </tr>\n",
       "    <tr>\n",
       "      <td>&lt;http://caligraph.org/resource/Osprey&gt;</td>\n",
       "      <td>597</td>\n",
       "    </tr>\n",
       "    <tr>\n",
       "      <td>&lt;http://caligraph.org/resource/Barn_swallow&gt;</td>\n",
       "      <td>595</td>\n",
       "    </tr>\n",
       "    <tr>\n",
       "      <td>&lt;http://caligraph.org/resource/Forced_Labour_Convention&gt;</td>\n",
       "      <td>590</td>\n",
       "    </tr>\n",
       "    <tr>\n",
       "      <td>&lt;http://caligraph.org/resource/Ruddy_turnstone&gt;</td>\n",
       "      <td>576</td>\n",
       "    </tr>\n",
       "    <tr>\n",
       "      <td>&lt;http://caligraph.org/resource/Cattle_egret&gt;</td>\n",
       "      <td>574</td>\n",
       "    </tr>\n",
       "    <tr>\n",
       "      <td>&lt;http://caligraph.org/resource/Sanderling&gt;</td>\n",
       "      <td>570</td>\n",
       "    </tr>\n",
       "    <tr>\n",
       "      <td>&lt;http://caligraph.org/resource/Single_Convention_on_Narcotic_Drugs&gt;</td>\n",
       "      <td>559</td>\n",
       "    </tr>\n",
       "  </tbody>\n",
       "</table>"
      ],
      "text/plain": [
       "<IPython.core.display.HTML object>"
      ]
     },
     "metadata": {},
     "output_type": "display_data"
    },
    {
     "data": {
      "text/html": [
       "Top Predicates in the Graph"
      ],
      "text/plain": [
       "<IPython.core.display.HTML object>"
      ]
     },
     "metadata": {},
     "output_type": "display_data"
    },
    {
     "data": {
      "text/html": [
       "<table border=\"1\" class=\"dataframe\">\n",
       "  <thead>\n",
       "    <tr style=\"text-align: right;\">\n",
       "      <th>Predicate item</th>\n",
       "      <th>Number of Links</th>\n",
       "    </tr>\n",
       "  </thead>\n",
       "  <tbody>\n",
       "    <tr>\n",
       "      <td>&lt;http://www.w3.org/1999/02/22-rdf-syntax-ns#type&gt;</td>\n",
       "      <td>74980726</td>\n",
       "    </tr>\n",
       "    <tr>\n",
       "      <td>&lt;http://www.w3.org/ns/prov#wasDerivedFrom&gt;</td>\n",
       "      <td>21442564</td>\n",
       "    </tr>\n",
       "    <tr>\n",
       "      <td>&lt;http://www.w3.org/2000/01/rdf-schema#label&gt;</td>\n",
       "      <td>9213457</td>\n",
       "    </tr>\n",
       "    <tr>\n",
       "      <td>&lt;http://www.w3.org/2002/07/owl#sameAs&gt;</td>\n",
       "      <td>6306410</td>\n",
       "    </tr>\n",
       "    <tr>\n",
       "      <td>&lt;http://caligraph.org/ontology/birthPlace&gt;</td>\n",
       "      <td>1616471</td>\n",
       "    </tr>\n",
       "    <tr>\n",
       "      <td>&lt;http://dbpedia.org/ontology/birthPlace&gt;</td>\n",
       "      <td>1150300</td>\n",
       "    </tr>\n",
       "    <tr>\n",
       "      <td>&lt;http://www.w3.org/2000/01/rdf-schema#subClassOf&gt;</td>\n",
       "      <td>1146629</td>\n",
       "    </tr>\n",
       "    <tr>\n",
       "      <td>&lt;http://caligraph.org/ontology/country&gt;</td>\n",
       "      <td>775437</td>\n",
       "    </tr>\n",
       "    <tr>\n",
       "      <td>&lt;http://caligraph.org/ontology/isPartOf&gt;</td>\n",
       "      <td>651285</td>\n",
       "    </tr>\n",
       "    <tr>\n",
       "      <td>&lt;http://caligraph.org/ontology/location&gt;</td>\n",
       "      <td>607541</td>\n",
       "    </tr>\n",
       "  </tbody>\n",
       "</table>"
      ],
      "text/plain": [
       "<IPython.core.display.HTML object>"
      ]
     },
     "metadata": {},
     "output_type": "display_data"
    },
    {
     "data": {
      "text/html": [
       "Top Objects in the Graph"
      ],
      "text/plain": [
       "<IPython.core.display.HTML object>"
      ]
     },
     "metadata": {},
     "output_type": "display_data"
    },
    {
     "data": {
      "text/html": [
       "<table border=\"1\" class=\"dataframe\">\n",
       "  <thead>\n",
       "    <tr style=\"text-align: right;\">\n",
       "      <th>Object item</th>\n",
       "      <th>Number of Links</th>\n",
       "    </tr>\n",
       "  </thead>\n",
       "  <tbody>\n",
       "    <tr>\n",
       "      <td>&lt;http://www.w3.org/2002/07/owl#NamedIndividual&gt;</td>\n",
       "      <td>8346439</td>\n",
       "    </tr>\n",
       "    <tr>\n",
       "      <td>&lt;http://caligraph.org/ontology/Agent&gt;</td>\n",
       "      <td>2511127</td>\n",
       "    </tr>\n",
       "    <tr>\n",
       "      <td>&lt;http://caligraph.org/ontology/Person&gt;</td>\n",
       "      <td>1855754</td>\n",
       "    </tr>\n",
       "    <tr>\n",
       "      <td>&lt;http://caligraph.org/ontology/Place&gt;</td>\n",
       "      <td>1383518</td>\n",
       "    </tr>\n",
       "    <tr>\n",
       "      <td>&lt;http://caligraph.org/ontology/Time_period&gt;</td>\n",
       "      <td>1140006</td>\n",
       "    </tr>\n",
       "    <tr>\n",
       "      <td>&lt;http://dbpedia.org/ontology/Agent&gt;</td>\n",
       "      <td>982775</td>\n",
       "    </tr>\n",
       "    <tr>\n",
       "      <td>&lt;http://caligraph.org/ontology/Career_station&gt;</td>\n",
       "      <td>977005</td>\n",
       "    </tr>\n",
       "    <tr>\n",
       "      <td>&lt;http://en.wikipedia.org/wiki/Category:Living_people&gt;</td>\n",
       "      <td>794362</td>\n",
       "    </tr>\n",
       "    <tr>\n",
       "      <td>&lt;http://caligraph.org/ontology/Living_person&gt;</td>\n",
       "      <td>793669</td>\n",
       "    </tr>\n",
       "    <tr>\n",
       "      <td>&lt;http://www.w3.org/2002/07/owl#Class&gt;</td>\n",
       "      <td>756236</td>\n",
       "    </tr>\n",
       "  </tbody>\n",
       "</table>"
      ],
      "text/plain": [
       "<IPython.core.display.HTML object>"
      ]
     },
     "metadata": {},
     "output_type": "display_data"
    }
   ],
   "source": [
    "print_graph_parameters('knowledge_graph_raw')"
   ]
  },
  {
   "cell_type": "markdown",
   "metadata": {},
   "source": [
    "### Processed Graph\n",
    "Removed URI prefix"
   ]
  },
  {
   "cell_type": "code",
   "execution_count": 7,
   "metadata": {},
   "outputs": [
    {
     "data": {
      "text/html": [
       "Base Graph Parameters"
      ],
      "text/plain": [
       "<IPython.core.display.HTML object>"
      ]
     },
     "metadata": {},
     "output_type": "display_data"
    },
    {
     "data": {
      "text/html": [
       "<table border=\"1\" class=\"dataframe\">\n",
       "  <thead>\n",
       "    <tr style=\"text-align: right;\">\n",
       "      <th>Item types</th>\n",
       "      <th>Number of unique items</th>\n",
       "    </tr>\n",
       "  </thead>\n",
       "  <tbody>\n",
       "    <tr>\n",
       "      <td>Links</td>\n",
       "      <td>125617414</td>\n",
       "    </tr>\n",
       "    <tr>\n",
       "      <td>Objects</td>\n",
       "      <td>15079945</td>\n",
       "    </tr>\n",
       "    <tr>\n",
       "      <td>Subjects</td>\n",
       "      <td>8175366</td>\n",
       "    </tr>\n",
       "    <tr>\n",
       "      <td>Predicates</td>\n",
       "      <td>283</td>\n",
       "    </tr>\n",
       "  </tbody>\n",
       "</table>"
      ],
      "text/plain": [
       "<IPython.core.display.HTML object>"
      ]
     },
     "metadata": {},
     "output_type": "display_data"
    },
    {
     "data": {
      "text/html": [
       "Top Subjects in the Graph"
      ],
      "text/plain": [
       "<IPython.core.display.HTML object>"
      ]
     },
     "metadata": {},
     "output_type": "display_data"
    },
    {
     "data": {
      "text/html": [
       "<table border=\"1\" class=\"dataframe\">\n",
       "  <thead>\n",
       "    <tr style=\"text-align: right;\">\n",
       "      <th>Subject item</th>\n",
       "      <th>Number of Links</th>\n",
       "    </tr>\n",
       "  </thead>\n",
       "  <tbody>\n",
       "    <tr>\n",
       "      <td>Person</td>\n",
       "      <td>1163</td>\n",
       "    </tr>\n",
       "    <tr>\n",
       "      <td>Senior_High_School</td>\n",
       "      <td>675</td>\n",
       "    </tr>\n",
       "    <tr>\n",
       "      <td>Peregrine_falcon</td>\n",
       "      <td>619</td>\n",
       "    </tr>\n",
       "    <tr>\n",
       "      <td>Person_associated_with_places</td>\n",
       "      <td>615</td>\n",
       "    </tr>\n",
       "    <tr>\n",
       "      <td>Barn_swallow</td>\n",
       "      <td>601</td>\n",
       "    </tr>\n",
       "    <tr>\n",
       "      <td>Osprey</td>\n",
       "      <td>598</td>\n",
       "    </tr>\n",
       "    <tr>\n",
       "      <td>Forced_Labour_Convention</td>\n",
       "      <td>593</td>\n",
       "    </tr>\n",
       "    <tr>\n",
       "      <td>Ruddy_turnstone</td>\n",
       "      <td>577</td>\n",
       "    </tr>\n",
       "    <tr>\n",
       "      <td>Cattle_egret</td>\n",
       "      <td>575</td>\n",
       "    </tr>\n",
       "    <tr>\n",
       "      <td>Sanderling</td>\n",
       "      <td>570</td>\n",
       "    </tr>\n",
       "  </tbody>\n",
       "</table>"
      ],
      "text/plain": [
       "<IPython.core.display.HTML object>"
      ]
     },
     "metadata": {},
     "output_type": "display_data"
    },
    {
     "data": {
      "text/html": [
       "Top Predicates in the Graph"
      ],
      "text/plain": [
       "<IPython.core.display.HTML object>"
      ]
     },
     "metadata": {},
     "output_type": "display_data"
    },
    {
     "data": {
      "text/html": [
       "<table border=\"1\" class=\"dataframe\">\n",
       "  <thead>\n",
       "    <tr style=\"text-align: right;\">\n",
       "      <th>Predicate item</th>\n",
       "      <th>Number of Links</th>\n",
       "    </tr>\n",
       "  </thead>\n",
       "  <tbody>\n",
       "    <tr>\n",
       "      <td>type</td>\n",
       "      <td>75356823</td>\n",
       "    </tr>\n",
       "    <tr>\n",
       "      <td>wasDerivedFrom</td>\n",
       "      <td>21440327</td>\n",
       "    </tr>\n",
       "    <tr>\n",
       "      <td>label</td>\n",
       "      <td>9213389</td>\n",
       "    </tr>\n",
       "    <tr>\n",
       "      <td>sameAs</td>\n",
       "      <td>6303533</td>\n",
       "    </tr>\n",
       "    <tr>\n",
       "      <td>birthPlace</td>\n",
       "      <td>2766752</td>\n",
       "    </tr>\n",
       "    <tr>\n",
       "      <td>subClassOf</td>\n",
       "      <td>1146576</td>\n",
       "    </tr>\n",
       "    <tr>\n",
       "      <td>country</td>\n",
       "      <td>1111207</td>\n",
       "    </tr>\n",
       "    <tr>\n",
       "      <td>location</td>\n",
       "      <td>1077068</td>\n",
       "    </tr>\n",
       "    <tr>\n",
       "      <td>isPartOf</td>\n",
       "      <td>808021</td>\n",
       "    </tr>\n",
       "    <tr>\n",
       "      <td>team</td>\n",
       "      <td>648365</td>\n",
       "    </tr>\n",
       "  </tbody>\n",
       "</table>"
      ],
      "text/plain": [
       "<IPython.core.display.HTML object>"
      ]
     },
     "metadata": {},
     "output_type": "display_data"
    },
    {
     "data": {
      "text/html": [
       "Top Objects in the Graph"
      ],
      "text/plain": [
       "<IPython.core.display.HTML object>"
      ]
     },
     "metadata": {},
     "output_type": "display_data"
    },
    {
     "data": {
      "text/html": [
       "<table border=\"1\" class=\"dataframe\">\n",
       "  <thead>\n",
       "    <tr style=\"text-align: right;\">\n",
       "      <th>Object item</th>\n",
       "      <th>Number of Links</th>\n",
       "    </tr>\n",
       "  </thead>\n",
       "  <tbody>\n",
       "    <tr>\n",
       "      <td>NamedIndividual</td>\n",
       "      <td>8342946</td>\n",
       "    </tr>\n",
       "    <tr>\n",
       "      <td>Agent</td>\n",
       "      <td>3493351</td>\n",
       "    </tr>\n",
       "    <tr>\n",
       "      <td>Person</td>\n",
       "      <td>2574223</td>\n",
       "    </tr>\n",
       "    <tr>\n",
       "      <td>Place</td>\n",
       "      <td>1929907</td>\n",
       "    </tr>\n",
       "    <tr>\n",
       "      <td>Time_period</td>\n",
       "      <td>1140006</td>\n",
       "    </tr>\n",
       "    <tr>\n",
       "      <td>Career_station</td>\n",
       "      <td>977005</td>\n",
       "    </tr>\n",
       "    <tr>\n",
       "      <td>Work</td>\n",
       "      <td>866273</td>\n",
       "    </tr>\n",
       "    <tr>\n",
       "      <td>Species</td>\n",
       "      <td>795959</td>\n",
       "    </tr>\n",
       "    <tr>\n",
       "      <td>Category:Living_people</td>\n",
       "      <td>794342</td>\n",
       "    </tr>\n",
       "    <tr>\n",
       "      <td>Living_person</td>\n",
       "      <td>793649</td>\n",
       "    </tr>\n",
       "  </tbody>\n",
       "</table>"
      ],
      "text/plain": [
       "<IPython.core.display.HTML object>"
      ]
     },
     "metadata": {},
     "output_type": "display_data"
    }
   ],
   "source": [
    "print_graph_parameters('knowledge_graph_processed')"
   ]
  },
  {
   "cell_type": "markdown",
   "metadata": {},
   "source": [
    "### Processed Filtered Graph\n",
    "Removed links in the Processed Graph if an object does not appear in a role of a subject."
   ]
  },
  {
   "cell_type": "code",
   "execution_count": 8,
   "metadata": {},
   "outputs": [
    {
     "data": {
      "text/html": [
       "Base Graph Parameters"
      ],
      "text/plain": [
       "<IPython.core.display.HTML object>"
      ]
     },
     "metadata": {},
     "output_type": "display_data"
    },
    {
     "data": {
      "text/html": [
       "<table border=\"1\" class=\"dataframe\">\n",
       "  <thead>\n",
       "    <tr style=\"text-align: right;\">\n",
       "      <th>Item types</th>\n",
       "      <th>Number of unique items</th>\n",
       "    </tr>\n",
       "  </thead>\n",
       "  <tbody>\n",
       "    <tr>\n",
       "      <td>Links</td>\n",
       "      <td>3284488</td>\n",
       "    </tr>\n",
       "    <tr>\n",
       "      <td>Subjects</td>\n",
       "      <td>861781</td>\n",
       "    </tr>\n",
       "    <tr>\n",
       "      <td>Objects</td>\n",
       "      <td>360328</td>\n",
       "    </tr>\n",
       "    <tr>\n",
       "      <td>Predicates</td>\n",
       "      <td>206</td>\n",
       "    </tr>\n",
       "  </tbody>\n",
       "</table>"
      ],
      "text/plain": [
       "<IPython.core.display.HTML object>"
      ]
     },
     "metadata": {},
     "output_type": "display_data"
    },
    {
     "data": {
      "text/html": [
       "Top Subjects in the Graph"
      ],
      "text/plain": [
       "<IPython.core.display.HTML object>"
      ]
     },
     "metadata": {},
     "output_type": "display_data"
    },
    {
     "data": {
      "text/html": [
       "<table border=\"1\" class=\"dataframe\">\n",
       "  <thead>\n",
       "    <tr style=\"text-align: right;\">\n",
       "      <th>Subject item</th>\n",
       "      <th>Number of Links</th>\n",
       "    </tr>\n",
       "  </thead>\n",
       "  <tbody>\n",
       "    <tr>\n",
       "      <td>S</td>\n",
       "      <td>328</td>\n",
       "    </tr>\n",
       "    <tr>\n",
       "      <td>Osprey</td>\n",
       "      <td>314</td>\n",
       "    </tr>\n",
       "    <tr>\n",
       "      <td>Madonna_(entertainer)</td>\n",
       "      <td>290</td>\n",
       "    </tr>\n",
       "    <tr>\n",
       "      <td>2</td>\n",
       "      <td>288</td>\n",
       "    </tr>\n",
       "    <tr>\n",
       "      <td>Winston_Churchill</td>\n",
       "      <td>273</td>\n",
       "    </tr>\n",
       "    <tr>\n",
       "      <td>World_Health_Organization</td>\n",
       "      <td>270</td>\n",
       "    </tr>\n",
       "    <tr>\n",
       "      <td>Mallard</td>\n",
       "      <td>265</td>\n",
       "    </tr>\n",
       "    <tr>\n",
       "      <td>Ruff</td>\n",
       "      <td>260</td>\n",
       "    </tr>\n",
       "    <tr>\n",
       "      <td>World_Heritage_Site</td>\n",
       "      <td>252</td>\n",
       "    </tr>\n",
       "    <tr>\n",
       "      <td>Michael_Jackson</td>\n",
       "      <td>236</td>\n",
       "    </tr>\n",
       "  </tbody>\n",
       "</table>"
      ],
      "text/plain": [
       "<IPython.core.display.HTML object>"
      ]
     },
     "metadata": {},
     "output_type": "display_data"
    },
    {
     "data": {
      "text/html": [
       "Top Predicates in the Graph"
      ],
      "text/plain": [
       "<IPython.core.display.HTML object>"
      ]
     },
     "metadata": {},
     "output_type": "display_data"
    },
    {
     "data": {
      "text/html": [
       "<table border=\"1\" class=\"dataframe\">\n",
       "  <thead>\n",
       "    <tr style=\"text-align: right;\">\n",
       "      <th>Predicate item</th>\n",
       "      <th>Number of Links</th>\n",
       "    </tr>\n",
       "  </thead>\n",
       "  <tbody>\n",
       "    <tr>\n",
       "      <td>type</td>\n",
       "      <td>1653595</td>\n",
       "    </tr>\n",
       "    <tr>\n",
       "      <td>subClassOf</td>\n",
       "      <td>1025896</td>\n",
       "    </tr>\n",
       "    <tr>\n",
       "      <td>onProperty</td>\n",
       "      <td>110457</td>\n",
       "    </tr>\n",
       "    <tr>\n",
       "      <td>hasValue</td>\n",
       "      <td>110179</td>\n",
       "    </tr>\n",
       "    <tr>\n",
       "      <td>birthPlace</td>\n",
       "      <td>76072</td>\n",
       "    </tr>\n",
       "    <tr>\n",
       "      <td>country</td>\n",
       "      <td>43819</td>\n",
       "    </tr>\n",
       "    <tr>\n",
       "      <td>genre</td>\n",
       "      <td>43109</td>\n",
       "    </tr>\n",
       "    <tr>\n",
       "      <td>occupation</td>\n",
       "      <td>41464</td>\n",
       "    </tr>\n",
       "    <tr>\n",
       "      <td>isPartOf</td>\n",
       "      <td>31106</td>\n",
       "    </tr>\n",
       "    <tr>\n",
       "      <td>hometown</td>\n",
       "      <td>30841</td>\n",
       "    </tr>\n",
       "  </tbody>\n",
       "</table>"
      ],
      "text/plain": [
       "<IPython.core.display.HTML object>"
      ]
     },
     "metadata": {},
     "output_type": "display_data"
    },
    {
     "data": {
      "text/html": [
       "Top Objects in the Graph"
      ],
      "text/plain": [
       "<IPython.core.display.HTML object>"
      ]
     },
     "metadata": {},
     "output_type": "display_data"
    },
    {
     "data": {
      "text/html": [
       "<table border=\"1\" class=\"dataframe\">\n",
       "  <thead>\n",
       "    <tr style=\"text-align: right;\">\n",
       "      <th>Object item</th>\n",
       "      <th>Number of Links</th>\n",
       "    </tr>\n",
       "  </thead>\n",
       "  <tbody>\n",
       "    <tr>\n",
       "      <td>Person</td>\n",
       "      <td>102624</td>\n",
       "    </tr>\n",
       "    <tr>\n",
       "      <td>Agent</td>\n",
       "      <td>68336</td>\n",
       "    </tr>\n",
       "    <tr>\n",
       "      <td>Place</td>\n",
       "      <td>49607</td>\n",
       "    </tr>\n",
       "    <tr>\n",
       "      <td>Populated_place</td>\n",
       "      <td>41292</td>\n",
       "    </tr>\n",
       "    <tr>\n",
       "      <td>United_States</td>\n",
       "      <td>39524</td>\n",
       "    </tr>\n",
       "    <tr>\n",
       "      <td>Organisation</td>\n",
       "      <td>31093</td>\n",
       "    </tr>\n",
       "    <tr>\n",
       "      <td>Settlement</td>\n",
       "      <td>25113</td>\n",
       "    </tr>\n",
       "    <tr>\n",
       "      <td>Social_group</td>\n",
       "      <td>23027</td>\n",
       "    </tr>\n",
       "    <tr>\n",
       "      <td>birthPlace</td>\n",
       "      <td>21662</td>\n",
       "    </tr>\n",
       "    <tr>\n",
       "      <td>Organization</td>\n",
       "      <td>21034</td>\n",
       "    </tr>\n",
       "  </tbody>\n",
       "</table>"
      ],
      "text/plain": [
       "<IPython.core.display.HTML object>"
      ]
     },
     "metadata": {},
     "output_type": "display_data"
    }
   ],
   "source": [
    "print_graph_parameters('knowledge_graph_processed_filtered')"
   ]
  },
  {
   "cell_type": "code",
   "execution_count": 8,
   "metadata": {},
   "outputs": [
    {
     "data": {
      "text/html": [
       "<div>\n",
       "<style scoped>\n",
       "    .dataframe tbody tr th:only-of-type {\n",
       "        vertical-align: middle;\n",
       "    }\n",
       "\n",
       "    .dataframe tbody tr th {\n",
       "        vertical-align: top;\n",
       "    }\n",
       "\n",
       "    .dataframe thead th {\n",
       "        text-align: right;\n",
       "    }\n",
       "</style>\n",
       "<table border=\"1\" class=\"dataframe\">\n",
       "  <thead>\n",
       "    <tr style=\"text-align: right;\">\n",
       "      <th></th>\n",
       "      <th>0</th>\n",
       "    </tr>\n",
       "  </thead>\n",
       "  <tbody>\n",
       "    <tr>\n",
       "      <th>0</th>\n",
       "      <td>189553387</td>\n",
       "    </tr>\n",
       "  </tbody>\n",
       "</table>\n",
       "</div>"
      ],
      "text/plain": [
       "           0\n",
       "0  189553387"
      ]
     },
     "execution_count": 8,
     "metadata": {},
     "output_type": "execute_result"
    }
   ],
   "source": [
    "clickhouse_execute('SET max_memory_usage = 200000000000;')\n",
    "load_from_ch_to_df('''\n",
    "    SELECT\n",
    "        count(DISTINCT subject) as \"Number of Subjects\"\n",
    "    FROM knowledge_graph_wikidata_raw;\n",
    "''')"
   ]
  },
  {
   "cell_type": "code",
   "execution_count": 10,
   "metadata": {},
   "outputs": [
    {
     "ename": "EOFError",
     "evalue": "Unexpected EOF while reading bytes",
     "output_type": "error",
     "traceback": [
      "\u001B[0;31m---------------------------------------------------------------------------\u001B[0m",
      "\u001B[0;31mEOFError\u001B[0m                                  Traceback (most recent call last)",
      "\u001B[0;32m<ipython-input-10-7abd9fc701d6>\u001B[0m in \u001B[0;36m<module>\u001B[0;34m\u001B[0m\n\u001B[1;32m      1\u001B[0m \u001B[0mexecute\u001B[0m\u001B[0;34m(\u001B[0m\u001B[0;34m'SET max_memory_usage = 200000000000;'\u001B[0m\u001B[0;34m)\u001B[0m\u001B[0;34m\u001B[0m\u001B[0;34m\u001B[0m\u001B[0m\n\u001B[0;32m----> 2\u001B[0;31m res = execute('''\n\u001B[0m\u001B[1;32m      3\u001B[0m     \u001B[0mSELECT\u001B[0m\u001B[0;34m\u001B[0m\u001B[0;34m\u001B[0m\u001B[0m\n\u001B[1;32m      4\u001B[0m         \u001B[0mcount\u001B[0m\u001B[0;34m(\u001B[0m\u001B[0mDISTINCT\u001B[0m \u001B[0mobject\u001B[0m\u001B[0;34m)\u001B[0m \u001B[0;32mas\u001B[0m \u001B[0;34m\"Number of Objects\"\u001B[0m\u001B[0;34m\u001B[0m\u001B[0;34m\u001B[0m\u001B[0m\n\u001B[1;32m      5\u001B[0m     \u001B[0mFROM\u001B[0m \u001B[0mknowledge_graph_wikidata_raw\u001B[0m\u001B[0;34m;\u001B[0m\u001B[0;34m\u001B[0m\u001B[0;34m\u001B[0m\u001B[0m\n",
      "\u001B[0;32m~/.local/lib/python3.8/site-packages/clickhouse_driver/client.py\u001B[0m in \u001B[0;36mexecute\u001B[0;34m(self, query, params, with_column_types, external_tables, query_id, settings, types_check, columnar)\u001B[0m\n\u001B[1;32m    218\u001B[0m                 )\n\u001B[1;32m    219\u001B[0m             \u001B[0;32melse\u001B[0m\u001B[0;34m:\u001B[0m\u001B[0;34m\u001B[0m\u001B[0;34m\u001B[0m\u001B[0m\n\u001B[0;32m--> 220\u001B[0;31m                 rv = self.process_ordinary_query(\n\u001B[0m\u001B[1;32m    221\u001B[0m                     \u001B[0mquery\u001B[0m\u001B[0;34m,\u001B[0m \u001B[0mparams\u001B[0m\u001B[0;34m=\u001B[0m\u001B[0mparams\u001B[0m\u001B[0;34m,\u001B[0m \u001B[0mwith_column_types\u001B[0m\u001B[0;34m=\u001B[0m\u001B[0mwith_column_types\u001B[0m\u001B[0;34m,\u001B[0m\u001B[0;34m\u001B[0m\u001B[0;34m\u001B[0m\u001B[0m\n\u001B[1;32m    222\u001B[0m                     \u001B[0mexternal_tables\u001B[0m\u001B[0;34m=\u001B[0m\u001B[0mexternal_tables\u001B[0m\u001B[0;34m,\u001B[0m\u001B[0;34m\u001B[0m\u001B[0;34m\u001B[0m\u001B[0m\n",
      "\u001B[0;32m~/.local/lib/python3.8/site-packages/clickhouse_driver/client.py\u001B[0m in \u001B[0;36mprocess_ordinary_query\u001B[0;34m(self, query, params, with_column_types, external_tables, query_id, types_check, columnar)\u001B[0m\n\u001B[1;32m    344\u001B[0m         self.connection.send_external_tables(external_tables,\n\u001B[1;32m    345\u001B[0m                                              types_check=types_check)\n\u001B[0;32m--> 346\u001B[0;31m         return self.receive_result(with_column_types=with_column_types,\n\u001B[0m\u001B[1;32m    347\u001B[0m                                    columnar=columnar)\n\u001B[1;32m    348\u001B[0m \u001B[0;34m\u001B[0m\u001B[0m\n",
      "\u001B[0;32m~/.local/lib/python3.8/site-packages/clickhouse_driver/client.py\u001B[0m in \u001B[0;36mreceive_result\u001B[0;34m(self, with_column_types, progress, columnar)\u001B[0m\n\u001B[1;32m     87\u001B[0m                 \u001B[0mgen\u001B[0m\u001B[0;34m,\u001B[0m \u001B[0mwith_column_types\u001B[0m\u001B[0;34m=\u001B[0m\u001B[0mwith_column_types\u001B[0m\u001B[0;34m,\u001B[0m \u001B[0mcolumnar\u001B[0m\u001B[0;34m=\u001B[0m\u001B[0mcolumnar\u001B[0m\u001B[0;34m\u001B[0m\u001B[0;34m\u001B[0m\u001B[0m\n\u001B[1;32m     88\u001B[0m             )\n\u001B[0;32m---> 89\u001B[0;31m             \u001B[0;32mreturn\u001B[0m \u001B[0mresult\u001B[0m\u001B[0;34m.\u001B[0m\u001B[0mget_result\u001B[0m\u001B[0;34m(\u001B[0m\u001B[0;34m)\u001B[0m\u001B[0;34m\u001B[0m\u001B[0;34m\u001B[0m\u001B[0m\n\u001B[0m\u001B[1;32m     90\u001B[0m \u001B[0;34m\u001B[0m\u001B[0m\n\u001B[1;32m     91\u001B[0m     \u001B[0;32mdef\u001B[0m \u001B[0miter_receive_result\u001B[0m\u001B[0;34m(\u001B[0m\u001B[0mself\u001B[0m\u001B[0;34m,\u001B[0m \u001B[0mwith_column_types\u001B[0m\u001B[0;34m=\u001B[0m\u001B[0;32mFalse\u001B[0m\u001B[0;34m)\u001B[0m\u001B[0;34m:\u001B[0m\u001B[0;34m\u001B[0m\u001B[0;34m\u001B[0m\u001B[0m\n",
      "\u001B[0;32m~/.local/lib/python3.8/site-packages/clickhouse_driver/result.py\u001B[0m in \u001B[0;36mget_result\u001B[0;34m(self)\u001B[0m\n\u001B[1;32m     48\u001B[0m         \"\"\"\n\u001B[1;32m     49\u001B[0m \u001B[0;34m\u001B[0m\u001B[0m\n\u001B[0;32m---> 50\u001B[0;31m         \u001B[0;32mfor\u001B[0m \u001B[0mpacket\u001B[0m \u001B[0;32min\u001B[0m \u001B[0mself\u001B[0m\u001B[0;34m.\u001B[0m\u001B[0mpacket_generator\u001B[0m\u001B[0;34m:\u001B[0m\u001B[0;34m\u001B[0m\u001B[0;34m\u001B[0m\u001B[0m\n\u001B[0m\u001B[1;32m     51\u001B[0m             \u001B[0mself\u001B[0m\u001B[0;34m.\u001B[0m\u001B[0mstore\u001B[0m\u001B[0;34m(\u001B[0m\u001B[0mpacket\u001B[0m\u001B[0;34m)\u001B[0m\u001B[0;34m\u001B[0m\u001B[0;34m\u001B[0m\u001B[0m\n\u001B[1;32m     52\u001B[0m \u001B[0;34m\u001B[0m\u001B[0m\n",
      "\u001B[0;32m~/.local/lib/python3.8/site-packages/clickhouse_driver/client.py\u001B[0m in \u001B[0;36mpacket_generator\u001B[0;34m(self)\u001B[0m\n\u001B[1;32m     99\u001B[0m         \u001B[0;32mwhile\u001B[0m \u001B[0;32mTrue\u001B[0m\u001B[0;34m:\u001B[0m\u001B[0;34m\u001B[0m\u001B[0;34m\u001B[0m\u001B[0m\n\u001B[1;32m    100\u001B[0m             \u001B[0;32mtry\u001B[0m\u001B[0;34m:\u001B[0m\u001B[0;34m\u001B[0m\u001B[0;34m\u001B[0m\u001B[0m\n\u001B[0;32m--> 101\u001B[0;31m                 \u001B[0mpacket\u001B[0m \u001B[0;34m=\u001B[0m \u001B[0mself\u001B[0m\u001B[0;34m.\u001B[0m\u001B[0mreceive_packet\u001B[0m\u001B[0;34m(\u001B[0m\u001B[0;34m)\u001B[0m\u001B[0;34m\u001B[0m\u001B[0;34m\u001B[0m\u001B[0m\n\u001B[0m\u001B[1;32m    102\u001B[0m                 \u001B[0;32mif\u001B[0m \u001B[0;32mnot\u001B[0m \u001B[0mpacket\u001B[0m\u001B[0;34m:\u001B[0m\u001B[0;34m\u001B[0m\u001B[0;34m\u001B[0m\u001B[0m\n\u001B[1;32m    103\u001B[0m                     \u001B[0;32mbreak\u001B[0m\u001B[0;34m\u001B[0m\u001B[0;34m\u001B[0m\u001B[0m\n",
      "\u001B[0;32m~/.local/lib/python3.8/site-packages/clickhouse_driver/client.py\u001B[0m in \u001B[0;36mreceive_packet\u001B[0;34m(self)\u001B[0m\n\u001B[1;32m    113\u001B[0m \u001B[0;34m\u001B[0m\u001B[0m\n\u001B[1;32m    114\u001B[0m     \u001B[0;32mdef\u001B[0m \u001B[0mreceive_packet\u001B[0m\u001B[0;34m(\u001B[0m\u001B[0mself\u001B[0m\u001B[0;34m)\u001B[0m\u001B[0;34m:\u001B[0m\u001B[0;34m\u001B[0m\u001B[0;34m\u001B[0m\u001B[0m\n\u001B[0;32m--> 115\u001B[0;31m         \u001B[0mpacket\u001B[0m \u001B[0;34m=\u001B[0m \u001B[0mself\u001B[0m\u001B[0;34m.\u001B[0m\u001B[0mconnection\u001B[0m\u001B[0;34m.\u001B[0m\u001B[0mreceive_packet\u001B[0m\u001B[0;34m(\u001B[0m\u001B[0;34m)\u001B[0m\u001B[0;34m\u001B[0m\u001B[0;34m\u001B[0m\u001B[0m\n\u001B[0m\u001B[1;32m    116\u001B[0m \u001B[0;34m\u001B[0m\u001B[0m\n\u001B[1;32m    117\u001B[0m         \u001B[0;32mif\u001B[0m \u001B[0mpacket\u001B[0m\u001B[0;34m.\u001B[0m\u001B[0mtype\u001B[0m \u001B[0;34m==\u001B[0m \u001B[0mServerPacketTypes\u001B[0m\u001B[0;34m.\u001B[0m\u001B[0mEXCEPTION\u001B[0m\u001B[0;34m:\u001B[0m\u001B[0;34m\u001B[0m\u001B[0;34m\u001B[0m\u001B[0m\n",
      "\u001B[0;32m~/.local/lib/python3.8/site-packages/clickhouse_driver/connection.py\u001B[0m in \u001B[0;36mreceive_packet\u001B[0;34m(self)\u001B[0m\n\u001B[1;32m    409\u001B[0m         \u001B[0mpacket\u001B[0m \u001B[0;34m=\u001B[0m \u001B[0mPacket\u001B[0m\u001B[0;34m(\u001B[0m\u001B[0;34m)\u001B[0m\u001B[0;34m\u001B[0m\u001B[0;34m\u001B[0m\u001B[0m\n\u001B[1;32m    410\u001B[0m \u001B[0;34m\u001B[0m\u001B[0m\n\u001B[0;32m--> 411\u001B[0;31m         \u001B[0mpacket\u001B[0m\u001B[0;34m.\u001B[0m\u001B[0mtype\u001B[0m \u001B[0;34m=\u001B[0m \u001B[0mpacket_type\u001B[0m \u001B[0;34m=\u001B[0m \u001B[0mread_varint\u001B[0m\u001B[0;34m(\u001B[0m\u001B[0mself\u001B[0m\u001B[0;34m.\u001B[0m\u001B[0mfin\u001B[0m\u001B[0;34m)\u001B[0m\u001B[0;34m\u001B[0m\u001B[0;34m\u001B[0m\u001B[0m\n\u001B[0m\u001B[1;32m    412\u001B[0m \u001B[0;34m\u001B[0m\u001B[0m\n\u001B[1;32m    413\u001B[0m         \u001B[0;32mif\u001B[0m \u001B[0mpacket_type\u001B[0m \u001B[0;34m==\u001B[0m \u001B[0mServerPacketTypes\u001B[0m\u001B[0;34m.\u001B[0m\u001B[0mDATA\u001B[0m\u001B[0;34m:\u001B[0m\u001B[0;34m\u001B[0m\u001B[0;34m\u001B[0m\u001B[0m\n",
      "\u001B[0;32mclickhouse_driver/varint.pyx\u001B[0m in \u001B[0;36mclickhouse_driver.varint.read_varint\u001B[0;34m()\u001B[0m\n",
      "\u001B[0;32mclickhouse_driver/bufferedreader.pyx\u001B[0m in \u001B[0;36mclickhouse_driver.bufferedreader.BufferedReader.read_one\u001B[0;34m()\u001B[0m\n",
      "\u001B[0;32mclickhouse_driver/bufferedreader.pyx\u001B[0m in \u001B[0;36mclickhouse_driver.bufferedreader.BufferedSocketReader.read_into_buffer\u001B[0;34m()\u001B[0m\n",
      "\u001B[0;31mEOFError\u001B[0m: Unexpected EOF while reading bytes"
     ]
    }
   ],
   "source": [
    "execute('SET max_memory_usage = 200000000000;')\n",
    "res = clickhouse_execute('''\n",
    "    SELECT\n",
    "        count(DISTINCT object) as \"Number of Objects\"\n",
    "    FROM knowledge_graph_wikidata_raw;\n",
    "''')\n",
    "res"
   ]
  },
  {
   "cell_type": "code",
   "execution_count": 5,
   "metadata": {},
   "outputs": [
    {
     "data": {
      "text/html": [
       "<div>\n",
       "<style scoped>\n",
       "    .dataframe tbody tr th:only-of-type {\n",
       "        vertical-align: middle;\n",
       "    }\n",
       "\n",
       "    .dataframe tbody tr th {\n",
       "        vertical-align: top;\n",
       "    }\n",
       "\n",
       "    .dataframe thead th {\n",
       "        text-align: right;\n",
       "    }\n",
       "</style>\n",
       "<table border=\"1\" class=\"dataframe\">\n",
       "  <thead>\n",
       "    <tr style=\"text-align: right;\">\n",
       "      <th></th>\n",
       "      <th>0</th>\n",
       "    </tr>\n",
       "  </thead>\n",
       "  <tbody>\n",
       "    <tr>\n",
       "      <th>0</th>\n",
       "      <td>8193</td>\n",
       "    </tr>\n",
       "  </tbody>\n",
       "</table>\n",
       "</div>"
      ],
      "text/plain": [
       "      0\n",
       "0  8193"
      ]
     },
     "execution_count": 5,
     "metadata": {},
     "output_type": "execute_result"
    }
   ],
   "source": [
    "clickhouse_execute('SET max_memory_usage = 200000000000;')\n",
    "load_from_ch_to_df('''\n",
    "    SELECT\n",
    "        count(DISTINCT predicate) as \"Number of Predicate\"\n",
    "    FROM knowledge_graph_wikidata_raw;\n",
    "''')"
   ]
  },
  {
   "cell_type": "code",
   "execution_count": null,
   "metadata": {},
   "outputs": [],
   "source": []
  }
 ],
 "metadata": {
  "kernelspec": {
   "display_name": "Python 3",
   "language": "python",
   "name": "python3"
  },
  "language_info": {
   "codemirror_mode": {
    "name": "ipython",
    "version": 3
   },
   "file_extension": ".py",
   "mimetype": "text/x-python",
   "name": "python",
   "nbconvert_exporter": "python",
   "pygments_lexer": "ipython3",
   "version": "3.8.5"
  }
 },
 "nbformat": 4,
 "nbformat_minor": 1
}
