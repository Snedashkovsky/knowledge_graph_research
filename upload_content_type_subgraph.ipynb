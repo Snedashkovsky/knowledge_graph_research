{
 "cells": [
  {
   "cell_type": "code",
   "execution_count": 1,
   "metadata": {
    "collapsed": true
   },
   "outputs": [],
   "source": [
    "import numpy as np\n",
    "import pandas as pd\n",
    "import warnings\n",
    "from time import sleep\n",
    "from tqdm.notebook import tqdm\n",
    "\n",
    "warnings.filterwarnings(\"ignore\")\n",
    "\n",
    "from cyber_sdk.key.mnemonic import MnemonicKey\n",
    "from cyber_sdk.client.lcd.api.tx import CreateTxOptions\n",
    "from cyber_sdk.core.fee import Fee\n",
    "from cyber_sdk.core import Coin, Coins, AccAddress\n",
    "from cyber_sdk.exceptions import LCDResponseError\n",
    "from cyber_sdk.core.wasm import MsgExecuteContract\n",
    "\n",
    "from config import BOSTROM_LCD_CLIENT, WALLET_SEED, ipfs_client"
   ]
  },
  {
   "cell_type": "code",
   "execution_count": 2,
   "outputs": [],
   "source": [
    "mk = MnemonicKey(mnemonic=WALLET_SEED)\n",
    "WALLET = BOSTROM_LCD_CLIENT.wallet(mk)\n",
    "WALLET_ADDRESS = WALLET.key.acc_address\n",
    "SUBGRAPH_CONTRACT_ADDRESS = 'bostrom1823qj9q6eruxv8mfwfay87zd9pp66ayq0ckp9xttk0e758a6kl9qtglw7z'\n",
    "BASE_COIN_DENOM = 'boot'"
   ],
   "metadata": {
    "collapsed": false
   }
  },
  {
   "cell_type": "markdown",
   "source": [
    "## Get data for types of particles"
   ],
   "metadata": {
    "collapsed": false
   }
  },
  {
   "cell_type": "code",
   "execution_count": 3,
   "outputs": [
    {
     "data": {
      "text/plain": "                                         particle   type  \\\n0  QmfNfxY5AuE5rrDnE8w8TH7n9fPJQwLhvCo8xHELrP657i  audio   \n1  QmV4wJWemDkVLcsXxpgwPvMnNNdUdV1NzN3ZgwaUuVbStM  audio   \n2  QmdbvwcPfckUzFtcsnvBj28pMua5feXg5k6W1nn5nDeeVT  audio   \n3  QmScFB5z8Z9ijWR9TkRJXB7NSHUSsR21z1MURbYMie9ZDr  audio   \n4  QmYmbqTjkmfZHDDt15X8WW1xwPmx5eKDjCz5w4k9uF7d6C  audio   \n\n                                         type_cid  \n0  QmcqJNJt4zxTMkB5K3Hz1VibDii47qJmn9AgJUFv8JFkwX  \n1  QmcqJNJt4zxTMkB5K3Hz1VibDii47qJmn9AgJUFv8JFkwX  \n2  QmcqJNJt4zxTMkB5K3Hz1VibDii47qJmn9AgJUFv8JFkwX  \n3  QmcqJNJt4zxTMkB5K3Hz1VibDii47qJmn9AgJUFv8JFkwX  \n4  QmcqJNJt4zxTMkB5K3Hz1VibDii47qJmn9AgJUFv8JFkwX  ",
      "text/html": "<div>\n<style scoped>\n    .dataframe tbody tr th:only-of-type {\n        vertical-align: middle;\n    }\n\n    .dataframe tbody tr th {\n        vertical-align: top;\n    }\n\n    .dataframe thead th {\n        text-align: right;\n    }\n</style>\n<table border=\"1\" class=\"dataframe\">\n  <thead>\n    <tr style=\"text-align: right;\">\n      <th></th>\n      <th>particle</th>\n      <th>type</th>\n      <th>type_cid</th>\n    </tr>\n  </thead>\n  <tbody>\n    <tr>\n      <th>0</th>\n      <td>QmfNfxY5AuE5rrDnE8w8TH7n9fPJQwLhvCo8xHELrP657i</td>\n      <td>audio</td>\n      <td>QmcqJNJt4zxTMkB5K3Hz1VibDii47qJmn9AgJUFv8JFkwX</td>\n    </tr>\n    <tr>\n      <th>1</th>\n      <td>QmV4wJWemDkVLcsXxpgwPvMnNNdUdV1NzN3ZgwaUuVbStM</td>\n      <td>audio</td>\n      <td>QmcqJNJt4zxTMkB5K3Hz1VibDii47qJmn9AgJUFv8JFkwX</td>\n    </tr>\n    <tr>\n      <th>2</th>\n      <td>QmdbvwcPfckUzFtcsnvBj28pMua5feXg5k6W1nn5nDeeVT</td>\n      <td>audio</td>\n      <td>QmcqJNJt4zxTMkB5K3Hz1VibDii47qJmn9AgJUFv8JFkwX</td>\n    </tr>\n    <tr>\n      <th>3</th>\n      <td>QmScFB5z8Z9ijWR9TkRJXB7NSHUSsR21z1MURbYMie9ZDr</td>\n      <td>audio</td>\n      <td>QmcqJNJt4zxTMkB5K3Hz1VibDii47qJmn9AgJUFv8JFkwX</td>\n    </tr>\n    <tr>\n      <th>4</th>\n      <td>QmYmbqTjkmfZHDDt15X8WW1xwPmx5eKDjCz5w4k9uF7d6C</td>\n      <td>audio</td>\n      <td>QmcqJNJt4zxTMkB5K3Hz1VibDii47qJmn9AgJUFv8JFkwX</td>\n    </tr>\n  </tbody>\n</table>\n</div>"
     },
     "execution_count": 3,
     "metadata": {},
     "output_type": "execute_result"
    }
   ],
   "source": [
    "content_type_df = pd.read_csv('data/particles_with_filetype_20230418.csv')[['particle', 'type']]\n",
    "content_type_to_cid_dict = {_content_type: ipfs_client.add_str(_content_type) for _content_type in list(content_type_df.type.unique())}\n",
    "content_type_df['type_cid'] = content_type_df['type'].map(lambda content_type: content_type_to_cid_dict[content_type])\n",
    "content_type_df.head()"
   ],
   "metadata": {
    "collapsed": false
   }
  },
  {
   "cell_type": "markdown",
   "source": [
    "# Create cyberlinks by the subgraph contract"
   ],
   "metadata": {
    "collapsed": false
   }
  },
  {
   "cell_type": "code",
   "execution_count": 4,
   "outputs": [
    {
     "data": {
      "text/plain": "  0%|          | 0/9 [00:00<?, ?it/s]",
      "application/vnd.jupyter.widget-view+json": {
       "version_major": 2,
       "version_minor": 0,
       "model_id": "03ef6a9968cc4d4b9ac48609caa1decc"
      }
     },
     "metadata": {},
     "output_type": "display_data"
    },
    {
     "name": "stdout",
     "output_type": "stream",
     "text": [
      "QmcJFpwHofQjtSrnpxjekCSjZmnHZhGK2KR7eeeBEKjKAZ -> QmcqJNJt4zxTMkB5K3Hz1VibDii47qJmn9AgJUFv8JFkwX\n",
      "QmY6dsuGeLLQMdseCgWCh4Uu3keK5iXXfo8wfUUWM5SRMR -> QmcqJNJt4zxTMkB5K3Hz1VibDii47qJmn9AgJUFv8JFkwX\n",
      "QmbYwLb7gxZumzFfMJTgBaThuZ9Bs247EhVTAZ4srAhe5b -> QmcqJNJt4zxTMkB5K3Hz1VibDii47qJmn9AgJUFv8JFkwX\n",
      "QmVSb9zX5aiHwQDCGoCpmAgXhG8qTJ28zwKtqwauMJRPLh -> QmcqJNJt4zxTMkB5K3Hz1VibDii47qJmn9AgJUFv8JFkwX\n",
      "QmSWUxCEPwmqkX2xYtGq355DD4pYSSsVvxVddqUidAiGXj -> QmcqJNJt4zxTMkB5K3Hz1VibDii47qJmn9AgJUFv8JFkwX\n",
      "QmVQJbYu4gKsn52iebHFfqdnnQCDpW2o4mz4tTXk4fCgXG -> QmcqJNJt4zxTMkB5K3Hz1VibDii47qJmn9AgJUFv8JFkwX\n",
      "QmTwiEczgjysEvJ1qu1fzBhoj1vmhwjNWCQmxPqpFPpfBr -> QmcqJNJt4zxTMkB5K3Hz1VibDii47qJmn9AgJUFv8JFkwX\n",
      "QmTw5jkVwDJTs6rswNeitKRMyzY22BxBGdeKncu4eDy3vL -> QmcqJNJt4zxTMkB5K3Hz1VibDii47qJmn9AgJUFv8JFkwX\n",
      "QmfNx8p4wsMVAdP5AWESCji6hBtNyEthFWw3zmSUtnMQUh -> QmcqJNJt4zxTMkB5K3Hz1VibDii47qJmn9AgJUFv8JFkwX\n",
      "Qmc1wWZu73HuKXTjsEdDQ5nZKTW4Xishe6F5p9nYo9dvQm -> QmcqJNJt4zxTMkB5K3Hz1VibDii47qJmn9AgJUFv8JFkwX\n",
      "QmPnJERZ5yumFfRnLjp3wPzdvyvNL1a2uzni5BXpkJ8Smq -> QmcqJNJt4zxTMkB5K3Hz1VibDii47qJmn9AgJUFv8JFkwX\n",
      "QmVJBEsgmhXMhLNed8wWyr941hrtjoyf9LkeqRu8MceVUv -> QmcqJNJt4zxTMkB5K3Hz1VibDii47qJmn9AgJUFv8JFkwX\n",
      "QmYRRq3E3ZkbKx63nXKL5w4z9eXBAbuhZ4WJSbUbNQCJfG -> QmcqJNJt4zxTMkB5K3Hz1VibDii47qJmn9AgJUFv8JFkwX\n",
      "QmZMqLCxwYSwfRwxZGRULZ8KFaizR5qcBTeFUZ4VJPkTjB -> QmcqJNJt4zxTMkB5K3Hz1VibDii47qJmn9AgJUFv8JFkwX\n",
      "QmZiozwTjYJofLTDb4FRb6qXXzzZ4RkyErYVSfFxGzQhNW -> QmcqJNJt4zxTMkB5K3Hz1VibDii47qJmn9AgJUFv8JFkwX\n",
      "QmXafs7TQRGsEeijf5sw3KCcsbCSopghuPv7yq9nxY3pUC -> QmcqJNJt4zxTMkB5K3Hz1VibDii47qJmn9AgJUFv8JFkwX\n",
      "Qmc59KWXGEdnkYCgi72eVsCWKQWk1JYPW253QoUpjZbTuA -> QmcqJNJt4zxTMkB5K3Hz1VibDii47qJmn9AgJUFv8JFkwX\n",
      "QmNdWHCpHgJwUp3f2gEFqMVhtw6bXbqXwMc2cyFQSEX34H -> QmcqJNJt4zxTMkB5K3Hz1VibDii47qJmn9AgJUFv8JFkwX\n",
      "QmVEqYTADCWwdvfZcYpk5RRyL82fVHRssNxRdpUTEXxaMk -> QmcqJNJt4zxTMkB5K3Hz1VibDii47qJmn9AgJUFv8JFkwX\n",
      "Qmb1mdCiXKNxqBctf54JsrFmBEgqXcBguxiuPaP5MDk1N2 -> QmcqJNJt4zxTMkB5K3Hz1VibDii47qJmn9AgJUFv8JFkwX\n",
      "QmQnKnvV9jQWKFMgLvhmuPXcQLwv46wHdr4jgHhQz3Zw6E -> QmcqJNJt4zxTMkB5K3Hz1VibDii47qJmn9AgJUFv8JFkwX\n",
      "QmZt2iBp6jjCbz5rj32wdVerVw85LUzJWpU3NEWzvY1yJz -> QmcqJNJt4zxTMkB5K3Hz1VibDii47qJmn9AgJUFv8JFkwX\n",
      "QmfBKdDoBM6LBpaNWV2qDUeLKDypohQinPWrwNcFMUWuUh -> QmcqJNJt4zxTMkB5K3Hz1VibDii47qJmn9AgJUFv8JFkwX\n",
      "QmQLjsgMtQVj9sMgGzUUMeesk6ZCfmLtsFnz5NMkkTeNX8 -> QmcqJNJt4zxTMkB5K3Hz1VibDii47qJmn9AgJUFv8JFkwX\n",
      "Qmc5aKPzSHEdoM29o52rreZBfvjvs3jitFCYANcU3zXbZM -> QmcqJNJt4zxTMkB5K3Hz1VibDii47qJmn9AgJUFv8JFkwX\n",
      "QmUSoqACCYwtkkTPybT62gbZc5AyQ8WJa4pXku5Ju96wjk -> QmcqJNJt4zxTMkB5K3Hz1VibDii47qJmn9AgJUFv8JFkwX\n",
      "QmWH6ZcYDnW352LjDZbH9zX34JYaeQgPwXUQmNUCS6Q51t -> QmcqJNJt4zxTMkB5K3Hz1VibDii47qJmn9AgJUFv8JFkwX\n",
      "Qmc9Y2DYfU8MjxZqkfUJDG9Fd7JCDpFMjbsjoqnpFpmjEp -> QmcqJNJt4zxTMkB5K3Hz1VibDii47qJmn9AgJUFv8JFkwX\n",
      "QmXp9SHTx6xcLKFUMnzBfPG9YKW9CxjAXgQRy3MnNv76Zc -> QmcqJNJt4zxTMkB5K3Hz1VibDii47qJmn9AgJUFv8JFkwX\n",
      "QmcpuqkEG2TG1NdeMWzMgGsPgxVVY8zA4d7bJqtpkDURdw -> QmcqJNJt4zxTMkB5K3Hz1VibDii47qJmn9AgJUFv8JFkwX\n",
      "QmQtuENcsk66Pn8jpaZkVWzzb9nt6PboKpo656zs4SuRXX -> QmcqJNJt4zxTMkB5K3Hz1VibDii47qJmn9AgJUFv8JFkwX\n",
      "Qmaw6sYbzvmNSYctRhxtWpEPfcbxCqozhdQ1XtGao8Vk8f -> QmcqJNJt4zxTMkB5K3Hz1VibDii47qJmn9AgJUFv8JFkwX\n",
      "QmdKkf374zyH9hJ8ZyMTxGqyNsdWCivj4CE8omtBGMo27m -> QmcqJNJt4zxTMkB5K3Hz1VibDii47qJmn9AgJUFv8JFkwX\n",
      "QmbdJQaBV19rnwnQdcfdrnQFoxnXz7eGSVBTY6hsjQG6Ht -> QmcqJNJt4zxTMkB5K3Hz1VibDii47qJmn9AgJUFv8JFkwX\n",
      "Qmbh1iKB8q9o1fsWeGy1q1GA3QKBmeSJxrrC2LY6Zi9nmP -> QmcqJNJt4zxTMkB5K3Hz1VibDii47qJmn9AgJUFv8JFkwX\n",
      "QmcLSFQKVXUYQTpxXpa5Hrksj3mRe5dutBRo8o9EhmUYXT -> QmcqJNJt4zxTMkB5K3Hz1VibDii47qJmn9AgJUFv8JFkwX\n",
      "QmemChzAGwEvnQWE8z8XgsnRKCVHc5PJRjzYYvfypkadnL -> QmcqJNJt4zxTMkB5K3Hz1VibDii47qJmn9AgJUFv8JFkwX\n",
      "QmThRJ3tjECunbhqrxNJ7WRfWBLUokpMTeA86Wo59gBpH5 -> QmcqJNJt4zxTMkB5K3Hz1VibDii47qJmn9AgJUFv8JFkwX\n",
      "Qmdz2MHXr4WvdVZBJ4DXHFrvgBZzn7PxqeExauZsXnzdhh -> QmcqJNJt4zxTMkB5K3Hz1VibDii47qJmn9AgJUFv8JFkwX\n",
      "QmXUaFk3Vhyou5xxq8KHdKACovdkZYhUcKq9vYRvmYzG3P -> QmcqJNJt4zxTMkB5K3Hz1VibDii47qJmn9AgJUFv8JFkwX\n",
      "Qme91VFq66FzoWjSQ1cRa7PrRhmtT1he7wJGpfwKQ9ogFg -> QmcqJNJt4zxTMkB5K3Hz1VibDii47qJmn9AgJUFv8JFkwX\n",
      "QmPAP9ZqFNjW7GEx23tuYWt2ysxkWGxQVha94Fn8BuEYbW -> QmcqJNJt4zxTMkB5K3Hz1VibDii47qJmn9AgJUFv8JFkwX\n",
      "QmSQDyPpY9LvMfkbwvc7EenBS1mr1KfimQxZnpHsG9J8wk -> QmcqJNJt4zxTMkB5K3Hz1VibDii47qJmn9AgJUFv8JFkwX\n",
      "QmTdDFWY61N4GnYKYtbhNATUAjNvCMVackcaLcXbLstz5b -> QmcqJNJt4zxTMkB5K3Hz1VibDii47qJmn9AgJUFv8JFkwX\n",
      "QmXcmShfEiTN3vaCk2EvbNc7Ls9zJKE4xZRcsghPBCrcaC -> QmcqJNJt4zxTMkB5K3Hz1VibDii47qJmn9AgJUFv8JFkwX\n",
      "QmRAE9pgjagGQ5ZFUwp4VFnFL81UobWoaYELW1HjWobNb1 -> QmcqJNJt4zxTMkB5K3Hz1VibDii47qJmn9AgJUFv8JFkwX\n",
      "Qmc5U2yz1tWxCtHHVMypF9k2VjR5usta998fdyUx12nUQU -> QmcqJNJt4zxTMkB5K3Hz1VibDii47qJmn9AgJUFv8JFkwX\n",
      "Qmb9wj4kxMhnbaDnH7DM5BKrb7xYWEft7sSAzvn5YhTL6D -> QmcqJNJt4zxTMkB5K3Hz1VibDii47qJmn9AgJUFv8JFkwX\n",
      "QmUKaYDMrDCovekZsC9vSNDxAR1oec5orX3ZDtTU5W2BZB -> QmcqJNJt4zxTMkB5K3Hz1VibDii47qJmn9AgJUFv8JFkwX\n",
      "QmRkYqTCcxmnS7TrMKq8ZqftJET3gQtFEn7bGDKSVF7hsP -> QmcqJNJt4zxTMkB5K3Hz1VibDii47qJmn9AgJUFv8JFkwX\n",
      "QmZuocpYLc4B6AVm99479YMKawyY9SFgc2KuU4LBrvPq4X -> QmcqJNJt4zxTMkB5K3Hz1VibDii47qJmn9AgJUFv8JFkwX\n",
      "QmUrZFpTms7fxaUuj3YJvi8mfUN71xvoZozsRZEEXZ1RJK -> QmcqJNJt4zxTMkB5K3Hz1VibDii47qJmn9AgJUFv8JFkwX\n",
      "QmakR99Swzrax3HFXVJXZCGj9YqpSz4XtjqeuUVbnPUJHC -> QmcqJNJt4zxTMkB5K3Hz1VibDii47qJmn9AgJUFv8JFkwX\n",
      "QmQLhmbkFzLFWLjfhcMZabmN1rHXDjdJnEozThf15C5Ucz -> QmcqJNJt4zxTMkB5K3Hz1VibDii47qJmn9AgJUFv8JFkwX\n",
      "QmdsGNQeE4ytKQNpfSSsnkw3zbB2Y7qYssC4K5P3HiTHqj -> QmcqJNJt4zxTMkB5K3Hz1VibDii47qJmn9AgJUFv8JFkwX\n",
      "QmQjTbiyE6eHyWXXDptH9dvSt6278kEPj5VsmgFc6QugPW -> QmcqJNJt4zxTMkB5K3Hz1VibDii47qJmn9AgJUFv8JFkwX\n",
      "Qme4XxNAWuTx7KshsZVcDyWerL43y9UFcapVm5qe4dEUe9 -> QmcqJNJt4zxTMkB5K3Hz1VibDii47qJmn9AgJUFv8JFkwX\n",
      "QmNVcMDN6Nd2p5m5W8FJRQbtywQ5YcVseZGs89RgDAETxD -> QmcqJNJt4zxTMkB5K3Hz1VibDii47qJmn9AgJUFv8JFkwX\n",
      "QmRjhPmHGgirKwqLBPXxYd316ppstMm6rq2ybLZzCHrUBm -> QmcqJNJt4zxTMkB5K3Hz1VibDii47qJmn9AgJUFv8JFkwX\n",
      "QmVCibzDLXm4So5QRoBDP6EDCq9j6poZtH9KcBnYGgibqa -> QmcqJNJt4zxTMkB5K3Hz1VibDii47qJmn9AgJUFv8JFkwX\n",
      "QmSrELNJnaZWguVdkqYp7vWZonoWqyoEQXoXtM85Hc3tn3 -> QmcqJNJt4zxTMkB5K3Hz1VibDii47qJmn9AgJUFv8JFkwX\n",
      "QmRhSrjDxCEttqHShiWVY6yHLrRzquFenTGu6dbmsprn62 -> QmcqJNJt4zxTMkB5K3Hz1VibDii47qJmn9AgJUFv8JFkwX\n",
      "QmZnRmsDZWLBzQppo3ugZuXZgAjgHNU61LotsRimrtqTw9 -> QmcqJNJt4zxTMkB5K3Hz1VibDii47qJmn9AgJUFv8JFkwX\n",
      "QmT8AirQX1sAA78pNHPW5CaE3sETo34nR3rLfr6nK5SSKg -> QmcqJNJt4zxTMkB5K3Hz1VibDii47qJmn9AgJUFv8JFkwX\n",
      "QmRH7LhFokKQWFebEkmSbDw2yyRANTTSamdcxsLwYyCETL -> QmcqJNJt4zxTMkB5K3Hz1VibDii47qJmn9AgJUFv8JFkwX\n",
      "QmZ3iUjCH1mNtEAy28esfmE64AhisUwqnKPLT5iwiThseh -> QmcqJNJt4zxTMkB5K3Hz1VibDii47qJmn9AgJUFv8JFkwX\n",
      "QmZmwczWAsPF8vxUF7QCG8LVpgGZ635cugM3RrSNiwSwbo -> QmcqJNJt4zxTMkB5K3Hz1VibDii47qJmn9AgJUFv8JFkwX\n",
      "QmPA5xvQ79F9vEzTHUYaofhGXCquXeCQhABvgfCQpEjCXr -> QmcqJNJt4zxTMkB5K3Hz1VibDii47qJmn9AgJUFv8JFkwX\n",
      "QmeRxBZqNbEphWMRWvJWiv7CwFnBBM9Cmwkxp36UXwbZdM -> QmcqJNJt4zxTMkB5K3Hz1VibDii47qJmn9AgJUFv8JFkwX\n",
      "Qmbjow6XoMDQj9By7ywm45phSUrDpHqyazLcNqVt7VU6fa -> QmcqJNJt4zxTMkB5K3Hz1VibDii47qJmn9AgJUFv8JFkwX\n",
      "QmTu5qqJ8BL6Nx73CbQNDyFYfECCqCz8UqGcBVWPc6smHW -> QmcqJNJt4zxTMkB5K3Hz1VibDii47qJmn9AgJUFv8JFkwX\n",
      "QmbuAQGmrXT39xNaPRYvu9uGTgQA8HvaqgmzuxemDjZcpr -> QmcqJNJt4zxTMkB5K3Hz1VibDii47qJmn9AgJUFv8JFkwX\n",
      "QmXAX2Z6C74pTjH1Pie88m6Ttsd5wyo1gt5t3PCpoVpMJ8 -> QmcqJNJt4zxTMkB5K3Hz1VibDii47qJmn9AgJUFv8JFkwX\n",
      "QmTBCNWAkCUyKpgRotYCBtDPotLtZ58zcPJEHxe6VzPTBJ -> QmcqJNJt4zxTMkB5K3Hz1VibDii47qJmn9AgJUFv8JFkwX\n",
      "QmRcSfLv7u5vg4pmbn4UV1aVCYbzd5qjPSxm6atLbLmmWN -> QmcqJNJt4zxTMkB5K3Hz1VibDii47qJmn9AgJUFv8JFkwX\n",
      "Qmcy9S8WAbLQZTHmQVguQ9HsiWkpmX4kkXJxtgdcSSMsAb -> QmcqJNJt4zxTMkB5K3Hz1VibDii47qJmn9AgJUFv8JFkwX\n",
      "QmewMPyofP8s4HMb27tfQAAweLQGG5Kie5rQrJ16QEXtM1 -> QmcqJNJt4zxTMkB5K3Hz1VibDii47qJmn9AgJUFv8JFkwX\n",
      "QmRGuuUC1g79QUokWCXDLKMBPhhtXqLJVznxGNuTiSHjy5 -> QmcqJNJt4zxTMkB5K3Hz1VibDii47qJmn9AgJUFv8JFkwX\n",
      "QmcccNSzxnhpv2vm33HVppP7DE29t7HG858NRpvTteJdLj -> QmcqJNJt4zxTMkB5K3Hz1VibDii47qJmn9AgJUFv8JFkwX\n",
      "QmeDi9HoZAVfTPusQanCwraVZ9DyXhLxLXWHp3y5vPd8bz -> QmcqJNJt4zxTMkB5K3Hz1VibDii47qJmn9AgJUFv8JFkwX\n",
      "Qmbu4A8aaHU2JpbSchssdpqYgHJ9sXzPBrXoDFtZDeRkgV -> QmcqJNJt4zxTMkB5K3Hz1VibDii47qJmn9AgJUFv8JFkwX\n",
      "QmaoPBPy1XgsxdVysCs4Rjoqpbi4Y4QKisybWHHv5hJmN1 -> QmcqJNJt4zxTMkB5K3Hz1VibDii47qJmn9AgJUFv8JFkwX\n",
      "QmfVxutpxKhXei3X711Xd4t2d2fJ9RYy8WhecYfYfdDnCq -> QmcqJNJt4zxTMkB5K3Hz1VibDii47qJmn9AgJUFv8JFkwX\n",
      "QmRLdj1ScocCzTvSPb6LpaTs6LE971S9yNuWR7DQ7731r5 -> QmcqJNJt4zxTMkB5K3Hz1VibDii47qJmn9AgJUFv8JFkwX\n",
      "QmNUEQe2kpudyaKMjxhCJz7erC2bj268F4hP6KMXFHFzvp -> QmcqJNJt4zxTMkB5K3Hz1VibDii47qJmn9AgJUFv8JFkwX\n",
      "Qmcz4ewYe5hfRPPTejPSapVZLqaxX2ReEypX5F1e3jEFi2 -> QmcqJNJt4zxTMkB5K3Hz1VibDii47qJmn9AgJUFv8JFkwX\n",
      "QmS6o3tXrW11txzqF6VPR2fi4emKnmwLt9NnmxECwABcjZ -> QmcqJNJt4zxTMkB5K3Hz1VibDii47qJmn9AgJUFv8JFkwX\n",
      "QmcCSHVHfnuxgkxfiEPxqyMCoftWJrPgPjwfYbykd2PSgG -> QmcqJNJt4zxTMkB5K3Hz1VibDii47qJmn9AgJUFv8JFkwX\n",
      "QmSJmoTLyw8imdFrnpyw1qGRLN494uCxDDaNMfJxgjB3Nf -> QmcqJNJt4zxTMkB5K3Hz1VibDii47qJmn9AgJUFv8JFkwX\n",
      "QmdNR2qiBqKD8ouk5yKpqt4F9R6zuGBq5J2VHmhaaCZHs1 -> QmcqJNJt4zxTMkB5K3Hz1VibDii47qJmn9AgJUFv8JFkwX\n",
      "Qmdod1SeqqZm9HU22FRXy519wk8rbjRxzQp1X6ET6i7SUR -> QmcqJNJt4zxTMkB5K3Hz1VibDii47qJmn9AgJUFv8JFkwX\n"
     ]
    }
   ],
   "source": [
    "txs_broadcasted = []\n",
    "for content_type_item_df in tqdm(np.array_split(content_type_df.iloc[9:100], indices_or_sections=9)):\n",
    "    links = []\n",
    "    for _, row in content_type_item_df.iterrows():\n",
    "        links.append({\"from\": row.particle, \"to\": row.type_cid})\n",
    "\n",
    "    execute_msg = {\"cyberlink\": {\"links\": links}}\n",
    "\n",
    "    create_links_msgs = \\\n",
    "        [MsgExecuteContract(\n",
    "            sender=AccAddress(WALLET_ADDRESS),\n",
    "            contract=AccAddress(SUBGRAPH_CONTRACT_ADDRESS),\n",
    "            execute_msg=execute_msg)]\n",
    "\n",
    "    tx_signed = WALLET.create_and_sign_tx(\n",
    "        CreateTxOptions(\n",
    "            msgs=create_links_msgs,\n",
    "            memo='upload content types github.com/Snedashkovsky/knowledge_graph_research',\n",
    "            fee=Fee(5_000_000, Coins([Coin(amount=0, denom=BASE_COIN_DENOM)]))\n",
    "        ))\n",
    "\n",
    "    print('\\n'.join([f\"{link['from']} -> {link['to']}\" for link in links]))\n",
    "    try:\n",
    "        tx_broadcasted = BOSTROM_LCD_CLIENT.tx.broadcast(tx_signed)\n",
    "        txs_broadcasted.append(tx_broadcasted)\n",
    "    except LCDResponseError as e:\n",
    "        print(f'LCDResponseError: {e}')\n",
    "    sleep(10)"
   ],
   "metadata": {
    "collapsed": false
   }
  },
  {
   "cell_type": "code",
   "execution_count": null,
   "outputs": [],
   "source": [],
   "metadata": {
    "collapsed": false
   }
  }
 ],
 "metadata": {
  "kernelspec": {
   "display_name": "Python 3",
   "language": "python",
   "name": "python3"
  },
  "language_info": {
   "codemirror_mode": {
    "name": "ipython",
    "version": 2
   },
   "file_extension": ".py",
   "mimetype": "text/x-python",
   "name": "python",
   "nbconvert_exporter": "python",
   "pygments_lexer": "ipython2",
   "version": "2.7.6"
  }
 },
 "nbformat": 4,
 "nbformat_minor": 0
}
