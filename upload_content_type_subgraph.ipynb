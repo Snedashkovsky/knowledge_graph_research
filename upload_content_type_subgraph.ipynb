{
 "cells": [
  {
   "cell_type": "code",
   "execution_count": 1,
   "metadata": {
    "collapsed": true
   },
   "outputs": [],
   "source": [
    "import numpy as np\n",
    "import pandas as pd\n",
    "import warnings\n",
    "from time import sleep\n",
    "from tqdm.notebook import tqdm\n",
    "\n",
    "warnings.filterwarnings(\"ignore\")\n",
    "\n",
    "from cyber_sdk.key.mnemonic import MnemonicKey\n",
    "\n",
    "from src.utils_bash import get_json_from_bash_query\n",
    "from src.utils_cyber import create_subgraph_links\n",
    "from config import BOSTROM_LCD_CLIENT, BOSTROM_NODE_RPC_URL, WALLET_SEED, ipfs_client"
   ]
  },
  {
   "cell_type": "code",
   "execution_count": 2,
   "outputs": [],
   "source": [
    "mk = MnemonicKey(mnemonic=WALLET_SEED)\n",
    "WALLET = BOSTROM_LCD_CLIENT.wallet(mk)\n",
    "CONTENT_TYPE_SUBGRAPH_CONTRACT_ADDRESS = 'bostrom1823qj9q6eruxv8mfwfay87zd9pp66ayq0ckp9xttk0e758a6kl9qtglw7z'\n",
    "TYPE_CONTENT_SUBGRAPH_CONTRACT_ADDRESS = 'bostrom1pc4ep362vkyrquq7r27wvm08u2yjxwnuylc509s2dfumw4qwt7hsdavx33'"
   ],
   "metadata": {
    "collapsed": false
   }
  },
  {
   "cell_type": "markdown",
   "source": [
    "## Get data for types of particles"
   ],
   "metadata": {
    "collapsed": false
   }
  },
  {
   "cell_type": "code",
   "execution_count": 3,
   "outputs": [
    {
     "data": {
      "text/plain": "                                         particle   type  \\\n0  QmfNfxY5AuE5rrDnE8w8TH7n9fPJQwLhvCo8xHELrP657i  audio   \n1  QmV4wJWemDkVLcsXxpgwPvMnNNdUdV1NzN3ZgwaUuVbStM  audio   \n2  QmdbvwcPfckUzFtcsnvBj28pMua5feXg5k6W1nn5nDeeVT  audio   \n3  QmScFB5z8Z9ijWR9TkRJXB7NSHUSsR21z1MURbYMie9ZDr  audio   \n4  QmYmbqTjkmfZHDDt15X8WW1xwPmx5eKDjCz5w4k9uF7d6C  audio   \n\n                                         type_cid  \n0  QmcqJNJt4zxTMkB5K3Hz1VibDii47qJmn9AgJUFv8JFkwX  \n1  QmcqJNJt4zxTMkB5K3Hz1VibDii47qJmn9AgJUFv8JFkwX  \n2  QmcqJNJt4zxTMkB5K3Hz1VibDii47qJmn9AgJUFv8JFkwX  \n3  QmcqJNJt4zxTMkB5K3Hz1VibDii47qJmn9AgJUFv8JFkwX  \n4  QmcqJNJt4zxTMkB5K3Hz1VibDii47qJmn9AgJUFv8JFkwX  ",
      "text/html": "<div>\n<style scoped>\n    .dataframe tbody tr th:only-of-type {\n        vertical-align: middle;\n    }\n\n    .dataframe tbody tr th {\n        vertical-align: top;\n    }\n\n    .dataframe thead th {\n        text-align: right;\n    }\n</style>\n<table border=\"1\" class=\"dataframe\">\n  <thead>\n    <tr style=\"text-align: right;\">\n      <th></th>\n      <th>particle</th>\n      <th>type</th>\n      <th>type_cid</th>\n    </tr>\n  </thead>\n  <tbody>\n    <tr>\n      <th>0</th>\n      <td>QmfNfxY5AuE5rrDnE8w8TH7n9fPJQwLhvCo8xHELrP657i</td>\n      <td>audio</td>\n      <td>QmcqJNJt4zxTMkB5K3Hz1VibDii47qJmn9AgJUFv8JFkwX</td>\n    </tr>\n    <tr>\n      <th>1</th>\n      <td>QmV4wJWemDkVLcsXxpgwPvMnNNdUdV1NzN3ZgwaUuVbStM</td>\n      <td>audio</td>\n      <td>QmcqJNJt4zxTMkB5K3Hz1VibDii47qJmn9AgJUFv8JFkwX</td>\n    </tr>\n    <tr>\n      <th>2</th>\n      <td>QmdbvwcPfckUzFtcsnvBj28pMua5feXg5k6W1nn5nDeeVT</td>\n      <td>audio</td>\n      <td>QmcqJNJt4zxTMkB5K3Hz1VibDii47qJmn9AgJUFv8JFkwX</td>\n    </tr>\n    <tr>\n      <th>3</th>\n      <td>QmScFB5z8Z9ijWR9TkRJXB7NSHUSsR21z1MURbYMie9ZDr</td>\n      <td>audio</td>\n      <td>QmcqJNJt4zxTMkB5K3Hz1VibDii47qJmn9AgJUFv8JFkwX</td>\n    </tr>\n    <tr>\n      <th>4</th>\n      <td>QmYmbqTjkmfZHDDt15X8WW1xwPmx5eKDjCz5w4k9uF7d6C</td>\n      <td>audio</td>\n      <td>QmcqJNJt4zxTMkB5K3Hz1VibDii47qJmn9AgJUFv8JFkwX</td>\n    </tr>\n  </tbody>\n</table>\n</div>"
     },
     "execution_count": 3,
     "metadata": {},
     "output_type": "execute_result"
    }
   ],
   "source": [
    "content_type_df = pd.read_csv('data/particles_with_filetype_20230418.csv')[['particle', 'type']]\n",
    "content_type_to_cid_dict = {_content_type: ipfs_client.add_str(_content_type) for _content_type in list(content_type_df.type.unique())}\n",
    "content_type_df['type_cid'] = content_type_df['type'].map(lambda content_type: content_type_to_cid_dict[content_type])\n",
    "content_type_df.head()"
   ],
   "metadata": {
    "collapsed": false
   }
  },
  {
   "cell_type": "markdown",
   "source": [
    "# Create cyberlinks by the subgraph contract"
   ],
   "metadata": {
    "collapsed": false
   }
  },
  {
   "cell_type": "code",
   "execution_count": 4,
   "outputs": [],
   "source": [
    "def get_remained_bandwidth(address: str = CONTENT_TYPE_SUBGRAPH_CONTRACT_ADDRESS, node_rpc_url: str = BOSTROM_NODE_RPC_URL, cli_name: str = 'cyber') -> int:\n",
    "    bandwidth_json = get_json_from_bash_query(f'{cli_name} query bandwidth neuron {address} -o=json --node {node_rpc_url}')\n",
    "    return int(bandwidth_json['neuron_bandwidth']['remained_value'])"
   ],
   "metadata": {
    "collapsed": false
   }
  },
  {
   "cell_type": "markdown",
   "source": [
    "### Content -> Type Subgraph"
   ],
   "metadata": {
    "collapsed": false
   }
  },
  {
   "cell_type": "code",
   "execution_count": 5,
   "outputs": [
    {
     "name": "stdout",
     "output_type": "stream",
     "text": [
      "Content -> Type Subgraph contract remained bandwidth links 14,400\n"
     ]
    }
   ],
   "source": [
    "print(f'Content -> Type Subgraph contract remained bandwidth links {get_remained_bandwidth(address=CONTENT_TYPE_SUBGRAPH_CONTRACT_ADDRESS)//250:>,}')"
   ],
   "metadata": {
    "collapsed": false
   }
  },
  {
   "cell_type": "code",
   "execution_count": 8,
   "outputs": [],
   "source": [
    "txs_broadcasted = []\n",
    "links_broadcasted = []\n",
    "links_unsuccessful_broadcasted = []\n",
    "for content_type_item_df in tqdm(np.array_split(content_type_df.iloc[21000:], indices_or_sections=100)):\n",
    "    links_list = []\n",
    "    for _, row in content_type_item_df.iterrows():\n",
    "        links_list.append([row.particle, row.type_cid])\n",
    "\n",
    "    tx_broadcasted = create_subgraph_links(\n",
    "        link_candidates=links_list, wallet=WALLET, subgraph_contract_address=CONTENT_TYPE_SUBGRAPH_CONTRACT_ADDRESS,\n",
    "        memo='upload content types github.com/Snedashkovsky/knowledge_graph_research')\n",
    "    txs_broadcasted.append(tx_broadcasted)\n",
    "    if tx_broadcasted:\n",
    "        links_broadcasted.append(links_list)\n",
    "    else:\n",
    "        links_unsuccessful_broadcasted.append(links_list)\n",
    "        sleep(30)\n",
    "    sleep(2)"
   ],
   "metadata": {
    "collapsed": false
   }
  },
  {
   "cell_type": "markdown",
   "source": [
    "### Type -> Content Subgraph"
   ],
   "metadata": {
    "collapsed": false
   }
  },
  {
   "cell_type": "code",
   "execution_count": 9,
   "outputs": [
    {
     "name": "stdout",
     "output_type": "stream",
     "text": [
      "Type -> Content Subgraph contract remained bandwidth links 26\n"
     ]
    }
   ],
   "source": [
    "print(f'Type -> Content Subgraph contract remained bandwidth links {get_remained_bandwidth(address=TYPE_CONTENT_SUBGRAPH_CONTRACT_ADDRESS)//250:>,}')"
   ],
   "metadata": {
    "collapsed": false
   }
  },
  {
   "cell_type": "code",
   "execution_count": 10,
   "outputs": [
    {
     "data": {
      "text/plain": "  0%|          | 0/1 [00:00<?, ?it/s]",
      "application/vnd.jupyter.widget-view+json": {
       "version_major": 2,
       "version_minor": 0,
       "model_id": "09ce836f75cb4cf4afc14f2e1f48fb57"
      }
     },
     "metadata": {},
     "output_type": "display_data"
    }
   ],
   "source": [
    "txs_broadcasted = []\n",
    "links_broadcasted = []\n",
    "links_unsuccessful_broadcasted = []\n",
    "for content_type_item_df in tqdm(np.array_split(content_type_df.iloc[10:20], indices_or_sections=1)):\n",
    "    links_list = []\n",
    "    for _, row in content_type_item_df.iterrows():\n",
    "        links_list.append([row.type_cid, row.particle])\n",
    "\n",
    "    tx_broadcasted = create_subgraph_links(\n",
    "        link_candidates=links_list, wallet=WALLET, subgraph_contract_address=TYPE_CONTENT_SUBGRAPH_CONTRACT_ADDRESS,\n",
    "        memo='upload content types github.com/Snedashkovsky/knowledge_graph_research')\n",
    "    txs_broadcasted.append(tx_broadcasted)\n",
    "    if tx_broadcasted:\n",
    "        links_broadcasted.append(links_list)\n",
    "    else:\n",
    "        links_unsuccessful_broadcasted.append(links_list)\n",
    "        sleep(30)\n",
    "    sleep(2)"
   ],
   "metadata": {
    "collapsed": false
   }
  },
  {
   "cell_type": "code",
   "execution_count": 11,
   "outputs": [
    {
     "data": {
      "text/plain": "[[['QmcqJNJt4zxTMkB5K3Hz1VibDii47qJmn9AgJUFv8JFkwX',\n   'QmY6dsuGeLLQMdseCgWCh4Uu3keK5iXXfo8wfUUWM5SRMR'],\n  ['QmcqJNJt4zxTMkB5K3Hz1VibDii47qJmn9AgJUFv8JFkwX',\n   'QmbYwLb7gxZumzFfMJTgBaThuZ9Bs247EhVTAZ4srAhe5b'],\n  ['QmcqJNJt4zxTMkB5K3Hz1VibDii47qJmn9AgJUFv8JFkwX',\n   'QmVSb9zX5aiHwQDCGoCpmAgXhG8qTJ28zwKtqwauMJRPLh'],\n  ['QmcqJNJt4zxTMkB5K3Hz1VibDii47qJmn9AgJUFv8JFkwX',\n   'QmSWUxCEPwmqkX2xYtGq355DD4pYSSsVvxVddqUidAiGXj'],\n  ['QmcqJNJt4zxTMkB5K3Hz1VibDii47qJmn9AgJUFv8JFkwX',\n   'QmVQJbYu4gKsn52iebHFfqdnnQCDpW2o4mz4tTXk4fCgXG'],\n  ['QmcqJNJt4zxTMkB5K3Hz1VibDii47qJmn9AgJUFv8JFkwX',\n   'QmTwiEczgjysEvJ1qu1fzBhoj1vmhwjNWCQmxPqpFPpfBr'],\n  ['QmcqJNJt4zxTMkB5K3Hz1VibDii47qJmn9AgJUFv8JFkwX',\n   'QmTw5jkVwDJTs6rswNeitKRMyzY22BxBGdeKncu4eDy3vL'],\n  ['QmcqJNJt4zxTMkB5K3Hz1VibDii47qJmn9AgJUFv8JFkwX',\n   'QmfNx8p4wsMVAdP5AWESCji6hBtNyEthFWw3zmSUtnMQUh'],\n  ['QmcqJNJt4zxTMkB5K3Hz1VibDii47qJmn9AgJUFv8JFkwX',\n   'Qmc1wWZu73HuKXTjsEdDQ5nZKTW4Xishe6F5p9nYo9dvQm'],\n  ['QmcqJNJt4zxTMkB5K3Hz1VibDii47qJmn9AgJUFv8JFkwX',\n   'QmPnJERZ5yumFfRnLjp3wPzdvyvNL1a2uzni5BXpkJ8Smq']]]"
     },
     "execution_count": 11,
     "metadata": {},
     "output_type": "execute_result"
    }
   ],
   "source": [
    "links_broadcasted"
   ],
   "metadata": {
    "collapsed": false
   }
  },
  {
   "cell_type": "code",
   "execution_count": null,
   "outputs": [],
   "source": [],
   "metadata": {
    "collapsed": false
   }
  }
 ],
 "metadata": {
  "kernelspec": {
   "display_name": "Python 3",
   "language": "python",
   "name": "python3"
  },
  "language_info": {
   "codemirror_mode": {
    "name": "ipython",
    "version": 2
   },
   "file_extension": ".py",
   "mimetype": "text/x-python",
   "name": "python",
   "nbconvert_exporter": "python",
   "pygments_lexer": "ipython2",
   "version": "2.7.6"
  }
 },
 "nbformat": 4,
 "nbformat_minor": 0
}
