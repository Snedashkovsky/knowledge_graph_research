{
 "cells": [
  {
   "cell_type": "code",
   "execution_count": 1,
   "metadata": {
    "collapsed": true
   },
   "outputs": [],
   "source": [
    "import numpy as np\n",
    "import pandas as pd\n",
    "import warnings\n",
    "from time import sleep\n",
    "from tqdm.notebook import tqdm\n",
    "\n",
    "warnings.filterwarnings(\"ignore\")\n",
    "\n",
    "from cyber_sdk.key.mnemonic import MnemonicKey\n",
    "from cyber_sdk.client.lcd.api.tx import CreateTxOptions\n",
    "from cyber_sdk.core.fee import Fee\n",
    "from cyber_sdk.core import Coin, Coins, AccAddress\n",
    "from cyber_sdk.exceptions import LCDResponseError\n",
    "from cyber_sdk.core.wasm import MsgExecuteContract\n",
    "\n",
    "from src.utils_bash import get_json_from_bash_query\n",
    "from config import BOSTROM_LCD_CLIENT, BOSTROM_NODE_RPC_URL, WALLET_SEED, ipfs_client"
   ]
  },
  {
   "cell_type": "code",
   "execution_count": 2,
   "outputs": [],
   "source": [
    "mk = MnemonicKey(mnemonic=WALLET_SEED)\n",
    "WALLET = BOSTROM_LCD_CLIENT.wallet(mk)\n",
    "WALLET_ADDRESS = WALLET.key.acc_address\n",
    "SUBGRAPH_CONTRACT_ADDRESS = 'bostrom1823qj9q6eruxv8mfwfay87zd9pp66ayq0ckp9xttk0e758a6kl9qtglw7z'\n",
    "BASE_COIN_DENOM = 'boot'"
   ],
   "metadata": {
    "collapsed": false
   }
  },
  {
   "cell_type": "markdown",
   "source": [
    "## Get data for types of particles"
   ],
   "metadata": {
    "collapsed": false
   }
  },
  {
   "cell_type": "code",
   "execution_count": 3,
   "outputs": [
    {
     "data": {
      "text/plain": "                                         particle   type  \\\n0  QmfNfxY5AuE5rrDnE8w8TH7n9fPJQwLhvCo8xHELrP657i  audio   \n1  QmV4wJWemDkVLcsXxpgwPvMnNNdUdV1NzN3ZgwaUuVbStM  audio   \n2  QmdbvwcPfckUzFtcsnvBj28pMua5feXg5k6W1nn5nDeeVT  audio   \n3  QmScFB5z8Z9ijWR9TkRJXB7NSHUSsR21z1MURbYMie9ZDr  audio   \n4  QmYmbqTjkmfZHDDt15X8WW1xwPmx5eKDjCz5w4k9uF7d6C  audio   \n\n                                         type_cid  \n0  QmcqJNJt4zxTMkB5K3Hz1VibDii47qJmn9AgJUFv8JFkwX  \n1  QmcqJNJt4zxTMkB5K3Hz1VibDii47qJmn9AgJUFv8JFkwX  \n2  QmcqJNJt4zxTMkB5K3Hz1VibDii47qJmn9AgJUFv8JFkwX  \n3  QmcqJNJt4zxTMkB5K3Hz1VibDii47qJmn9AgJUFv8JFkwX  \n4  QmcqJNJt4zxTMkB5K3Hz1VibDii47qJmn9AgJUFv8JFkwX  ",
      "text/html": "<div>\n<style scoped>\n    .dataframe tbody tr th:only-of-type {\n        vertical-align: middle;\n    }\n\n    .dataframe tbody tr th {\n        vertical-align: top;\n    }\n\n    .dataframe thead th {\n        text-align: right;\n    }\n</style>\n<table border=\"1\" class=\"dataframe\">\n  <thead>\n    <tr style=\"text-align: right;\">\n      <th></th>\n      <th>particle</th>\n      <th>type</th>\n      <th>type_cid</th>\n    </tr>\n  </thead>\n  <tbody>\n    <tr>\n      <th>0</th>\n      <td>QmfNfxY5AuE5rrDnE8w8TH7n9fPJQwLhvCo8xHELrP657i</td>\n      <td>audio</td>\n      <td>QmcqJNJt4zxTMkB5K3Hz1VibDii47qJmn9AgJUFv8JFkwX</td>\n    </tr>\n    <tr>\n      <th>1</th>\n      <td>QmV4wJWemDkVLcsXxpgwPvMnNNdUdV1NzN3ZgwaUuVbStM</td>\n      <td>audio</td>\n      <td>QmcqJNJt4zxTMkB5K3Hz1VibDii47qJmn9AgJUFv8JFkwX</td>\n    </tr>\n    <tr>\n      <th>2</th>\n      <td>QmdbvwcPfckUzFtcsnvBj28pMua5feXg5k6W1nn5nDeeVT</td>\n      <td>audio</td>\n      <td>QmcqJNJt4zxTMkB5K3Hz1VibDii47qJmn9AgJUFv8JFkwX</td>\n    </tr>\n    <tr>\n      <th>3</th>\n      <td>QmScFB5z8Z9ijWR9TkRJXB7NSHUSsR21z1MURbYMie9ZDr</td>\n      <td>audio</td>\n      <td>QmcqJNJt4zxTMkB5K3Hz1VibDii47qJmn9AgJUFv8JFkwX</td>\n    </tr>\n    <tr>\n      <th>4</th>\n      <td>QmYmbqTjkmfZHDDt15X8WW1xwPmx5eKDjCz5w4k9uF7d6C</td>\n      <td>audio</td>\n      <td>QmcqJNJt4zxTMkB5K3Hz1VibDii47qJmn9AgJUFv8JFkwX</td>\n    </tr>\n  </tbody>\n</table>\n</div>"
     },
     "execution_count": 3,
     "metadata": {},
     "output_type": "execute_result"
    }
   ],
   "source": [
    "content_type_df = pd.read_csv('data/particles_with_filetype_20230418.csv')[['particle', 'type']]\n",
    "content_type_to_cid_dict = {_content_type: ipfs_client.add_str(_content_type) for _content_type in list(content_type_df.type.unique())}\n",
    "content_type_df['type_cid'] = content_type_df['type'].map(lambda content_type: content_type_to_cid_dict[content_type])\n",
    "content_type_df.head()"
   ],
   "metadata": {
    "collapsed": false
   }
  },
  {
   "cell_type": "markdown",
   "source": [
    "# Create cyberlinks by the subgraph contract"
   ],
   "metadata": {
    "collapsed": false
   }
  },
  {
   "cell_type": "code",
   "execution_count": 4,
   "outputs": [
    {
     "name": "stdout",
     "output_type": "stream",
     "text": [
      "remained bandwidth links 14,400\n"
     ]
    }
   ],
   "source": [
    "def get_remained_bandwidth(address: str = SUBGRAPH_CONTRACT_ADDRESS, node_rpc_url: str = BOSTROM_NODE_RPC_URL, cli_name: str = 'cyber') -> int:\n",
    "    bandwidth_json = get_json_from_bash_query(f'{cli_name} query bandwidth neuron {address} -o=json --node {node_rpc_url}')\n",
    "    return int(bandwidth_json['neuron_bandwidth']['remained_value'])\n",
    "\n",
    "print(f'remained bandwidth links {get_remained_bandwidth()//250:>,}')"
   ],
   "metadata": {
    "collapsed": false
   }
  },
  {
   "cell_type": "code",
   "execution_count": 6,
   "outputs": [
    {
     "data": {
      "text/plain": "  0%|          | 0/100 [00:00<?, ?it/s]",
      "application/vnd.jupyter.widget-view+json": {
       "version_major": 2,
       "version_minor": 0,
       "model_id": "f7c3d262aa644cdba36ebb2cc3dfa451"
      }
     },
     "metadata": {},
     "output_type": "display_data"
    },
    {
     "name": "stdout",
     "output_type": "stream",
     "text": [
      "LCDResponseError: Status 500 - timed out waiting for tx to be included in a block\n",
      "LCDResponseError: Status 500 - timed out waiting for tx to be included in a block\n",
      "LCDResponseError: Status 500 - timed out waiting for tx to be included in a block\n",
      "LCDResponseError: Status 500 - timed out waiting for tx to be included in a block\n"
     ]
    }
   ],
   "source": [
    "txs_broadcasted = []\n",
    "links_broadcasted = []\n",
    "links_unsuccessful_broadcasted = []\n",
    "for content_type_item_df in tqdm(np.array_split(content_type_df.iloc[11000:], indices_or_sections=100)):\n",
    "    links = []\n",
    "    for _, row in content_type_item_df.iterrows():\n",
    "        links.append({\"from\": row.particle, \"to\": row.type_cid})\n",
    "\n",
    "    execute_msg = {\"cyberlink\": {\"links\": links}}\n",
    "\n",
    "    create_links_msgs = \\\n",
    "        [MsgExecuteContract(\n",
    "            sender=AccAddress(WALLET_ADDRESS),\n",
    "            contract=AccAddress(SUBGRAPH_CONTRACT_ADDRESS),\n",
    "            execute_msg=execute_msg)]\n",
    "\n",
    "    tx_signed = WALLET.create_and_sign_tx(\n",
    "        CreateTxOptions(\n",
    "            msgs=create_links_msgs,\n",
    "            memo='upload content types github.com/Snedashkovsky/knowledge_graph_research',\n",
    "            fee=Fee(5_000_000, Coins([Coin(amount=0, denom=BASE_COIN_DENOM)]))\n",
    "        ))\n",
    "\n",
    "    # print('\\n'.join([f\"{link['from']} -> {link['to']}\" for link in links]))\n",
    "    try:\n",
    "        tx_broadcasted = BOSTROM_LCD_CLIENT.tx.broadcast(tx_signed)\n",
    "        txs_broadcasted.append(tx_broadcasted)\n",
    "        links_broadcasted.append(links)\n",
    "\n",
    "    except LCDResponseError as e:\n",
    "        links_unsuccessful_broadcasted.append(links)\n",
    "        print(f'LCDResponseError: {e}')\n",
    "        sleep(30)\n",
    "    sleep(2)"
   ],
   "metadata": {
    "collapsed": false
   }
  },
  {
   "cell_type": "code",
   "execution_count": null,
   "outputs": [],
   "source": [],
   "metadata": {
    "collapsed": false
   }
  }
 ],
 "metadata": {
  "kernelspec": {
   "display_name": "Python 3",
   "language": "python",
   "name": "python3"
  },
  "language_info": {
   "codemirror_mode": {
    "name": "ipython",
    "version": 2
   },
   "file_extension": ".py",
   "mimetype": "text/x-python",
   "name": "python",
   "nbconvert_exporter": "python",
   "pygments_lexer": "ipython2",
   "version": "2.7.6"
  }
 },
 "nbformat": 4,
 "nbformat_minor": 0
}
