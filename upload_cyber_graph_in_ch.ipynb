{
 "cells": [
  {
   "cell_type": "markdown",
   "metadata": {
    "collapsed": true
   },
   "source": [
    "# Upload Cyber Graph into Clickhouse"
   ]
  },
  {
   "cell_type": "code",
   "execution_count": 1,
   "outputs": [],
   "source": [
    "from config import clickhouse_execute\n",
    "\n",
    "DROP_TABLE = False\n",
    "CREATE_TABLE = False"
   ],
   "metadata": {
    "collapsed": false
   }
  },
  {
   "cell_type": "markdown",
   "source": [
    "## Create Tables"
   ],
   "metadata": {
    "collapsed": false
   }
  },
  {
   "cell_type": "code",
   "execution_count": 2,
   "outputs": [],
   "source": [
    "if DROP_TABLE:\n",
    "    clickhouse_execute('''DROP TABLE IF EXISTS cyberlinks''')\n",
    "    clickhouse_execute('''DROP TABLE IF EXISTS relevance''')\n",
    "if CREATE_TABLE:\n",
    "    clickhouse_execute('''\n",
    "        CREATE TABLE IF NOT EXISTS cyberlinks(\n",
    "        id INTEGER,\n",
    "        object_from String,\n",
    "        object_to String,\n",
    "        subject String,\n",
    "        timestamp TIMESTAMP,\n",
    "        height INTEGER,\n",
    "        txhash String,\n",
    "        karma INTEGER\n",
    "            )\n",
    "        ENGINE = ReplacingMergeTree()\n",
    "        ORDER BY (id,object_from,object_to,subject)\n",
    "        ''')\n",
    "    clickhouse_execute('''\n",
    "        CREATE TABLE IF NOT EXISTS relevance(\n",
    "        id INTEGER,\n",
    "        object String,\n",
    "        height INTEGER,\n",
    "        rank FLOAT\n",
    "            )\n",
    "        ENGINE = ReplacingMergeTree()\n",
    "        ORDER BY (object,height)\n",
    "        ''')"
   ],
   "metadata": {
    "collapsed": false
   }
  },
  {
   "cell_type": "markdown",
   "source": [
    "## Upload Data\n",
    "```bash\n",
    "tail +2 cyberlink.csv | clickhouse-client --query \"\n",
    "    INSERT INTO cyberlinks\n",
    "    SELECT\n",
    "        id,\n",
    "        object_from,\n",
    "        object_to,\n",
    "        subject,\n",
    "        timestamp,\n",
    "        height,\n",
    "        txhash,\n",
    "        karma\n",
    "        FROM input('id INTEGER, object_from String, object_to String, subject String, timestamp TIMESTAMP, height INTEGER, txhash String, karma INTEGER')\n",
    "        FORMAT CSV\"\n",
    "```\n",
    "```bash\n",
    "tail +2 relevance.csv | clickhouse-client --query \"\n",
    "    INSERT INTO relevance\n",
    "    SELECT\n",
    "        id,\n",
    "        object,\n",
    "        height,\n",
    "        rank\n",
    "    FROM input('id INTEGER,object String, height INTEGER, rank FLOAT')\n",
    "    FORMAT CSV\"\n",
    "```"
   ],
   "metadata": {
    "collapsed": false
   }
  },
  {
   "cell_type": "code",
   "execution_count": 2,
   "outputs": [],
   "source": [],
   "metadata": {
    "collapsed": false
   }
  }
 ],
 "metadata": {
  "kernelspec": {
   "display_name": "Python 3",
   "language": "python",
   "name": "python3"
  },
  "language_info": {
   "codemirror_mode": {
    "name": "ipython",
    "version": 2
   },
   "file_extension": ".py",
   "mimetype": "text/x-python",
   "name": "python",
   "nbconvert_exporter": "python",
   "pygments_lexer": "ipython2",
   "version": "2.7.6"
  }
 },
 "nbformat": 4,
 "nbformat_minor": 0
}
