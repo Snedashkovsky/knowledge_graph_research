{
 "cells": [
  {
   "cell_type": "code",
   "execution_count": 1,
   "metadata": {
    "collapsed": true
   },
   "outputs": [],
   "source": [
    "import pandas as pd\n",
    "import numpy as np\n",
    "from tqdm.notebook import tqdm\n",
    "\n",
    "from src.utils_ipfs import upload_text\n",
    "from src.utils_cyber import create_cls"
   ]
  },
  {
   "cell_type": "markdown",
   "source": [
    "## Read CaLiGraph Ontology Preprocessing Data"
   ],
   "metadata": {
    "collapsed": false,
    "pycharm": {
     "name": "#%% md\n"
    }
   }
  },
  {
   "cell_type": "code",
   "execution_count": null,
   "outputs": [],
   "source": [
    "caligraph_ontology_df = pd.read_csv('data/caligraph-ontology.nt.csv', sep=';')\n",
    "caligraph_ontology_df.head()"
   ],
   "metadata": {
    "collapsed": false,
    "pycharm": {
     "name": "#%%\n"
    }
   }
  },
  {
   "cell_type": "code",
   "execution_count": 3,
   "outputs": [
    {
     "name": "stdout",
     "output_type": "stream",
     "text": [
      "Number of items: 1,350\n",
      "Number of links: 6,130\n"
     ]
    },
    {
     "data": {
      "text/plain": "               subject  object\n104             artist      50\n142   badminton player      47\n53          ambassador      45\n22    academic journal      43\n41             airport      42\n164      body of water      42\n39             airline      41\n144               bank      40\n42               album      39\n558  formula one racer      38",
      "text/html": "<div>\n<style scoped>\n    .dataframe tbody tr th:only-of-type {\n        vertical-align: middle;\n    }\n\n    .dataframe tbody tr th {\n        vertical-align: top;\n    }\n\n    .dataframe thead th {\n        text-align: right;\n    }\n</style>\n<table border=\"1\" class=\"dataframe\">\n  <thead>\n    <tr style=\"text-align: right;\">\n      <th></th>\n      <th>subject</th>\n      <th>object</th>\n    </tr>\n  </thead>\n  <tbody>\n    <tr>\n      <th>104</th>\n      <td>artist</td>\n      <td>50</td>\n    </tr>\n    <tr>\n      <th>142</th>\n      <td>badminton player</td>\n      <td>47</td>\n    </tr>\n    <tr>\n      <th>53</th>\n      <td>ambassador</td>\n      <td>45</td>\n    </tr>\n    <tr>\n      <th>22</th>\n      <td>academic journal</td>\n      <td>43</td>\n    </tr>\n    <tr>\n      <th>41</th>\n      <td>airport</td>\n      <td>42</td>\n    </tr>\n    <tr>\n      <th>164</th>\n      <td>body of water</td>\n      <td>42</td>\n    </tr>\n    <tr>\n      <th>39</th>\n      <td>airline</td>\n      <td>41</td>\n    </tr>\n    <tr>\n      <th>144</th>\n      <td>bank</td>\n      <td>40</td>\n    </tr>\n    <tr>\n      <th>42</th>\n      <td>album</td>\n      <td>39</td>\n    </tr>\n    <tr>\n      <th>558</th>\n      <td>formula one racer</td>\n      <td>38</td>\n    </tr>\n  </tbody>\n</table>\n</div>"
     },
     "execution_count": 3,
     "metadata": {},
     "output_type": "execute_result"
    }
   ],
   "source": [
    "caligraph_ontology_df[\"subject\"] = caligraph_ontology_df[\"subject\"].map(lambda x: x.replace('_', ' ').lower())\n",
    "caligraph_ontology_df[\"object\"] = caligraph_ontology_df[\"object\"].map(lambda x: x.replace('_', ' ').lower())\n",
    "subject_object_list = set(list(caligraph_ontology_df[\"subject\"]) + list(caligraph_ontology_df[\"object\"]))\n",
    "print(f'Number of items: {len(subject_object_list):>,}')\n",
    "print(f'Number of links: {len(caligraph_ontology_df):>,}')\n",
    "\n",
    "caligraph_ontology_df.groupby('subject')['object'].agg(np.count_nonzero).reset_index().sort_values('object', ascending=False).head(10)"
   ],
   "metadata": {
    "collapsed": false,
    "pycharm": {
     "name": "#%%\n"
    }
   }
  },
  {
   "cell_type": "code",
   "execution_count": 4,
   "outputs": [
    {
     "data": {
      "text/plain": "                             object  subject\n117                           class     1206\n609                            work      189\n584                    unit of work      187\n566                 topical concept      183\n564                     time period      176\n520                          specie      157\n535                   sports season      157\n563                           thing      127\n467  results of a sport competition      112\n388                 person function      111",
      "text/html": "<div>\n<style scoped>\n    .dataframe tbody tr th:only-of-type {\n        vertical-align: middle;\n    }\n\n    .dataframe tbody tr th {\n        vertical-align: top;\n    }\n\n    .dataframe thead th {\n        text-align: right;\n    }\n</style>\n<table border=\"1\" class=\"dataframe\">\n  <thead>\n    <tr style=\"text-align: right;\">\n      <th></th>\n      <th>object</th>\n      <th>subject</th>\n    </tr>\n  </thead>\n  <tbody>\n    <tr>\n      <th>117</th>\n      <td>class</td>\n      <td>1206</td>\n    </tr>\n    <tr>\n      <th>609</th>\n      <td>work</td>\n      <td>189</td>\n    </tr>\n    <tr>\n      <th>584</th>\n      <td>unit of work</td>\n      <td>187</td>\n    </tr>\n    <tr>\n      <th>566</th>\n      <td>topical concept</td>\n      <td>183</td>\n    </tr>\n    <tr>\n      <th>564</th>\n      <td>time period</td>\n      <td>176</td>\n    </tr>\n    <tr>\n      <th>520</th>\n      <td>specie</td>\n      <td>157</td>\n    </tr>\n    <tr>\n      <th>535</th>\n      <td>sports season</td>\n      <td>157</td>\n    </tr>\n    <tr>\n      <th>563</th>\n      <td>thing</td>\n      <td>127</td>\n    </tr>\n    <tr>\n      <th>467</th>\n      <td>results of a sport competition</td>\n      <td>112</td>\n    </tr>\n    <tr>\n      <th>388</th>\n      <td>person function</td>\n      <td>111</td>\n    </tr>\n  </tbody>\n</table>\n</div>"
     },
     "execution_count": 4,
     "metadata": {},
     "output_type": "execute_result"
    }
   ],
   "source": [
    "caligraph_ontology_df.groupby('object')['subject'].agg(np.count_nonzero).reset_index().sort_values('subject', ascending=False).head(10)"
   ],
   "metadata": {
    "collapsed": false,
    "pycharm": {
     "name": "#%%\n"
    }
   }
  },
  {
   "cell_type": "markdown",
   "source": [
    "## Upload to IPFS"
   ],
   "metadata": {
    "collapsed": false,
    "pycharm": {
     "name": "#%% md\n"
    }
   }
  },
  {
   "cell_type": "code",
   "execution_count": 5,
   "outputs": [],
   "source": [
    "ipfs_hashes_dict = {name: upload_text(name, print_message=False) for name in tqdm(subject_object_list)}"
   ],
   "metadata": {
    "collapsed": false,
    "pycharm": {
     "name": "#%%\n"
    }
   }
  },
  {
   "cell_type": "code",
   "execution_count": 7,
   "outputs": [],
   "source": [
    "caligraph_ontology_df['subject_ipfs_hash'] = caligraph_ontology_df['subject'].map(lambda x: ipfs_hashes_dict[x][0])\n",
    "caligraph_ontology_df['object_ipfs_hash'] = caligraph_ontology_df['object'].map(lambda x: ipfs_hashes_dict[x][0])"
   ],
   "metadata": {
    "collapsed": false,
    "pycharm": {
     "name": "#%%\n"
    }
   }
  },
  {
   "cell_type": "code",
   "execution_count": 8,
   "outputs": [],
   "source": [
    "# caligraph_ontology_df.to_csv('caligraph_ontology.csv')\n",
    "# caligraph_ontology_df = pd.read_csv('caligraph_ontology.csv')"
   ],
   "metadata": {
    "collapsed": false,
    "pycharm": {
     "name": "#%%\n"
    }
   }
  },
  {
   "cell_type": "markdown",
   "source": [
    "## Upload to cyber"
   ],
   "metadata": {
    "collapsed": false,
    "pycharm": {
     "name": "#%% md\n",
     "is_executing": true
    }
   },
   "outputs": [
    {
     "name": "stderr",
     "output_type": "stream",
     "text": [
      "ERROR:root:cyberLink was not created. Account groovybear, from QmSkqKR4EUGxyWbaWi9d8t1C5JNe6evFQv9evK11wovLxx, to QmXWpHdprAfKD5ZL8vu1QHC7EsB76bjHbeM2THorZmQLGu. Error list index out of range\n"
     ]
    },
    {
     "name": "stdout",
     "output_type": "stream",
     "text": [
      "CyberLink from QmSkqKR4EUGxyWbaWi9d8t1C5JNe6evFQv9evK11wovLxx to QmXWpHdprAfKD5ZL8vu1QHC7EsB76bjHbeM2THorZmQLGu was not created, error: list index out of range\n"
     ]
    },
    {
     "name": "stderr",
     "output_type": "stream",
     "text": [
      "ERROR:root:cyberLink was not created. Account groovybear, from QmSkqKR4EUGxyWbaWi9d8t1C5JNe6evFQv9evK11wovLxx, to QmZPYQXrvYGG2tgD2Z6SHU5NM9AsMxqeUd3nnM7WzLMWtS. Error list index out of range\n"
     ]
    },
    {
     "name": "stdout",
     "output_type": "stream",
     "text": [
      "CyberLink from QmSkqKR4EUGxyWbaWi9d8t1C5JNe6evFQv9evK11wovLxx to QmZPYQXrvYGG2tgD2Z6SHU5NM9AsMxqeUd3nnM7WzLMWtS was not created, error: list index out of range\n"
     ]
    },
    {
     "name": "stderr",
     "output_type": "stream",
     "text": [
      "ERROR:root:cyberLink was not created. Account groovybear, from QmSkqKR4EUGxyWbaWi9d8t1C5JNe6evFQv9evK11wovLxx, to QmSpPA6mVdwq41xLBtgoHsi1ZrTn7DSi8kvNX9crhzDRFm. Error list index out of range\n"
     ]
    },
    {
     "name": "stdout",
     "output_type": "stream",
     "text": [
      "CyberLink from QmSkqKR4EUGxyWbaWi9d8t1C5JNe6evFQv9evK11wovLxx to QmSpPA6mVdwq41xLBtgoHsi1ZrTn7DSi8kvNX9crhzDRFm was not created, error: list index out of range\n"
     ]
    },
    {
     "name": "stderr",
     "output_type": "stream",
     "text": [
      "ERROR:root:cyberLink was not created. Account groovybear, from QmSkqKR4EUGxyWbaWi9d8t1C5JNe6evFQv9evK11wovLxx, to QmQskbQMriPkVfNFkmYyG3hbnLfEUx9avKjnLNNcgofZ37. Error list index out of range\n"
     ]
    },
    {
     "name": "stdout",
     "output_type": "stream",
     "text": [
      "CyberLink from QmSkqKR4EUGxyWbaWi9d8t1C5JNe6evFQv9evK11wovLxx to QmQskbQMriPkVfNFkmYyG3hbnLfEUx9avKjnLNNcgofZ37 was not created, error: list index out of range\n"
     ]
    },
    {
     "name": "stderr",
     "output_type": "stream",
     "text": [
      "ERROR:root:cyberLink was not created. Account groovybear, from QmSkqKR4EUGxyWbaWi9d8t1C5JNe6evFQv9evK11wovLxx, to QmTbXqp4Pd47faxVUMWNujtBCSr6Gh6S63PWTs7xbw7U6J. Error list index out of range\n"
     ]
    },
    {
     "name": "stdout",
     "output_type": "stream",
     "text": [
      "CyberLink from QmSkqKR4EUGxyWbaWi9d8t1C5JNe6evFQv9evK11wovLxx to QmTbXqp4Pd47faxVUMWNujtBCSr6Gh6S63PWTs7xbw7U6J was not created, error: list index out of range\n"
     ]
    },
    {
     "name": "stderr",
     "output_type": "stream",
     "text": [
      "ERROR:root:cyberLink was not created. Account groovybear, from QmSkqKR4EUGxyWbaWi9d8t1C5JNe6evFQv9evK11wovLxx, to Qme1nVwSdKWUP3FjeJ5WcePSPw4dDJatpvKCQf9qG9S2Xs. Error list index out of range\n"
     ]
    },
    {
     "name": "stdout",
     "output_type": "stream",
     "text": [
      "CyberLink from QmSkqKR4EUGxyWbaWi9d8t1C5JNe6evFQv9evK11wovLxx to Qme1nVwSdKWUP3FjeJ5WcePSPw4dDJatpvKCQf9qG9S2Xs was not created, error: list index out of range\n"
     ]
    },
    {
     "name": "stderr",
     "output_type": "stream",
     "text": [
      "ERROR:root:cyberLink was not created. Account groovybear, from QmSkqKR4EUGxyWbaWi9d8t1C5JNe6evFQv9evK11wovLxx, to QmUKhiAPLh4mARTjM5PrnbuivtdEBYtDfYeyNcy2GeRWwB. Error list index out of range\n"
     ]
    },
    {
     "name": "stdout",
     "output_type": "stream",
     "text": [
      "CyberLink from QmSkqKR4EUGxyWbaWi9d8t1C5JNe6evFQv9evK11wovLxx to QmUKhiAPLh4mARTjM5PrnbuivtdEBYtDfYeyNcy2GeRWwB was not created, error: list index out of range\n"
     ]
    },
    {
     "name": "stderr",
     "output_type": "stream",
     "text": [
      "ERROR:root:cyberLink was not created. Account groovybear, from QmSkqKR4EUGxyWbaWi9d8t1C5JNe6evFQv9evK11wovLxx, to Qma9zuf6uygvnG2cnQjf76a32p4zTxEad9h8xgDs1UpGwj. Error list index out of range\n"
     ]
    },
    {
     "name": "stdout",
     "output_type": "stream",
     "text": [
      "CyberLink from QmSkqKR4EUGxyWbaWi9d8t1C5JNe6evFQv9evK11wovLxx to Qma9zuf6uygvnG2cnQjf76a32p4zTxEad9h8xgDs1UpGwj was not created, error: list index out of range\n"
     ]
    },
    {
     "name": "stderr",
     "output_type": "stream",
     "text": [
      "ERROR:root:cyberLink was not created. Account groovybear, from QmSkqKR4EUGxyWbaWi9d8t1C5JNe6evFQv9evK11wovLxx, to QmfZFVHSezS7qS2SSZbnE8Ds4ttbAQo7P1EwLUNYNhptV7. Error list index out of range\n"
     ]
    },
    {
     "name": "stdout",
     "output_type": "stream",
     "text": [
      "CyberLink from QmSkqKR4EUGxyWbaWi9d8t1C5JNe6evFQv9evK11wovLxx to QmfZFVHSezS7qS2SSZbnE8Ds4ttbAQo7P1EwLUNYNhptV7 was not created, error: list index out of range\n"
     ]
    },
    {
     "name": "stderr",
     "output_type": "stream",
     "text": [
      "ERROR:root:cyberLink was not created. Account groovybear, from QmPrnjrYBVz9fof4q5nQ7jD1NRHBBTcM3PmdVBpdw3BG7G, to QmVj6G3dRPHmBqJ15fUUGVFpVsBcXQ6e97GjfBBtVKccpV. Error list index out of range\n"
     ]
    },
    {
     "name": "stdout",
     "output_type": "stream",
     "text": [
      "CyberLink from QmPrnjrYBVz9fof4q5nQ7jD1NRHBBTcM3PmdVBpdw3BG7G to QmVj6G3dRPHmBqJ15fUUGVFpVsBcXQ6e97GjfBBtVKccpV was not created, error: list index out of range\n"
     ]
    },
    {
     "name": "stderr",
     "output_type": "stream",
     "text": [
      "ERROR:root:cyberLink was not created. Account groovybear, from QmPrnjrYBVz9fof4q5nQ7jD1NRHBBTcM3PmdVBpdw3BG7G, to QmVk9ZDMR2qsQJ9p7MZTAsDMqZjmQf9AafS6mKggZoVvAK. Error list index out of range\n"
     ]
    },
    {
     "name": "stdout",
     "output_type": "stream",
     "text": [
      "CyberLink from QmPrnjrYBVz9fof4q5nQ7jD1NRHBBTcM3PmdVBpdw3BG7G to QmVk9ZDMR2qsQJ9p7MZTAsDMqZjmQf9AafS6mKggZoVvAK was not created, error: list index out of range\n"
     ]
    },
    {
     "name": "stderr",
     "output_type": "stream",
     "text": [
      "ERROR:root:cyberLink was not created. Account groovybear, from QmPrnjrYBVz9fof4q5nQ7jD1NRHBBTcM3PmdVBpdw3BG7G, to QmPgmmr4quPx96ZuQH3cpctGQ92RrzQpKjBhprKHHacvCv. Error list index out of range\n"
     ]
    },
    {
     "name": "stdout",
     "output_type": "stream",
     "text": [
      "CyberLink from QmPrnjrYBVz9fof4q5nQ7jD1NRHBBTcM3PmdVBpdw3BG7G to QmPgmmr4quPx96ZuQH3cpctGQ92RrzQpKjBhprKHHacvCv was not created, error: list index out of range\n"
     ]
    },
    {
     "name": "stderr",
     "output_type": "stream",
     "text": [
      "ERROR:root:cyberLink was not created. Account groovybear, from QmPrnjrYBVz9fof4q5nQ7jD1NRHBBTcM3PmdVBpdw3BG7G, to QmWvckWNpZhotUKgoV8eXSfn1GYxjyYLeisHGeJ9z7BSas. Error list index out of range\n"
     ]
    },
    {
     "name": "stdout",
     "output_type": "stream",
     "text": [
      "CyberLink from QmPrnjrYBVz9fof4q5nQ7jD1NRHBBTcM3PmdVBpdw3BG7G to QmWvckWNpZhotUKgoV8eXSfn1GYxjyYLeisHGeJ9z7BSas was not created, error: list index out of range\n"
     ]
    },
    {
     "name": "stderr",
     "output_type": "stream",
     "text": [
      "ERROR:root:cyberLink was not created. Account groovybear, from QmPrnjrYBVz9fof4q5nQ7jD1NRHBBTcM3PmdVBpdw3BG7G, to QmTupoE4bA8XC1XD16HtpM2VqYu8tghnZZt2T724ViKW1G. Error list index out of range\n"
     ]
    },
    {
     "name": "stdout",
     "output_type": "stream",
     "text": [
      "CyberLink from QmPrnjrYBVz9fof4q5nQ7jD1NRHBBTcM3PmdVBpdw3BG7G to QmTupoE4bA8XC1XD16HtpM2VqYu8tghnZZt2T724ViKW1G was not created, error: list index out of range\n"
     ]
    },
    {
     "name": "stderr",
     "output_type": "stream",
     "text": [
      "ERROR:root:cyberLink was not created. Account groovybear, from QmPrnjrYBVz9fof4q5nQ7jD1NRHBBTcM3PmdVBpdw3BG7G, to QmdShyFAR7dL7wa1R859fDXHHVPSbqbViL6J6Xm4jQSHdQ. Error list index out of range\n"
     ]
    },
    {
     "name": "stdout",
     "output_type": "stream",
     "text": [
      "CyberLink from QmPrnjrYBVz9fof4q5nQ7jD1NRHBBTcM3PmdVBpdw3BG7G to QmdShyFAR7dL7wa1R859fDXHHVPSbqbViL6J6Xm4jQSHdQ was not created, error: list index out of range\n"
     ]
    },
    {
     "name": "stderr",
     "output_type": "stream",
     "text": [
      "ERROR:root:cyberLink was not created. Account groovybear, from QmPrnjrYBVz9fof4q5nQ7jD1NRHBBTcM3PmdVBpdw3BG7G, to QmRcXFdS8JXNg9P8nYKLSmiFksCghtbZKZHyyzoDFeNTde. Error list index out of range\n"
     ]
    },
    {
     "name": "stdout",
     "output_type": "stream",
     "text": [
      "CyberLink from QmPrnjrYBVz9fof4q5nQ7jD1NRHBBTcM3PmdVBpdw3BG7G to QmRcXFdS8JXNg9P8nYKLSmiFksCghtbZKZHyyzoDFeNTde was not created, error: list index out of range\n"
     ]
    },
    {
     "name": "stderr",
     "output_type": "stream",
     "text": [
      "ERROR:root:cyberLink was not created. Account groovybear, from QmPrnjrYBVz9fof4q5nQ7jD1NRHBBTcM3PmdVBpdw3BG7G, to QmYi3XDwqYFRnGpgXiRDWqG5QZxLVxWZP7EUjFUfUJLV1E. Error list index out of range\n"
     ]
    },
    {
     "name": "stdout",
     "output_type": "stream",
     "text": [
      "CyberLink from QmPrnjrYBVz9fof4q5nQ7jD1NRHBBTcM3PmdVBpdw3BG7G to QmYi3XDwqYFRnGpgXiRDWqG5QZxLVxWZP7EUjFUfUJLV1E was not created, error: list index out of range\n"
     ]
    },
    {
     "name": "stderr",
     "output_type": "stream",
     "text": [
      "ERROR:root:cyberLink was not created. Account groovybear, from QmPrnjrYBVz9fof4q5nQ7jD1NRHBBTcM3PmdVBpdw3BG7G, to QmZgrGkz1xPQbXTDdJwxd5Dk3cLYLaFpddQ7RuUvGNMdeS. Error list index out of range\n"
     ]
    },
    {
     "name": "stdout",
     "output_type": "stream",
     "text": [
      "CyberLink from QmPrnjrYBVz9fof4q5nQ7jD1NRHBBTcM3PmdVBpdw3BG7G to QmZgrGkz1xPQbXTDdJwxd5Dk3cLYLaFpddQ7RuUvGNMdeS was not created, error: list index out of range\n"
     ]
    },
    {
     "name": "stderr",
     "output_type": "stream",
     "text": [
      "ERROR:root:cyberLink was not created. Account groovybear, from QmPrnjrYBVz9fof4q5nQ7jD1NRHBBTcM3PmdVBpdw3BG7G, to QmYUnWqfX46BnKxzbD29LDdCBT812jt9KvQzMncQ8novU6. Error list index out of range\n"
     ]
    },
    {
     "name": "stdout",
     "output_type": "stream",
     "text": [
      "CyberLink from QmPrnjrYBVz9fof4q5nQ7jD1NRHBBTcM3PmdVBpdw3BG7G to QmYUnWqfX46BnKxzbD29LDdCBT812jt9KvQzMncQ8novU6 was not created, error: list index out of range\n"
     ]
    },
    {
     "name": "stderr",
     "output_type": "stream",
     "text": [
      "ERROR:root:cyberLink was not created. Account groovybear, from QmPrnjrYBVz9fof4q5nQ7jD1NRHBBTcM3PmdVBpdw3BG7G, to QmRubMmhXMzpPNEA7D9UGz3DTqJTypBEtdGXLrC7Px7z2V. Error list index out of range\n"
     ]
    },
    {
     "name": "stdout",
     "output_type": "stream",
     "text": [
      "CyberLink from QmPrnjrYBVz9fof4q5nQ7jD1NRHBBTcM3PmdVBpdw3BG7G to QmRubMmhXMzpPNEA7D9UGz3DTqJTypBEtdGXLrC7Px7z2V was not created, error: list index out of range\n"
     ]
    },
    {
     "name": "stderr",
     "output_type": "stream",
     "text": [
      "ERROR:root:cyberLink was not created. Account groovybear, from QmPrnjrYBVz9fof4q5nQ7jD1NRHBBTcM3PmdVBpdw3BG7G, to QmVuLx55tbhPN99KHTtbHMeCWraSFaRRjQDf82F69qkwaV. Error list index out of range\n"
     ]
    },
    {
     "name": "stdout",
     "output_type": "stream",
     "text": [
      "CyberLink from QmPrnjrYBVz9fof4q5nQ7jD1NRHBBTcM3PmdVBpdw3BG7G to QmVuLx55tbhPN99KHTtbHMeCWraSFaRRjQDf82F69qkwaV was not created, error: list index out of range\n"
     ]
    },
    {
     "name": "stderr",
     "output_type": "stream",
     "text": [
      "ERROR:root:cyberLink was not created. Account groovybear, from QmPrnjrYBVz9fof4q5nQ7jD1NRHBBTcM3PmdVBpdw3BG7G, to QmTACrEGgxtCyhstEnMXmDaBEVzap38tFK7YXNe73bSc5j. Error list index out of range\n"
     ]
    },
    {
     "name": "stdout",
     "output_type": "stream",
     "text": [
      "CyberLink from QmPrnjrYBVz9fof4q5nQ7jD1NRHBBTcM3PmdVBpdw3BG7G to QmTACrEGgxtCyhstEnMXmDaBEVzap38tFK7YXNe73bSc5j was not created, error: list index out of range\n"
     ]
    },
    {
     "name": "stderr",
     "output_type": "stream",
     "text": [
      "ERROR:root:cyberLink was not created. Account groovybear, from QmPrnjrYBVz9fof4q5nQ7jD1NRHBBTcM3PmdVBpdw3BG7G, to QmQV3maSEkQjofkeZPoxFWsmRDyqzL5Wqmxzvb1WpVXPHR. Error list index out of range\n"
     ]
    },
    {
     "name": "stdout",
     "output_type": "stream",
     "text": [
      "CyberLink from QmPrnjrYBVz9fof4q5nQ7jD1NRHBBTcM3PmdVBpdw3BG7G to QmQV3maSEkQjofkeZPoxFWsmRDyqzL5Wqmxzvb1WpVXPHR was not created, error: list index out of range\n"
     ]
    },
    {
     "name": "stderr",
     "output_type": "stream",
     "text": [
      "ERROR:root:cyberLink was not created. Account groovybear, from QmPrnjrYBVz9fof4q5nQ7jD1NRHBBTcM3PmdVBpdw3BG7G, to QmSSD8afyjSoGwqasWsdXz5idD44RJscSHYn1Uoi4pdKpV. Error list index out of range\n"
     ]
    },
    {
     "name": "stdout",
     "output_type": "stream",
     "text": [
      "CyberLink from QmPrnjrYBVz9fof4q5nQ7jD1NRHBBTcM3PmdVBpdw3BG7G to QmSSD8afyjSoGwqasWsdXz5idD44RJscSHYn1Uoi4pdKpV was not created, error: list index out of range\n"
     ]
    },
    {
     "name": "stderr",
     "output_type": "stream",
     "text": [
      "ERROR:root:cyberLink was not created. Account groovybear, from QmPrnjrYBVz9fof4q5nQ7jD1NRHBBTcM3PmdVBpdw3BG7G, to QmZzzwBTEBdD7bHHUa7u3LSvrNkfnVqeNiaxdEsK8KrBu6. Error list index out of range\n"
     ]
    },
    {
     "name": "stdout",
     "output_type": "stream",
     "text": [
      "CyberLink from QmPrnjrYBVz9fof4q5nQ7jD1NRHBBTcM3PmdVBpdw3BG7G to QmZzzwBTEBdD7bHHUa7u3LSvrNkfnVqeNiaxdEsK8KrBu6 was not created, error: list index out of range\n"
     ]
    },
    {
     "name": "stderr",
     "output_type": "stream",
     "text": [
      "ERROR:root:cyberLink was not created. Account groovybear, from QmPrnjrYBVz9fof4q5nQ7jD1NRHBBTcM3PmdVBpdw3BG7G, to QmcncL94iMjMbshEjdNFhe1eCFe2CT4sWoZcjF4rkoX7NG. Error list index out of range\n"
     ]
    },
    {
     "name": "stdout",
     "output_type": "stream",
     "text": [
      "CyberLink from QmPrnjrYBVz9fof4q5nQ7jD1NRHBBTcM3PmdVBpdw3BG7G to QmcncL94iMjMbshEjdNFhe1eCFe2CT4sWoZcjF4rkoX7NG was not created, error: list index out of range\n"
     ]
    },
    {
     "name": "stderr",
     "output_type": "stream",
     "text": [
      "ERROR:root:cyberLink was not created. Account groovybear, from QmPrnjrYBVz9fof4q5nQ7jD1NRHBBTcM3PmdVBpdw3BG7G, to Qmdot5hJ5b7UMJYCTBsUMVapLBJLXk4X8QAP1ifFueY23L. Error list index out of range\n"
     ]
    },
    {
     "name": "stdout",
     "output_type": "stream",
     "text": [
      "CyberLink from QmPrnjrYBVz9fof4q5nQ7jD1NRHBBTcM3PmdVBpdw3BG7G to Qmdot5hJ5b7UMJYCTBsUMVapLBJLXk4X8QAP1ifFueY23L was not created, error: list index out of range\n"
     ]
    },
    {
     "name": "stderr",
     "output_type": "stream",
     "text": [
      "ERROR:root:cyberLink was not created. Account groovybear, from QmPrnjrYBVz9fof4q5nQ7jD1NRHBBTcM3PmdVBpdw3BG7G, to QmXuZPywk64gjV6iQPNX9RYscmmwMx9EfsSC8r2kWvfTB5. Error list index out of range\n"
     ]
    },
    {
     "name": "stdout",
     "output_type": "stream",
     "text": [
      "CyberLink from QmPrnjrYBVz9fof4q5nQ7jD1NRHBBTcM3PmdVBpdw3BG7G to QmXuZPywk64gjV6iQPNX9RYscmmwMx9EfsSC8r2kWvfTB5 was not created, error: list index out of range\n"
     ]
    },
    {
     "name": "stderr",
     "output_type": "stream",
     "text": [
      "ERROR:root:cyberLink was not created. Account groovybear, from QmPrnjrYBVz9fof4q5nQ7jD1NRHBBTcM3PmdVBpdw3BG7G, to QmPsxoHAidhp8k4JcDqFqfmKwMntJiN59nz3PA5m4m8vfP. Error list index out of range\n"
     ]
    },
    {
     "name": "stdout",
     "output_type": "stream",
     "text": [
      "CyberLink from QmPrnjrYBVz9fof4q5nQ7jD1NRHBBTcM3PmdVBpdw3BG7G to QmPsxoHAidhp8k4JcDqFqfmKwMntJiN59nz3PA5m4m8vfP was not created, error: list index out of range\n"
     ]
    },
    {
     "name": "stderr",
     "output_type": "stream",
     "text": [
      "ERROR:root:cyberLink was not created. Account groovybear, from QmPrnjrYBVz9fof4q5nQ7jD1NRHBBTcM3PmdVBpdw3BG7G, to QmSahvaocC9fnsgxM9o7GuMZUzbJjCsXPihn6cvR9v5CUL. Error list index out of range\n"
     ]
    },
    {
     "name": "stdout",
     "output_type": "stream",
     "text": [
      "CyberLink from QmPrnjrYBVz9fof4q5nQ7jD1NRHBBTcM3PmdVBpdw3BG7G to QmSahvaocC9fnsgxM9o7GuMZUzbJjCsXPihn6cvR9v5CUL was not created, error: list index out of range\n"
     ]
    },
    {
     "name": "stderr",
     "output_type": "stream",
     "text": [
      "ERROR:root:cyberLink was not created. Account groovybear, from QmPrnjrYBVz9fof4q5nQ7jD1NRHBBTcM3PmdVBpdw3BG7G, to QmPofDjza5YpopWxPwx8sgD7jibi9NsieqfvPbUAVVYVuG. Error list index out of range\n"
     ]
    },
    {
     "name": "stdout",
     "output_type": "stream",
     "text": [
      "CyberLink from QmPrnjrYBVz9fof4q5nQ7jD1NRHBBTcM3PmdVBpdw3BG7G to QmPofDjza5YpopWxPwx8sgD7jibi9NsieqfvPbUAVVYVuG was not created, error: list index out of range\n"
     ]
    },
    {
     "name": "stderr",
     "output_type": "stream",
     "text": [
      "ERROR:root:cyberLink was not created. Account groovybear, from QmPrnjrYBVz9fof4q5nQ7jD1NRHBBTcM3PmdVBpdw3BG7G, to QmZPYQXrvYGG2tgD2Z6SHU5NM9AsMxqeUd3nnM7WzLMWtS. Error list index out of range\n"
     ]
    },
    {
     "name": "stdout",
     "output_type": "stream",
     "text": [
      "CyberLink from QmPrnjrYBVz9fof4q5nQ7jD1NRHBBTcM3PmdVBpdw3BG7G to QmZPYQXrvYGG2tgD2Z6SHU5NM9AsMxqeUd3nnM7WzLMWtS was not created, error: list index out of range\n"
     ]
    },
    {
     "name": "stderr",
     "output_type": "stream",
     "text": [
      "ERROR:root:cyberLink was not created. Account groovybear, from QmPrnjrYBVz9fof4q5nQ7jD1NRHBBTcM3PmdVBpdw3BG7G, to QmPbYXprPJzg4q3LTdoSDuWX1kk2z3tfvDAJGMyNRiLpzE. Error list index out of range\n"
     ]
    },
    {
     "name": "stdout",
     "output_type": "stream",
     "text": [
      "CyberLink from QmPrnjrYBVz9fof4q5nQ7jD1NRHBBTcM3PmdVBpdw3BG7G to QmPbYXprPJzg4q3LTdoSDuWX1kk2z3tfvDAJGMyNRiLpzE was not created, error: list index out of range\n"
     ]
    },
    {
     "name": "stderr",
     "output_type": "stream",
     "text": [
      "ERROR:root:cyberLink was not created. Account groovybear, from QmPrnjrYBVz9fof4q5nQ7jD1NRHBBTcM3PmdVBpdw3BG7G, to QmSXd2Fsz25eN6FeptnrQFjaLN7KaKXZYcJq9frTfgrovi. Error list index out of range\n"
     ]
    },
    {
     "name": "stdout",
     "output_type": "stream",
     "text": [
      "CyberLink from QmPrnjrYBVz9fof4q5nQ7jD1NRHBBTcM3PmdVBpdw3BG7G to QmSXd2Fsz25eN6FeptnrQFjaLN7KaKXZYcJq9frTfgrovi was not created, error: list index out of range\n"
     ]
    },
    {
     "name": "stderr",
     "output_type": "stream",
     "text": [
      "ERROR:root:cyberLink was not created. Account groovybear, from QmPrnjrYBVz9fof4q5nQ7jD1NRHBBTcM3PmdVBpdw3BG7G, to QmTEfSttN4SsDD1n7CjAoCUCRUTM8rdVuMFYVdsEeYuxp7. Error list index out of range\n"
     ]
    },
    {
     "name": "stdout",
     "output_type": "stream",
     "text": [
      "CyberLink from QmPrnjrYBVz9fof4q5nQ7jD1NRHBBTcM3PmdVBpdw3BG7G to QmTEfSttN4SsDD1n7CjAoCUCRUTM8rdVuMFYVdsEeYuxp7 was not created, error: list index out of range\n"
     ]
    },
    {
     "name": "stderr",
     "output_type": "stream",
     "text": [
      "ERROR:root:cyberLink was not created. Account groovybear, from QmPrnjrYBVz9fof4q5nQ7jD1NRHBBTcM3PmdVBpdw3BG7G, to QmQH36xY3vg56SwgR5itFQ6sj4fGjDTUwVwB44Qkioj3Bd. Error list index out of range\n"
     ]
    },
    {
     "name": "stdout",
     "output_type": "stream",
     "text": [
      "CyberLink from QmPrnjrYBVz9fof4q5nQ7jD1NRHBBTcM3PmdVBpdw3BG7G to QmQH36xY3vg56SwgR5itFQ6sj4fGjDTUwVwB44Qkioj3Bd was not created, error: list index out of range\n"
     ]
    },
    {
     "name": "stderr",
     "output_type": "stream",
     "text": [
      "ERROR:root:cyberLink was not created. Account groovybear, from QmPrnjrYBVz9fof4q5nQ7jD1NRHBBTcM3PmdVBpdw3BG7G, to QmYgD5rDtUeYxJi1tRXMf1WVzDgByF3JtJeBZJjQk7atwv. Error list index out of range\n"
     ]
    },
    {
     "name": "stdout",
     "output_type": "stream",
     "text": [
      "CyberLink from QmPrnjrYBVz9fof4q5nQ7jD1NRHBBTcM3PmdVBpdw3BG7G to QmYgD5rDtUeYxJi1tRXMf1WVzDgByF3JtJeBZJjQk7atwv was not created, error: list index out of range\n"
     ]
    },
    {
     "name": "stderr",
     "output_type": "stream",
     "text": [
      "ERROR:root:cyberLink was not created. Account groovybear, from QmPrnjrYBVz9fof4q5nQ7jD1NRHBBTcM3PmdVBpdw3BG7G, to QmYvukGmtgXZq4H3cnLEWCGbyyYsob5GsyTYgXcrGaTMmC. Error list index out of range\n"
     ]
    },
    {
     "name": "stdout",
     "output_type": "stream",
     "text": [
      "CyberLink from QmPrnjrYBVz9fof4q5nQ7jD1NRHBBTcM3PmdVBpdw3BG7G to QmYvukGmtgXZq4H3cnLEWCGbyyYsob5GsyTYgXcrGaTMmC was not created, error: list index out of range\n"
     ]
    },
    {
     "name": "stderr",
     "output_type": "stream",
     "text": [
      "ERROR:root:cyberLink was not created. Account groovybear, from QmPrnjrYBVz9fof4q5nQ7jD1NRHBBTcM3PmdVBpdw3BG7G, to QmThqYdd8PM8vwgeENfTie14LHwPoVrogxs9NnJPWTdmcf. Error list index out of range\n"
     ]
    },
    {
     "name": "stdout",
     "output_type": "stream",
     "text": [
      "CyberLink from QmPrnjrYBVz9fof4q5nQ7jD1NRHBBTcM3PmdVBpdw3BG7G to QmThqYdd8PM8vwgeENfTie14LHwPoVrogxs9NnJPWTdmcf was not created, error: list index out of range\n"
     ]
    },
    {
     "name": "stderr",
     "output_type": "stream",
     "text": [
      "ERROR:root:cyberLink was not created. Account groovybear, from QmPrnjrYBVz9fof4q5nQ7jD1NRHBBTcM3PmdVBpdw3BG7G, to QmXpiJ24ceZ61cnTUGLjQh8JE4ZstQKNykV7oRrQoueDrm. Error list index out of range\n"
     ]
    },
    {
     "name": "stdout",
     "output_type": "stream",
     "text": [
      "CyberLink from QmPrnjrYBVz9fof4q5nQ7jD1NRHBBTcM3PmdVBpdw3BG7G to QmXpiJ24ceZ61cnTUGLjQh8JE4ZstQKNykV7oRrQoueDrm was not created, error: list index out of range\n"
     ]
    },
    {
     "name": "stderr",
     "output_type": "stream",
     "text": [
      "ERROR:root:cyberLink was not created. Account groovybear, from QmPrnjrYBVz9fof4q5nQ7jD1NRHBBTcM3PmdVBpdw3BG7G, to QmUKhiAPLh4mARTjM5PrnbuivtdEBYtDfYeyNcy2GeRWwB. Error list index out of range\n"
     ]
    },
    {
     "name": "stdout",
     "output_type": "stream",
     "text": [
      "CyberLink from QmPrnjrYBVz9fof4q5nQ7jD1NRHBBTcM3PmdVBpdw3BG7G to QmUKhiAPLh4mARTjM5PrnbuivtdEBYtDfYeyNcy2GeRWwB was not created, error: list index out of range\n"
     ]
    }
   ]
  },
  {
   "cell_type": "code",
   "execution_count": null,
   "outputs": [],
   "source": [
    "link_candidates = caligraph_ontology_df[['subject_ipfs_hash', 'object_ipfs_hash']].values.tolist()\n",
    "create_cls(link_candidates)"
   ],
   "metadata": {
    "collapsed": false,
    "pycharm": {
     "name": "#%%\n"
    }
   }
  },
  {
   "cell_type": "code",
   "execution_count": null,
   "outputs": [],
   "source": [
    "\n"
   ],
   "metadata": {
    "collapsed": false,
    "pycharm": {
     "name": "#%%\n"
    }
   }
  }
 ],
 "metadata": {
  "kernelspec": {
   "display_name": "Python 3",
   "language": "python",
   "name": "python3"
  },
  "language_info": {
   "codemirror_mode": {
    "name": "ipython",
    "version": 2
   },
   "file_extension": ".py",
   "mimetype": "text/x-python",
   "name": "python",
   "nbconvert_exporter": "python",
   "pygments_lexer": "ipython2",
   "version": "2.7.6"
  }
 },
 "nbformat": 4,
 "nbformat_minor": 0
}