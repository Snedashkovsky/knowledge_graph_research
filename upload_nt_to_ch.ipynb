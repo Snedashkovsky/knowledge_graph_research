{
 "cells": [
  {
   "cell_type": "markdown",
   "source": [
    "# Import Knowledge Graphs in RDF standard (nt files)"
   ],
   "metadata": {
    "collapsed": false,
    "pycharm": {
     "name": "#%%\nmd\n"
    }
   }
  },
  {
   "cell_type": "code",
   "execution_count": 2,
   "metadata": {},
   "outputs": [],
   "source": [
    "from clickhouse_driver import Client\n",
    "from os import system\n",
    "from pandas import DataFrame"
   ]
  },
  {
   "cell_type": "code",
   "execution_count": 19,
   "metadata": {},
   "outputs": [],
   "source": [
    "CLICKHOUSE_HOST = 'localhost'\n",
    "COMPRESSION = 'lz4'\n",
    "DROP_TABLE_CALIGRAPH = False\n",
    "CREATE_TABLE_CALIGRAPH = False\n",
    "DROP_TABLE_WIKIDATA = True\n",
    "CREATE_TABLE_WIKIDATA = True\n",
    "client = Client(host=CLICKHOUSE_HOST)\n",
    "execute = client.execute\n",
    "DIR_URL = 'CaLiGraph/'"
   ]
  },
  {
   "cell_type": "markdown",
   "source": [
    "## Drop and Create the knowledge_graph_raw table"
   ],
   "metadata": {
    "collapsed": false
   }
  },
  {
   "cell_type": "code",
   "execution_count": 20,
   "outputs": [],
   "source": [
    "def load_from_ch_to_df(sql_query, columns=None):\n",
    "    return DataFrame(execute(sql_query), columns=columns)\n",
    "\n",
    "if DROP_TABLE_CALIGRAPH:\n",
    "    execute('''\n",
    "            DROP TABLE IF EXISTS knowledge_graph_raw\n",
    "            ''')\n",
    "if CREATE_TABLE_CALIGRAPH:\n",
    "    execute('''\n",
    "            CREATE TABLE IF NOT EXISTS knowledge_graph_raw(\n",
    "                    source String,\n",
    "                    subject String,\n",
    "                    predicate String,\n",
    "                    object String\n",
    "                )\n",
    "            ENGINE = ReplacingMergeTree()\n",
    "            ORDER BY (source, subject, predicate, object)\n",
    "            ''')\n",
    "\n",
    "if DROP_TABLE_WIKIDATA:\n",
    "    execute('''\n",
    "            DROP TABLE IF EXISTS knowledge_graph_wikidata_raw\n",
    "            ''')\n",
    "if CREATE_TABLE_WIKIDATA:\n",
    "    execute('''\n",
    "            CREATE TABLE IF NOT EXISTS knowledge_graph_wikidata_raw(\n",
    "                    source String,\n",
    "                    subject String,\n",
    "                    predicate String,\n",
    "                    object String\n",
    "                )\n",
    "            ENGINE = ReplacingMergeTree()\n",
    "            ORDER BY (source, subject, predicate, object)\n",
    "            ''')\n"
   ],
   "metadata": {
    "collapsed": false,
    "pycharm": {
     "name": "#%%\n"
    }
   }
  },
  {
   "cell_type": "markdown",
   "metadata": {
    "pycharm": {
     "name": "#%%\nmd\n"
    }
   },
   "source": [
    "## Upload data to ClickHouse\n",
    "### Bash scripts\n",
    "#### Upload CSV\n",
    "`cat test_insert.csv | clickhouse-client --query \"\n",
    "    INSERT INTO knowledge_graph_raw\n",
    "    SELECT\n",
    "        'test_insert.csv',\n",
    "        subject,\n",
    "        predicate,\n",
    "        object\n",
    "    FROM input('index String, subject String, predicate String, object String')\n",
    "    FORMAT CSV\" `\n",
    "#### Upload NT\n",
    "`cat test_insert.nt | clickhouse-client --query \"\n",
    "    INSERT INTO knowledge_graph_raw\n",
    "    SELECT\n",
    "        'test_insert.nt',\n",
    "        subject,\n",
    "        object = '' OR object is Null? Null: predicate,\n",
    "        object = '' OR object is Null? predicate: object\n",
    "    FROM (\n",
    "        SELECT\n",
    "            replace(subject_, 'http://', '') as subject,\n",
    "            replace(predicate_, 'http://', '') as predicate,\n",
    "            replace(object_, 'http://', '') as object\n",
    "        FROM input('subject_ String, predicate_ String, object_ String')\n",
    "        )\n",
    "    FORMAT Regexp\n",
    "    SETTINGS format_regexp='[<|\\\\\"](.+?)[>|\\\\\"] [<|\\\\\"](.+?)[>|\\\\\"] [<|\\\\\"](.+?)[>|\\\\\"]\\s\\.', format_regexp_escaping_rule='Escaped'\" `\n",
    "#### Upload NT without transformation\n",
    "`cat test_insert.nt | clickhouse-client --query \"\n",
    "    INSERT INTO knowledge_graph_raw\n",
    "    SELECT\n",
    "        'test_insert.nt',\n",
    "        subject_,\n",
    "        object_ = '' OR object_ is Null? Null: predicate_,\n",
    "        object_ = '' OR object_ is Null? predicate_: object_\n",
    "    FROM input('subject_ String, predicate_ String, object_ String')\n",
    "    FORMAT Regexp\n",
    "    SETTINGS format_regexp='([<|\\\\\"].+?[>|\\\\\"])\\s([<|\\\\\"].+?[>|\\\\\"])\\s([<|\\\\\"].+?[>|\\\\\"])\\s\\.', format_regexp_escaping_rule='Escaped'\" `\n",
    "#### Upload NT from gz-archive\n",
    "`zcat latest-truthy.nt.gz | clickhouse-client --query \"\n",
    "    INSERT INTO knowledge_graph_wikidata_raw\n",
    "    SELECT\n",
    "        'latest-truthy.nt.gz',\n",
    "        subject,\n",
    "        object = '' OR object is Null? Null: predicate,\n",
    "        object = '' OR object is Null? predicate: object\n",
    "    FROM (\n",
    "        SELECT\n",
    "        replace(subject_, 'http://', '') as subject,\n",
    "        replace(predicate_, 'http://', '') as predicate,\n",
    "        replace(object_, 'http://', '') as object\n",
    "        FROM input('subject_ String, predicate_ String, object_ String') )\n",
    "        FORMAT Regexp\n",
    "        SETTINGS format_regexp='[<|\\\"|_](.+?)[\\s][<|\\\"|_](.+?)[\\s][<|\\\"|_](.+?)[\\s\\.]',\n",
    "                 format_regexp_escaping_rule='Escaped'\n",
    "`"
   ]
  },
  {
   "cell_type": "markdown",
   "source": [
    "### File list for uploading"
   ],
   "metadata": {
    "collapsed": false
   }
  },
  {
   "cell_type": "code",
   "execution_count": 4,
   "outputs": [],
   "source": [
    "file_names = ['caligraph-instances_dbpedia-mapping.nt',\n",
    "              'caligraph-instances_relations.nt',\n",
    "              'caligraph-instances_provenance.nt',\n",
    "              'caligraph-instances_types.nt',\n",
    "              'caligraph-instances_labels.nt',\n",
    "              'caligraph-instances_transitive-types.nt',\n",
    "              'caligraph-ontology.nt',\n",
    "              'caligraph-ontology_provenance.nt',\n",
    "              'caligraph-ontology_dbpedia-mapping.nt',\n",
    "              'dbpedia_caligraph-relations.nt',\n",
    "              'dbpedia_caligraph-types.nt',\n",
    "              'dbpedia_caligraph-instances.nt']"
   ],
   "metadata": {
    "collapsed": false,
    "pycharm": {
     "name": "#%%\n"
    }
   }
  },
  {
   "cell_type": "markdown",
   "source": [
    "### Code"
   ],
   "metadata": {
    "collapsed": false
   }
  },
  {
   "cell_type": "code",
   "execution_count": 17,
   "outputs": [],
   "source": [
    "def upload_to_ch(file_name, dir_url=DIR_URL, transformation=True, gz=False, file_type='nt', target_table='knowledge_graph_raw'):\n",
    "    file_url = dir_url + file_name\n",
    "    if file_type == 'csv':\n",
    "        insert_query = '''INSERT INTO {0}\n",
    "                   SELECT\n",
    "                        '{1}',\n",
    "                        subject,\n",
    "                        predicate,\n",
    "                        object\n",
    "                   FROM input('index String, subject String, predicate String, object String')\n",
    "                   FORMAT CSV\n",
    "                '''.format(target_table, file_name)\n",
    "    elif file_type == 'nt' and transformation and gz:\n",
    "        insert_query = '''INSERT INTO {0}\n",
    "                   SELECT\n",
    "                        '{1}',\n",
    "                        subject,\n",
    "                        object = '' OR object is Null? Null: predicate,\n",
    "                        object = '' OR object is Null? predicate: object\n",
    "                   FROM (\n",
    "                        SELECT\n",
    "                            replace(subject_, 'http://', '') as subject,\n",
    "                            replace(predicate_, 'http://', '') as predicate,\n",
    "                            replace(object_, 'http://', '') as object\n",
    "                        FROM input('subject_ String, predicate_ String, object_ String') )\n",
    "                        FORMAT Regexp\n",
    "                        SETTINGS format_regexp='[<|\\\"|_](.+?)[\\s][<|\\\"|_](.+?)[\\s][<|\\\"|_](.+?)[\\s\\.]', format_regexp_escaping_rule='Escaped'\n",
    "                '''.format(target_table, file_name)\n",
    "    elif file_type == 'nt' and transformation:\n",
    "        insert_query = '''INSERT INTO {0}\n",
    "                   SELECT\n",
    "                        '{1}',\n",
    "                        subject,\n",
    "                        object = '' OR object is Null? Null: predicate,\n",
    "                        object = '' OR object is Null? predicate: object\n",
    "                   FROM (\n",
    "                        SELECT\n",
    "                            replace(subject_, 'http://', '') as subject,\n",
    "                            replace(predicate_, 'http://', '') as predicate,\n",
    "                            replace(object_, 'http://', '') as object\n",
    "                        FROM input('subject_ String, predicate_ String, object_ String') )\n",
    "                        FORMAT Regexp\n",
    "                        SETTINGS format_regexp='[<|\\\\\"](.+?)[>|\\\\\"] [<|\\\\\"](.+?)[>|\\\\\"] [<|\\\\\"](.+?)[>|\\\\\"]\\s\\.', format_regexp_escaping_rule='Escaped'\n",
    "                '''.format(target_table, file_name)\n",
    "\n",
    "    elif file_name[-2:] == 'nt':\n",
    "        insert_query = '''INSERT INTO knowledge_graph_raw\n",
    "                   SELECT\n",
    "                        '{0}',\n",
    "                        subject_,\n",
    "                        object_ = '' OR object_ is Null? Null: predicate_,\n",
    "                        object_ = '' OR object_ is Null? predicate_: object_\n",
    "                   FROM input('subject_ String, predicate_ String, object_ String')\n",
    "                        FORMAT Regexp\n",
    "                        SETTINGS format_regexp='([<|\\\\\"].+?[>|\\\\\"])\\s([<|\\\\\"].+?[>|\\\\\"])\\s([<|\\\\\"].+?[>|\\\\\"])\\s\\.', format_regexp_escaping_rule='Escaped'\n",
    "                '''.format(file_name)\n",
    "    else:\n",
    "        print('Unsupported file type')\n",
    "        return\n",
    "    insert_query = insert_query.replace('\\n', '')\n",
    "\n",
    "    bash_command = '''cat {0} | clickhouse-client --query \"{1}\" '''.format(file_url, insert_query)\n",
    "    if gz:\n",
    "        bash_command = 'z' + bash_command\n",
    "    result = system(bash_command)\n",
    "    if result==0:\n",
    "        print(f'{file_name} successfully uploaded')\n",
    "    else:\n",
    "        print(f'{file_name} not uploaded, error code {result}')"
   ],
   "metadata": {
    "collapsed": false,
    "pycharm": {
     "name": "#%%\n"
    }
   }
  },
  {
   "cell_type": "code",
   "execution_count": 6,
   "outputs": [
    {
     "name": "stdout",
     "output_type": "stream",
     "text": [
      "caligraph-instances_dbpedia-mapping.nt successfully uploaded\n",
      "caligraph-instances_relations.nt successfully uploaded\n",
      "caligraph-instances_provenance.nt successfully uploaded\n",
      "caligraph-instances_types.nt successfully uploaded\n",
      "caligraph-instances_labels.nt successfully uploaded\n",
      "caligraph-instances_transitive-types.nt successfully uploaded\n",
      "caligraph-ontology.nt successfully uploaded\n",
      "caligraph-ontology_provenance.nt successfully uploaded\n",
      "caligraph-ontology_dbpedia-mapping.nt successfully uploaded\n",
      "dbpedia_caligraph-relations.nt successfully uploaded\n",
      "dbpedia_caligraph-types.nt successfully uploaded\n",
      "dbpedia_caligraph-instances.nt successfully uploaded\n"
     ]
    }
   ],
   "source": [
    "for file_name in file_names:\n",
    "    upload_to_ch(file_name, transformation=False)"
   ],
   "metadata": {
    "collapsed": false,
    "pycharm": {
     "name": "#%%\n"
    }
   }
  },
  {
   "cell_type": "code",
   "execution_count": 7,
   "outputs": [
    {
     "name": "stdout",
     "output_type": "stream",
     "text": [
      "Number of links: 125,638,829\n"
     ]
    }
   ],
   "source": [
    "print(f\"Number of links: {execute('SELECT count() FROM knowledge_graph_raw')[0][0]:>,}\")"
   ],
   "metadata": {
    "collapsed": false,
    "pycharm": {
     "name": "#%%\n"
    }
   }
  },
  {
   "cell_type": "code",
   "execution_count": 8,
   "outputs": [
    {
     "name": "stdout",
     "output_type": "stream",
     "text": [
      "Example of data\n"
     ]
    },
    {
     "data": {
      "text/plain": "                                    source  \\\n0   caligraph-instances_dbpedia-mapping.nt   \n1   caligraph-instances_dbpedia-mapping.nt   \n2   caligraph-instances_dbpedia-mapping.nt   \n3   caligraph-instances_dbpedia-mapping.nt   \n4   caligraph-instances_dbpedia-mapping.nt   \n5   caligraph-instances_dbpedia-mapping.nt   \n6   caligraph-instances_dbpedia-mapping.nt   \n7   caligraph-instances_dbpedia-mapping.nt   \n8   caligraph-instances_dbpedia-mapping.nt   \n9   caligraph-instances_dbpedia-mapping.nt   \n10  caligraph-instances_dbpedia-mapping.nt   \n11  caligraph-instances_dbpedia-mapping.nt   \n12  caligraph-instances_dbpedia-mapping.nt   \n13  caligraph-instances_dbpedia-mapping.nt   \n14  caligraph-instances_dbpedia-mapping.nt   \n15  caligraph-instances_dbpedia-mapping.nt   \n16  caligraph-instances_dbpedia-mapping.nt   \n17  caligraph-instances_dbpedia-mapping.nt   \n18  caligraph-instances_dbpedia-mapping.nt   \n19  caligraph-instances_dbpedia-mapping.nt   \n\n                                              subject  \\\n0                 <http://caligraph.org/resource/!!!>   \n1         <http://caligraph.org/resource/!!!_(album)>   \n2   <http://caligraph.org/resource/!!Destroy-Oh-Bo...   \n3       <http://caligraph.org/resource/!Action_Pact!>   \n4   <http://caligraph.org/resource/!Arriba!_La_Pac...   \n5               <http://caligraph.org/resource/!Hero>   \n6       <http://caligraph.org/resource/!Hero_(album)>   \n7      <http://caligraph.org/resource/!Kung_language>   \n8          <http://caligraph.org/resource/!Oka_Tokat>   \n9              <http://caligraph.org/resource/!PAUS3>   \n10         <http://caligraph.org/resource/!T.O.O.H.!>   \n11            <http://caligraph.org/resource/!WOWOW!>   \n12  <http://caligraph.org/resource/!Women_Art_Revo...   \n13  <http://caligraph.org/resource/!_(The_Dismembe...   \n14      <http://caligraph.org/resource/$1,000_Reward>   \n15  <http://caligraph.org/resource/$1,000_a_Touchd...   \n16      <http://caligraph.org/resource/$1,000_genome>   \n17     <http://caligraph.org/resource/$1.99_Romances>   \n18  <http://caligraph.org/resource/$100,000_Fortun...   \n19   <http://caligraph.org/resource/$100,000_infield>   \n\n                                 predicate  \\\n0   <http://www.w3.org/2002/07/owl#sameAs>   \n1   <http://www.w3.org/2002/07/owl#sameAs>   \n2   <http://www.w3.org/2002/07/owl#sameAs>   \n3   <http://www.w3.org/2002/07/owl#sameAs>   \n4   <http://www.w3.org/2002/07/owl#sameAs>   \n5   <http://www.w3.org/2002/07/owl#sameAs>   \n6   <http://www.w3.org/2002/07/owl#sameAs>   \n7   <http://www.w3.org/2002/07/owl#sameAs>   \n8   <http://www.w3.org/2002/07/owl#sameAs>   \n9   <http://www.w3.org/2002/07/owl#sameAs>   \n10  <http://www.w3.org/2002/07/owl#sameAs>   \n11  <http://www.w3.org/2002/07/owl#sameAs>   \n12  <http://www.w3.org/2002/07/owl#sameAs>   \n13  <http://www.w3.org/2002/07/owl#sameAs>   \n14  <http://www.w3.org/2002/07/owl#sameAs>   \n15  <http://www.w3.org/2002/07/owl#sameAs>   \n16  <http://www.w3.org/2002/07/owl#sameAs>   \n17  <http://www.w3.org/2002/07/owl#sameAs>   \n18  <http://www.w3.org/2002/07/owl#sameAs>   \n19  <http://www.w3.org/2002/07/owl#sameAs>   \n\n                                               object  \n0                   <http://dbpedia.org/resource/!!!>  \n1           <http://dbpedia.org/resource/!!!_(album)>  \n2    <http://dbpedia.org/resource/!!Destroy-Oh-Boy!!>  \n3         <http://dbpedia.org/resource/!Action_Pact!>  \n4   <http://dbpedia.org/resource/!Arriba!_La_Pacha...  \n5                 <http://dbpedia.org/resource/!Hero>  \n6         <http://dbpedia.org/resource/!Hero_(album)>  \n7        <http://dbpedia.org/resource/!Kung_language>  \n8            <http://dbpedia.org/resource/!Oka_Tokat>  \n9                <http://dbpedia.org/resource/!PAUS3>  \n10           <http://dbpedia.org/resource/!T.O.O.H.!>  \n11              <http://dbpedia.org/resource/!WOWOW!>  \n12  <http://dbpedia.org/resource/!Women_Art_Revolu...  \n13  <http://dbpedia.org/resource/!_(The_Dismemberm...  \n14        <http://dbpedia.org/resource/$1,000_Reward>  \n15   <http://dbpedia.org/resource/$1,000_a_Touchdown>  \n16        <http://dbpedia.org/resource/$1,000_genome>  \n17       <http://dbpedia.org/resource/$1.99_Romances>  \n18  <http://dbpedia.org/resource/$100,000_Fortune_...  \n19     <http://dbpedia.org/resource/$100,000_infield>  ",
      "text/html": "<div>\n<style scoped>\n    .dataframe tbody tr th:only-of-type {\n        vertical-align: middle;\n    }\n\n    .dataframe tbody tr th {\n        vertical-align: top;\n    }\n\n    .dataframe thead th {\n        text-align: right;\n    }\n</style>\n<table border=\"1\" class=\"dataframe\">\n  <thead>\n    <tr style=\"text-align: right;\">\n      <th></th>\n      <th>source</th>\n      <th>subject</th>\n      <th>predicate</th>\n      <th>object</th>\n    </tr>\n  </thead>\n  <tbody>\n    <tr>\n      <th>0</th>\n      <td>caligraph-instances_dbpedia-mapping.nt</td>\n      <td>&lt;http://caligraph.org/resource/!!!&gt;</td>\n      <td>&lt;http://www.w3.org/2002/07/owl#sameAs&gt;</td>\n      <td>&lt;http://dbpedia.org/resource/!!!&gt;</td>\n    </tr>\n    <tr>\n      <th>1</th>\n      <td>caligraph-instances_dbpedia-mapping.nt</td>\n      <td>&lt;http://caligraph.org/resource/!!!_(album)&gt;</td>\n      <td>&lt;http://www.w3.org/2002/07/owl#sameAs&gt;</td>\n      <td>&lt;http://dbpedia.org/resource/!!!_(album)&gt;</td>\n    </tr>\n    <tr>\n      <th>2</th>\n      <td>caligraph-instances_dbpedia-mapping.nt</td>\n      <td>&lt;http://caligraph.org/resource/!!Destroy-Oh-Bo...</td>\n      <td>&lt;http://www.w3.org/2002/07/owl#sameAs&gt;</td>\n      <td>&lt;http://dbpedia.org/resource/!!Destroy-Oh-Boy!!&gt;</td>\n    </tr>\n    <tr>\n      <th>3</th>\n      <td>caligraph-instances_dbpedia-mapping.nt</td>\n      <td>&lt;http://caligraph.org/resource/!Action_Pact!&gt;</td>\n      <td>&lt;http://www.w3.org/2002/07/owl#sameAs&gt;</td>\n      <td>&lt;http://dbpedia.org/resource/!Action_Pact!&gt;</td>\n    </tr>\n    <tr>\n      <th>4</th>\n      <td>caligraph-instances_dbpedia-mapping.nt</td>\n      <td>&lt;http://caligraph.org/resource/!Arriba!_La_Pac...</td>\n      <td>&lt;http://www.w3.org/2002/07/owl#sameAs&gt;</td>\n      <td>&lt;http://dbpedia.org/resource/!Arriba!_La_Pacha...</td>\n    </tr>\n    <tr>\n      <th>5</th>\n      <td>caligraph-instances_dbpedia-mapping.nt</td>\n      <td>&lt;http://caligraph.org/resource/!Hero&gt;</td>\n      <td>&lt;http://www.w3.org/2002/07/owl#sameAs&gt;</td>\n      <td>&lt;http://dbpedia.org/resource/!Hero&gt;</td>\n    </tr>\n    <tr>\n      <th>6</th>\n      <td>caligraph-instances_dbpedia-mapping.nt</td>\n      <td>&lt;http://caligraph.org/resource/!Hero_(album)&gt;</td>\n      <td>&lt;http://www.w3.org/2002/07/owl#sameAs&gt;</td>\n      <td>&lt;http://dbpedia.org/resource/!Hero_(album)&gt;</td>\n    </tr>\n    <tr>\n      <th>7</th>\n      <td>caligraph-instances_dbpedia-mapping.nt</td>\n      <td>&lt;http://caligraph.org/resource/!Kung_language&gt;</td>\n      <td>&lt;http://www.w3.org/2002/07/owl#sameAs&gt;</td>\n      <td>&lt;http://dbpedia.org/resource/!Kung_language&gt;</td>\n    </tr>\n    <tr>\n      <th>8</th>\n      <td>caligraph-instances_dbpedia-mapping.nt</td>\n      <td>&lt;http://caligraph.org/resource/!Oka_Tokat&gt;</td>\n      <td>&lt;http://www.w3.org/2002/07/owl#sameAs&gt;</td>\n      <td>&lt;http://dbpedia.org/resource/!Oka_Tokat&gt;</td>\n    </tr>\n    <tr>\n      <th>9</th>\n      <td>caligraph-instances_dbpedia-mapping.nt</td>\n      <td>&lt;http://caligraph.org/resource/!PAUS3&gt;</td>\n      <td>&lt;http://www.w3.org/2002/07/owl#sameAs&gt;</td>\n      <td>&lt;http://dbpedia.org/resource/!PAUS3&gt;</td>\n    </tr>\n    <tr>\n      <th>10</th>\n      <td>caligraph-instances_dbpedia-mapping.nt</td>\n      <td>&lt;http://caligraph.org/resource/!T.O.O.H.!&gt;</td>\n      <td>&lt;http://www.w3.org/2002/07/owl#sameAs&gt;</td>\n      <td>&lt;http://dbpedia.org/resource/!T.O.O.H.!&gt;</td>\n    </tr>\n    <tr>\n      <th>11</th>\n      <td>caligraph-instances_dbpedia-mapping.nt</td>\n      <td>&lt;http://caligraph.org/resource/!WOWOW!&gt;</td>\n      <td>&lt;http://www.w3.org/2002/07/owl#sameAs&gt;</td>\n      <td>&lt;http://dbpedia.org/resource/!WOWOW!&gt;</td>\n    </tr>\n    <tr>\n      <th>12</th>\n      <td>caligraph-instances_dbpedia-mapping.nt</td>\n      <td>&lt;http://caligraph.org/resource/!Women_Art_Revo...</td>\n      <td>&lt;http://www.w3.org/2002/07/owl#sameAs&gt;</td>\n      <td>&lt;http://dbpedia.org/resource/!Women_Art_Revolu...</td>\n    </tr>\n    <tr>\n      <th>13</th>\n      <td>caligraph-instances_dbpedia-mapping.nt</td>\n      <td>&lt;http://caligraph.org/resource/!_(The_Dismembe...</td>\n      <td>&lt;http://www.w3.org/2002/07/owl#sameAs&gt;</td>\n      <td>&lt;http://dbpedia.org/resource/!_(The_Dismemberm...</td>\n    </tr>\n    <tr>\n      <th>14</th>\n      <td>caligraph-instances_dbpedia-mapping.nt</td>\n      <td>&lt;http://caligraph.org/resource/$1,000_Reward&gt;</td>\n      <td>&lt;http://www.w3.org/2002/07/owl#sameAs&gt;</td>\n      <td>&lt;http://dbpedia.org/resource/$1,000_Reward&gt;</td>\n    </tr>\n    <tr>\n      <th>15</th>\n      <td>caligraph-instances_dbpedia-mapping.nt</td>\n      <td>&lt;http://caligraph.org/resource/$1,000_a_Touchd...</td>\n      <td>&lt;http://www.w3.org/2002/07/owl#sameAs&gt;</td>\n      <td>&lt;http://dbpedia.org/resource/$1,000_a_Touchdown&gt;</td>\n    </tr>\n    <tr>\n      <th>16</th>\n      <td>caligraph-instances_dbpedia-mapping.nt</td>\n      <td>&lt;http://caligraph.org/resource/$1,000_genome&gt;</td>\n      <td>&lt;http://www.w3.org/2002/07/owl#sameAs&gt;</td>\n      <td>&lt;http://dbpedia.org/resource/$1,000_genome&gt;</td>\n    </tr>\n    <tr>\n      <th>17</th>\n      <td>caligraph-instances_dbpedia-mapping.nt</td>\n      <td>&lt;http://caligraph.org/resource/$1.99_Romances&gt;</td>\n      <td>&lt;http://www.w3.org/2002/07/owl#sameAs&gt;</td>\n      <td>&lt;http://dbpedia.org/resource/$1.99_Romances&gt;</td>\n    </tr>\n    <tr>\n      <th>18</th>\n      <td>caligraph-instances_dbpedia-mapping.nt</td>\n      <td>&lt;http://caligraph.org/resource/$100,000_Fortun...</td>\n      <td>&lt;http://www.w3.org/2002/07/owl#sameAs&gt;</td>\n      <td>&lt;http://dbpedia.org/resource/$100,000_Fortune_...</td>\n    </tr>\n    <tr>\n      <th>19</th>\n      <td>caligraph-instances_dbpedia-mapping.nt</td>\n      <td>&lt;http://caligraph.org/resource/$100,000_infield&gt;</td>\n      <td>&lt;http://www.w3.org/2002/07/owl#sameAs&gt;</td>\n      <td>&lt;http://dbpedia.org/resource/$100,000_infield&gt;</td>\n    </tr>\n  </tbody>\n</table>\n</div>"
     },
     "execution_count": 8,
     "metadata": {},
     "output_type": "execute_result"
    }
   ],
   "source": [
    "print('Example of data')\n",
    "load_from_ch_to_df('SELECT * FROM knowledge_graph_raw LIMIT 20', columns=['source', 'subject', 'predicate', 'object'])"
   ],
   "metadata": {
    "collapsed": false,
    "pycharm": {
     "name": "#%%\n"
    }
   }
  },
  {
   "cell_type": "markdown",
   "source": [
    "## Upload Wikidata from gz-archive"
   ],
   "metadata": {
    "collapsed": false,
    "pycharm": {
     "name": "#%%\nmd\n"
    }
   }
  },
  {
   "cell_type": "code",
   "execution_count": 9,
   "outputs": [],
   "source": [
    "upload_to_ch(file_name='latest-truthy.nt.gz',\n",
    "             dir_url='Wikidata/',\n",
    "             gz=True,\n",
    "             transformation=True,\n",
    "             target_table='knowledge_graph_wikidata_raw')"
   ],
   "metadata": {
    "collapsed": false,
    "pycharm": {
     "name": "#%%\n"
    }
   }
  },
  {
   "cell_type": "code",
   "execution_count": 9,
   "outputs": [],
   "source": [],
   "metadata": {
    "collapsed": false,
    "pycharm": {
     "name": "#%%\n"
    }
   }
  }
 ],
 "metadata": {
  "kernelspec": {
   "display_name": "Python 3",
   "language": "python",
   "name": "python3"
  },
  "language_info": {
   "codemirror_mode": {
    "name": "ipython",
    "version": 3
   },
   "file_extension": ".py",
   "mimetype": "text/x-python",
   "name": "python",
   "nbconvert_exporter": "python",
   "pygments_lexer": "ipython3",
   "version": "3.8.5"
  }
 },
 "nbformat": 4,
 "nbformat_minor": 4
}